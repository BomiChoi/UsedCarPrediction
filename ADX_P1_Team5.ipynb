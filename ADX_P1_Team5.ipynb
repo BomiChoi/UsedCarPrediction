{
 "cells": [
  {
   "cell_type": "markdown",
   "metadata": {
    "id": "jmJIMFiGY8z7"
   },
   "source": [
    "## 1. Environmental Set-up & Data Loading\n",
    "\n",
    "---\n",
    "\n"
   ]
  },
  {
   "cell_type": "code",
   "execution_count": 1,
   "metadata": {
    "colab": {
     "base_uri": "https://localhost:8080/",
     "height": 35
    },
    "id": "O0gYBOy1WV5L",
    "outputId": "26f7ecb1-4ffd-4662-81bf-a6ce04f1efd4"
   },
   "outputs": [],
   "source": [
    "# from google.colab import drive\n",
    "# drive.mount('/content/drive', force_remount=True)"
   ]
  },
  {
   "cell_type": "code",
   "execution_count": 2,
   "metadata": {
    "colab": {
     "base_uri": "https://localhost:8080/",
     "height": 35
    },
    "id": "Hv9UTufKWzMf",
    "outputId": "db6c331d-bf56-42a1-808a-5bff74bac298"
   },
   "outputs": [],
   "source": [
    "# cd /content/drive/My Drive/ADX"
   ]
  },
  {
   "cell_type": "code",
   "execution_count": 3,
   "metadata": {
    "id": "PMme3EbuXAco"
   },
   "outputs": [],
   "source": [
    "# import random\n",
    "import numpy as np\n",
    "import matplotlib.pyplot as plt\n",
    "import pandas as pd"
   ]
  },
  {
   "cell_type": "code",
   "execution_count": 4,
   "metadata": {
    "colab": {
     "base_uri": "https://localhost:8080/",
     "height": 647
    },
    "id": "gM4xGZvrW4FG",
    "outputId": "f11d91f5-4036-4a6b-fe1f-75dd2040f50d"
   },
   "outputs": [],
   "source": [
    "# 한글 나눔포트 사용\n",
    "# !sudo apt-get install -y fonts-nanum\n",
    "# !sudo fc-cache -fv\n",
    "# !rm ~/.cache/matplotlib -rf\n",
    "\n",
    "# # 모델 수립을 위한 Train/Validation Set\n",
    "# df = pd.read_csv('/content/drive/My Drive/ADX/Kia_dataset.csv', encoding ='cp949')  # 한글 Encoding 문제로 encoding = 'cp949'\n",
    "\n",
    "# # 시스템 구현을 위한 Test Set 샘플\n",
    "# df_test = pd.read_csv('/content/drive/My Drive/ADX/Kia_testset_sample.csv', encoding ='cp949')  # 한글 Encoding 문제로 encoding = 'cp949'"
   ]
  },
  {
   "cell_type": "code",
   "execution_count": 5,
   "metadata": {},
   "outputs": [],
   "source": [
    "# 모델 수립을 위한 Train/Validation Set\n",
    "df = pd.read_csv('Kia_dataset.csv', encoding ='cp949')  # 한글 Encoding 문제로 encoding = 'cp949'\n",
    "\n",
    "# 시스템 구현을 위한 Test Set 샘플\n",
    "df_test = pd.read_csv('Kia_testset_sample.csv', encoding ='cp949')  # 한글 Encoding 문제로 encoding = 'cp949'"
   ]
  },
  {
   "cell_type": "code",
   "execution_count": 6,
   "metadata": {
    "colab": {
     "base_uri": "https://localhost:8080/",
     "height": 525
    },
    "id": "jkEwKTQHXPGn",
    "outputId": "bea54024-bf32-41a2-9df9-3363544de422"
   },
   "outputs": [
    {
     "data": {
      "text/html": [
       "<div>\n",
       "<style scoped>\n",
       "    .dataframe tbody tr th:only-of-type {\n",
       "        vertical-align: middle;\n",
       "    }\n",
       "\n",
       "    .dataframe tbody tr th {\n",
       "        vertical-align: top;\n",
       "    }\n",
       "\n",
       "    .dataframe thead th {\n",
       "        text-align: right;\n",
       "    }\n",
       "</style>\n",
       "<table border=\"1\" class=\"dataframe\">\n",
       "  <thead>\n",
       "    <tr style=\"text-align: right;\">\n",
       "      <th></th>\n",
       "      <th>GOODNO</th>\n",
       "      <th>SUCCYMD</th>\n",
       "      <th>CARNM</th>\n",
       "      <th>CHASNO</th>\n",
       "      <th>CARREGIYMD</th>\n",
       "      <th>YEAR</th>\n",
       "      <th>MISSNM</th>\n",
       "      <th>FUELNM</th>\n",
       "      <th>COLOR</th>\n",
       "      <th>EXHA</th>\n",
       "      <th>...</th>\n",
       "      <th>SUNLOOPPANORAMA</th>\n",
       "      <th>SUNLOOPCOMMON</th>\n",
       "      <th>SUNLOOPDUAL</th>\n",
       "      <th>DIS</th>\n",
       "      <th>TCS</th>\n",
       "      <th>AB1</th>\n",
       "      <th>ETC</th>\n",
       "      <th>AV</th>\n",
       "      <th>EPS</th>\n",
       "      <th>ECS</th>\n",
       "    </tr>\n",
       "  </thead>\n",
       "  <tbody>\n",
       "    <tr>\n",
       "      <td>0</td>\n",
       "      <td>1512A2469</td>\n",
       "      <td>20160105</td>\n",
       "      <td>모닝 LPi LX 기본 블랙 프리미엄</td>\n",
       "      <td>KNABK518BBT020038</td>\n",
       "      <td>20100616.0</td>\n",
       "      <td>2011</td>\n",
       "      <td>A/T</td>\n",
       "      <td>LPG</td>\n",
       "      <td>C</td>\n",
       "      <td>1000</td>\n",
       "      <td>...</td>\n",
       "      <td>0</td>\n",
       "      <td>0</td>\n",
       "      <td>0</td>\n",
       "      <td>0</td>\n",
       "      <td>0</td>\n",
       "      <td>1</td>\n",
       "      <td>0</td>\n",
       "      <td>0</td>\n",
       "      <td>0</td>\n",
       "      <td>0</td>\n",
       "    </tr>\n",
       "    <tr>\n",
       "      <td>1</td>\n",
       "      <td>1512A2364</td>\n",
       "      <td>20160105</td>\n",
       "      <td>K3 1.6 가솔린(4도어) Nobless</td>\n",
       "      <td>KNAFZ412BDA040155</td>\n",
       "      <td>20130207.0</td>\n",
       "      <td>2013</td>\n",
       "      <td>A/T</td>\n",
       "      <td>가솔린</td>\n",
       "      <td>A</td>\n",
       "      <td>1600</td>\n",
       "      <td>...</td>\n",
       "      <td>0</td>\n",
       "      <td>0</td>\n",
       "      <td>0</td>\n",
       "      <td>0</td>\n",
       "      <td>0</td>\n",
       "      <td>0</td>\n",
       "      <td>0</td>\n",
       "      <td>1</td>\n",
       "      <td>0</td>\n",
       "      <td>0</td>\n",
       "    </tr>\n",
       "    <tr>\n",
       "      <td>2</td>\n",
       "      <td>1512A2319</td>\n",
       "      <td>20160105</td>\n",
       "      <td>K3 1.6 가솔린(4도어) Trendy</td>\n",
       "      <td>KNAFK412BEA206484</td>\n",
       "      <td>20140128.0</td>\n",
       "      <td>2014</td>\n",
       "      <td>A/T</td>\n",
       "      <td>가솔린</td>\n",
       "      <td>A</td>\n",
       "      <td>1591</td>\n",
       "      <td>...</td>\n",
       "      <td>0</td>\n",
       "      <td>0</td>\n",
       "      <td>0</td>\n",
       "      <td>0</td>\n",
       "      <td>0</td>\n",
       "      <td>0</td>\n",
       "      <td>0</td>\n",
       "      <td>1</td>\n",
       "      <td>0</td>\n",
       "      <td>0</td>\n",
       "    </tr>\n",
       "    <tr>\n",
       "      <td>3</td>\n",
       "      <td>1512A1643</td>\n",
       "      <td>20160105</td>\n",
       "      <td>K5 2.0LPI 렌터카 디럭스</td>\n",
       "      <td>KNAGN418BDA366086</td>\n",
       "      <td>20121218.0</td>\n",
       "      <td>2013</td>\n",
       "      <td>A/T</td>\n",
       "      <td>LPG</td>\n",
       "      <td>B</td>\n",
       "      <td>2000</td>\n",
       "      <td>...</td>\n",
       "      <td>0</td>\n",
       "      <td>0</td>\n",
       "      <td>0</td>\n",
       "      <td>0</td>\n",
       "      <td>0</td>\n",
       "      <td>0</td>\n",
       "      <td>0</td>\n",
       "      <td>0</td>\n",
       "      <td>0</td>\n",
       "      <td>0</td>\n",
       "    </tr>\n",
       "    <tr>\n",
       "      <td>4</td>\n",
       "      <td>1512A1371</td>\n",
       "      <td>20160105</td>\n",
       "      <td>K5 2.0LPI 렌터카 스마트</td>\n",
       "      <td>KNAGN415BBA140279</td>\n",
       "      <td>20110428.0</td>\n",
       "      <td>2011</td>\n",
       "      <td>A/T</td>\n",
       "      <td>LPG</td>\n",
       "      <td>D</td>\n",
       "      <td>2000</td>\n",
       "      <td>...</td>\n",
       "      <td>0</td>\n",
       "      <td>0</td>\n",
       "      <td>0</td>\n",
       "      <td>0</td>\n",
       "      <td>0</td>\n",
       "      <td>0</td>\n",
       "      <td>0</td>\n",
       "      <td>0</td>\n",
       "      <td>0</td>\n",
       "      <td>0</td>\n",
       "    </tr>\n",
       "  </tbody>\n",
       "</table>\n",
       "<p>5 rows × 104 columns</p>\n",
       "</div>"
      ],
      "text/plain": [
       "      GOODNO   SUCCYMD                     CARNM             CHASNO  \\\n",
       "0  1512A2469  20160105     모닝 LPi LX 기본 블랙 프리미엄   KNABK518BBT020038   \n",
       "1  1512A2364  20160105  K3 1.6 가솔린(4도어) Nobless   KNAFZ412BDA040155   \n",
       "2  1512A2319  20160105   K3 1.6 가솔린(4도어) Trendy   KNAFK412BEA206484   \n",
       "3  1512A1643  20160105        K5 2.0LPI 렌터카 디럭스   KNAGN418BDA366086   \n",
       "4  1512A1371  20160105        K5 2.0LPI 렌터카 스마트   KNAGN415BBA140279   \n",
       "\n",
       "   CARREGIYMD  YEAR MISSNM FUELNM COLOR  EXHA  ...  SUNLOOPPANORAMA  \\\n",
       "0  20100616.0  2011    A/T    LPG     C  1000  ...                0   \n",
       "1  20130207.0  2013    A/T    가솔린     A  1600  ...                0   \n",
       "2  20140128.0  2014    A/T    가솔린     A  1591  ...                0   \n",
       "3  20121218.0  2013    A/T    LPG     B  2000  ...                0   \n",
       "4  20110428.0  2011    A/T    LPG     D  2000  ...                0   \n",
       "\n",
       "  SUNLOOPCOMMON SUNLOOPDUAL DIS  TCS  AB1 ETC  AV  EPS  ECS  \n",
       "0             0           0   0    0    1   0   0    0    0  \n",
       "1             0           0   0    0    0   0   1    0    0  \n",
       "2             0           0   0    0    0   0   1    0    0  \n",
       "3             0           0   0    0    0   0   0    0    0  \n",
       "4             0           0   0    0    0   0   0    0    0  \n",
       "\n",
       "[5 rows x 104 columns]"
      ]
     },
     "execution_count": 6,
     "metadata": {},
     "output_type": "execute_result"
    }
   ],
   "source": [
    "df.head()"
   ]
  },
  {
   "cell_type": "code",
   "execution_count": 7,
   "metadata": {
    "id": "VHxFcNZEXVZI"
   },
   "outputs": [],
   "source": [
    "original_data = df.copy()"
   ]
  },
  {
   "cell_type": "code",
   "execution_count": 8,
   "metadata": {
    "colab": {
     "base_uri": "https://localhost:8080/",
     "height": 53
    },
    "id": "ODHuT9qVXYze",
    "outputId": "23354861-3405-4c79-dcf9-b6299ac0b79d"
   },
   "outputs": [
    {
     "name": "stdout",
     "output_type": "stream",
     "text": [
      "Number_of_Observations :36794\n",
      "Number_of_Variables :104\n"
     ]
    }
   ],
   "source": [
    "#데이터의 기본 골자를 확인 \n",
    "print('Number_of_Observations :{}'.format(df.shape[0]))\n",
    "print('Number_of_Variables :{}'.format(df.shape[1]))"
   ]
  },
  {
   "cell_type": "code",
   "execution_count": 9,
   "metadata": {
    "colab": {
     "base_uri": "https://localhost:8080/",
     "height": 525
    },
    "id": "2bG6Sf37XY2a",
    "outputId": "d5cd5744-864d-4727-e89a-86210fbd1fbe"
   },
   "outputs": [
    {
     "data": {
      "text/html": [
       "<div>\n",
       "<style scoped>\n",
       "    .dataframe tbody tr th:only-of-type {\n",
       "        vertical-align: middle;\n",
       "    }\n",
       "\n",
       "    .dataframe tbody tr th {\n",
       "        vertical-align: top;\n",
       "    }\n",
       "\n",
       "    .dataframe thead th {\n",
       "        text-align: right;\n",
       "    }\n",
       "</style>\n",
       "<table border=\"1\" class=\"dataframe\">\n",
       "  <thead>\n",
       "    <tr style=\"text-align: right;\">\n",
       "      <th></th>\n",
       "      <th>GOODNO</th>\n",
       "      <th>SUCCYMD</th>\n",
       "      <th>CARNM</th>\n",
       "      <th>CHASNO</th>\n",
       "      <th>CARREGIYMD</th>\n",
       "      <th>YEAR</th>\n",
       "      <th>MISSNM</th>\n",
       "      <th>FUELNM</th>\n",
       "      <th>COLOR</th>\n",
       "      <th>EXHA</th>\n",
       "      <th>...</th>\n",
       "      <th>SUNLOOPPANORAMA</th>\n",
       "      <th>SUNLOOPCOMMON</th>\n",
       "      <th>SUNLOOPDUAL</th>\n",
       "      <th>DIS</th>\n",
       "      <th>TCS</th>\n",
       "      <th>AB1</th>\n",
       "      <th>ETC</th>\n",
       "      <th>AV</th>\n",
       "      <th>EPS</th>\n",
       "      <th>ECS</th>\n",
       "    </tr>\n",
       "  </thead>\n",
       "  <tbody>\n",
       "    <tr>\n",
       "      <td>0</td>\n",
       "      <td>1512A2469</td>\n",
       "      <td>20160105</td>\n",
       "      <td>모닝 LPi LX 기본 블랙 프리미엄</td>\n",
       "      <td>KNABK518BBT020038</td>\n",
       "      <td>20100616.0</td>\n",
       "      <td>2011</td>\n",
       "      <td>A/T</td>\n",
       "      <td>LPG</td>\n",
       "      <td>C</td>\n",
       "      <td>1000</td>\n",
       "      <td>...</td>\n",
       "      <td>0</td>\n",
       "      <td>0</td>\n",
       "      <td>0</td>\n",
       "      <td>0</td>\n",
       "      <td>0</td>\n",
       "      <td>1</td>\n",
       "      <td>0</td>\n",
       "      <td>0</td>\n",
       "      <td>0</td>\n",
       "      <td>0</td>\n",
       "    </tr>\n",
       "    <tr>\n",
       "      <td>1</td>\n",
       "      <td>1512A2364</td>\n",
       "      <td>20160105</td>\n",
       "      <td>K3 1.6 가솔린(4도어) Nobless</td>\n",
       "      <td>KNAFZ412BDA040155</td>\n",
       "      <td>20130207.0</td>\n",
       "      <td>2013</td>\n",
       "      <td>A/T</td>\n",
       "      <td>가솔린</td>\n",
       "      <td>A</td>\n",
       "      <td>1600</td>\n",
       "      <td>...</td>\n",
       "      <td>0</td>\n",
       "      <td>0</td>\n",
       "      <td>0</td>\n",
       "      <td>0</td>\n",
       "      <td>0</td>\n",
       "      <td>0</td>\n",
       "      <td>0</td>\n",
       "      <td>1</td>\n",
       "      <td>0</td>\n",
       "      <td>0</td>\n",
       "    </tr>\n",
       "    <tr>\n",
       "      <td>2</td>\n",
       "      <td>1512A2319</td>\n",
       "      <td>20160105</td>\n",
       "      <td>K3 1.6 가솔린(4도어) Trendy</td>\n",
       "      <td>KNAFK412BEA206484</td>\n",
       "      <td>20140128.0</td>\n",
       "      <td>2014</td>\n",
       "      <td>A/T</td>\n",
       "      <td>가솔린</td>\n",
       "      <td>A</td>\n",
       "      <td>1591</td>\n",
       "      <td>...</td>\n",
       "      <td>0</td>\n",
       "      <td>0</td>\n",
       "      <td>0</td>\n",
       "      <td>0</td>\n",
       "      <td>0</td>\n",
       "      <td>0</td>\n",
       "      <td>0</td>\n",
       "      <td>1</td>\n",
       "      <td>0</td>\n",
       "      <td>0</td>\n",
       "    </tr>\n",
       "    <tr>\n",
       "      <td>3</td>\n",
       "      <td>1512A1643</td>\n",
       "      <td>20160105</td>\n",
       "      <td>K5 2.0LPI 렌터카 디럭스</td>\n",
       "      <td>KNAGN418BDA366086</td>\n",
       "      <td>20121218.0</td>\n",
       "      <td>2013</td>\n",
       "      <td>A/T</td>\n",
       "      <td>LPG</td>\n",
       "      <td>B</td>\n",
       "      <td>2000</td>\n",
       "      <td>...</td>\n",
       "      <td>0</td>\n",
       "      <td>0</td>\n",
       "      <td>0</td>\n",
       "      <td>0</td>\n",
       "      <td>0</td>\n",
       "      <td>0</td>\n",
       "      <td>0</td>\n",
       "      <td>0</td>\n",
       "      <td>0</td>\n",
       "      <td>0</td>\n",
       "    </tr>\n",
       "    <tr>\n",
       "      <td>4</td>\n",
       "      <td>1512A1371</td>\n",
       "      <td>20160105</td>\n",
       "      <td>K5 2.0LPI 렌터카 스마트</td>\n",
       "      <td>KNAGN415BBA140279</td>\n",
       "      <td>20110428.0</td>\n",
       "      <td>2011</td>\n",
       "      <td>A/T</td>\n",
       "      <td>LPG</td>\n",
       "      <td>D</td>\n",
       "      <td>2000</td>\n",
       "      <td>...</td>\n",
       "      <td>0</td>\n",
       "      <td>0</td>\n",
       "      <td>0</td>\n",
       "      <td>0</td>\n",
       "      <td>0</td>\n",
       "      <td>0</td>\n",
       "      <td>0</td>\n",
       "      <td>0</td>\n",
       "      <td>0</td>\n",
       "      <td>0</td>\n",
       "    </tr>\n",
       "  </tbody>\n",
       "</table>\n",
       "<p>5 rows × 104 columns</p>\n",
       "</div>"
      ],
      "text/plain": [
       "      GOODNO   SUCCYMD                     CARNM             CHASNO  \\\n",
       "0  1512A2469  20160105     모닝 LPi LX 기본 블랙 프리미엄   KNABK518BBT020038   \n",
       "1  1512A2364  20160105  K3 1.6 가솔린(4도어) Nobless   KNAFZ412BDA040155   \n",
       "2  1512A2319  20160105   K3 1.6 가솔린(4도어) Trendy   KNAFK412BEA206484   \n",
       "3  1512A1643  20160105        K5 2.0LPI 렌터카 디럭스   KNAGN418BDA366086   \n",
       "4  1512A1371  20160105        K5 2.0LPI 렌터카 스마트   KNAGN415BBA140279   \n",
       "\n",
       "   CARREGIYMD  YEAR MISSNM FUELNM COLOR  EXHA  ...  SUNLOOPPANORAMA  \\\n",
       "0  20100616.0  2011    A/T    LPG     C  1000  ...                0   \n",
       "1  20130207.0  2013    A/T    가솔린     A  1600  ...                0   \n",
       "2  20140128.0  2014    A/T    가솔린     A  1591  ...                0   \n",
       "3  20121218.0  2013    A/T    LPG     B  2000  ...                0   \n",
       "4  20110428.0  2011    A/T    LPG     D  2000  ...                0   \n",
       "\n",
       "  SUNLOOPCOMMON SUNLOOPDUAL DIS  TCS  AB1 ETC  AV  EPS  ECS  \n",
       "0             0           0   0    0    1   0   0    0    0  \n",
       "1             0           0   0    0    0   0   1    0    0  \n",
       "2             0           0   0    0    0   0   1    0    0  \n",
       "3             0           0   0    0    0   0   0    0    0  \n",
       "4             0           0   0    0    0   0   0    0    0  \n",
       "\n",
       "[5 rows x 104 columns]"
      ]
     },
     "execution_count": 9,
     "metadata": {},
     "output_type": "execute_result"
    }
   ],
   "source": [
    "df.head()"
   ]
  },
  {
   "cell_type": "markdown",
   "metadata": {
    "id": "RbC--tP7ZRX-"
   },
   "source": [
    "## 2. Modelling"
   ]
  },
  {
   "cell_type": "markdown",
   "metadata": {
    "id": "Y5K3Bc3CZ2TE"
   },
   "source": [
    "## 1) *data preprocessing*"
   ]
  },
  {
   "cell_type": "code",
   "execution_count": 10,
   "metadata": {
    "id": "4vNOX_VgXY-Q"
   },
   "outputs": [],
   "source": [
    "# column 제거 \n",
    "\n",
    "# 차량의 ID는 필요가 없다고 판단하여 삭제하였다 \n",
    "# 차량ID('GOODNO') drop하는 함수\n",
    "def drop_ID(df):\n",
    "    \n",
    "    df = df.copy()\n",
    "    \n",
    "    if 'GOODNO' in df.columns:\n",
    "        \n",
    "        df.drop(columns='GOODNO', inplace=True)\n",
    "        \n",
    "    else:\n",
    "        \n",
    "        print(\"There is no such column: 'GOODNO'\")\n",
    "        \n",
    "    return df"
   ]
  },
  {
   "cell_type": "code",
   "execution_count": 11,
   "metadata": {
    "colab": {
     "base_uri": "https://localhost:8080/",
     "height": 35
    },
    "id": "elJp8H4GXZDc",
    "outputId": "739aff6d-971f-40ba-ce52-040a8eeeb123"
   },
   "outputs": [
    {
     "data": {
      "text/plain": [
       "(36794, 103)"
      ]
     },
     "execution_count": 11,
     "metadata": {},
     "output_type": "execute_result"
    }
   ],
   "source": [
    "#차량 아이디 제거\n",
    "df_1 = drop_ID(df)\n",
    "df_1.shape"
   ]
  },
  {
   "cell_type": "code",
   "execution_count": 12,
   "metadata": {
    "id": "TZZoeTPnXZIs"
   },
   "outputs": [],
   "source": [
    "#level 1 인 칼럼을 모두 제거해준다 \n",
    "#제거된 칼럼 이름을 출력하고 제거된 데이터를 반환해준다  \n",
    "def find_level_1(df):\n",
    "    \n",
    "    df = df.copy()\n",
    "    \n",
    "    level_1_index = []\n",
    "    \n",
    "    for i in df.columns:\n",
    "    \n",
    "        if len(set(df[i])) <=1:\n",
    "            \n",
    "            level_1_index.append(i)\n",
    "            \n",
    "    df.drop(level_1_index , axis=1 , inplace = True)\n",
    "    \n",
    "    print('Dropped columns : {}'.format(level_1_index))\n",
    "    \n",
    "    \n",
    "    return df"
   ]
  },
  {
   "cell_type": "code",
   "execution_count": 13,
   "metadata": {
    "colab": {
     "base_uri": "https://localhost:8080/",
     "height": 73
    },
    "id": "9xeFlHNEXZLb",
    "outputId": "3deee68c-708d-4811-b33c-f309c5a18a43"
   },
   "outputs": [
    {
     "name": "stdout",
     "output_type": "stream",
     "text": [
      "Dropped columns : ['FRONT_RIGHT_FENDER', 'FRONT_LEFT_DOOR', 'BACK_RIGHT_DOOR', 'FRONT_PANNEL', 'RIGHT_STEP', 'LEFT_FILER_A', 'RIGHT_FILER_A', 'LEFT_FILER_B', 'RIGHT_FILER_B', 'LEFT_FILER_C', 'LEFT_REAR_FENDER', 'BACK_PANEL1', 'RIGHT_INSIDE_PANEL', 'LEFT_WHEEL_HOUSE', 'RIGHT_WHEEL_HOUSE', 'LEFT_INSIDE_WHEEL_HOUSE', 'DASH_PANEL', 'SHEET_PANEL', 'LEFT_QUARTER', 'RIGHT_QUARTER', 'LEFT_SIDE_PANEL', 'LEFT_REAR_CORNER_PANEL', 'RIGHT_REAR_CORNER_PANEL', 'LEFT_CORNER_PANEL', 'RIGHT_CORNER_PANEL', 'LEFT_SKIRT_PANEL', 'RIGHT_SKIRT_PANEL', 'SIDE_MEMBER_FRAME2', 'RIGHT_INSIDE_SHEETING', 'LEFT_WHEEL_HOUSE_SHEETING', 'RIGHT_REAR_INSIDE_PANEL_SHEETING', 'RIGHT_REAR_WHEEL_HOUSE_SHEETING', 'LEFT_SIDE_PANEL_SHEETING', 'RIGHT_SIDE_PANEL_SHEETING', 'JOINCAR', 'NOTAVAILABLE', 'MF_KEY', 'SUNLOOPDUAL', 'ETC', 'EPS']\n"
     ]
    },
    {
     "data": {
      "text/plain": [
       "(36794, 63)"
      ]
     },
     "execution_count": 13,
     "metadata": {},
     "output_type": "execute_result"
    }
   ],
   "source": [
    "#level이 1인 변수들은 제거해준다 \n",
    "df_2 = find_level_1(df_1)\n",
    "df_2.shape"
   ]
  },
  {
   "cell_type": "code",
   "execution_count": 14,
   "metadata": {
    "id": "QoVBe7TeXZXh"
   },
   "outputs": [],
   "source": [
    "# 각 컬럼별 null값 비율과 unique한 값들을 출력하는 함수\n",
    "def print_null_ratio(df):\n",
    "    \n",
    "    df = df.copy()\n",
    "    \n",
    "    for i in df.columns:\n",
    "        X_i = df.loc[:,i]\n",
    "        print(\"column {} : {} not null ratio\".format(i,X_i.dropna().shape[0]/df.shape[0]))\n",
    "        print(df.loc[:,i].unique())\n",
    "        print(\"\")"
   ]
  },
  {
   "cell_type": "code",
   "execution_count": 15,
   "metadata": {
    "colab": {
     "base_uri": "https://localhost:8080/",
     "height": 1000
    },
    "id": "CE7qvUQyXZVx",
    "outputId": "e01c783c-8dbb-4466-aff2-58c19cae151d"
   },
   "outputs": [
    {
     "name": "stdout",
     "output_type": "stream",
     "text": [
      "column SUCCYMD : 1.0 not null ratio\n",
      "[20160105 20160106 20160107 20160108 20160109 20160112 20160113 20160114\n",
      " 20160115 20160119 20160121 20160122 20160126 20160127 20160128 20160129\n",
      " 20160130 20160202 20160203 20160204 20160205 20160211 20160212 20160213\n",
      " 20160216 20160217 20160218 20160219 20160220 20160223 20160225 20160226\n",
      " 20160229 20160303 20160304 20160308 20160310 20160311 20160312 20160315\n",
      " 20160317 20160318 20160322 20160323 20160324 20160325 20160329 20160330\n",
      " 20160331 20160401 20160402 20160405 20160407 20160408 20160412 20160414\n",
      " 20160415 20160416 20160419 20160421 20160422 20160423 20160426 20160427\n",
      " 20160428 20160429 20160430 20160503 20160504 20160509 20160510 20160512\n",
      " 20160513 20160517 20160518 20160519 20160520 20160524 20160525 20160526\n",
      " 20160527 20160528 20160531 20160601 20160602 20160603 20160607 20160608\n",
      " 20160609 20160610 20160611 20160614 20160615 20160616 20160617 20160618\n",
      " 20160621 20160622 20160623 20160624 20160625 20160628 20160629 20160630\n",
      " 20160701 20160702 20160705 20160706 20160707 20160708 20160709 20160712\n",
      " 20160714 20160715 20160716 20160719 20160721 20160722 20160723 20160726\n",
      " 20160727 20160728 20160729 20160802 20160804 20160805 20160806 20160809\n",
      " 20160810 20160811 20160812 20160816 20160817 20160818 20160819 20160823\n",
      " 20160824 20160825 20160826 20160827 20160830 20160901 20160902 20160903\n",
      " 20160906 20160907 20160908 20160909 20160910 20160913 20160920 20160921\n",
      " 20160922 20160923 20160927 20160929 20160930 20161001 20161004 20161005\n",
      " 20161006 20161007 20161011 20161012 20161013 20161014 20161015 20161018\n",
      " 20161019 20161020 20161021 20161025 20161026 20161027 20161028 20161101\n",
      " 20161102 20161103 20161104 20161105 20161108 20161109 20161110 20161111\n",
      " 20161112 20161115 20161116 20161117 20161118 20161122 20161123 20161124\n",
      " 20161125 20161126 20161129 20161130 20161201 20161202 20161203 20161206\n",
      " 20161207 20161208 20161209 20161213 20161215 20161216 20161220 20161222\n",
      " 20161223 20161227 20161229 20161230 20170103 20170105 20170106 20170110\n",
      " 20170111 20170112 20170113 20170117 20170118 20170119 20170120 20170121\n",
      " 20170124 20170125 20170126 20170131 20170201 20170202 20170203 20170204\n",
      " 20170207 20170208 20170209 20170210 20170211 20170214 20170215 20170216\n",
      " 20170217 20170221 20170222 20170223 20170224 20170228 20170302 20170303\n",
      " 20170307 20170308 20170309 20170310 20170314 20170315 20170316 20170317\n",
      " 20170321 20170322 20170323 20170324 20170328 20170330 20170331 20170404\n",
      " 20170406 20170407 20170408 20170411 20170412 20170413 20170414 20170418\n",
      " 20170419 20170420 20170421 20170425 20170427 20170428 20170429 20170502\n",
      " 20170504 20170510 20170511 20170512 20170516 20170517 20170518 20170519\n",
      " 20170523 20170525 20170526 20170530 20170601 20170602 20170607 20170608\n",
      " 20170609 20170610 20170613 20170614 20170615 20170616 20170620 20170621\n",
      " 20170622 20170623 20170627 20170628 20170629 20170630 20170704 20170706\n",
      " 20170707 20170708 20170711 20170712 20170713 20170714 20170718 20170720\n",
      " 20170721 20170722 20170725 20170726 20170727 20170728 20170801 20170803\n",
      " 20170804 20170808 20170810 20170811 20170816 20170817 20170818 20170819\n",
      " 20170822 20170823 20170824 20170825 20170829 20170831 20170901 20170902\n",
      " 20170905 20170907 20170908 20170912 20170914 20170915 20170919 20170921\n",
      " 20170922 20170926 20170927 20170928 20170929 20171011 20171012 20171013\n",
      " 20171017 20171018 20171019 20171020 20171024 20171025 20171026 20171027\n",
      " 20171028 20171031 20171101 20171102 20171103 20171107 20171108 20171109\n",
      " 20171110 20171114 20171115 20171116 20171117 20171118 20171121 20171122\n",
      " 20171123 20171124 20171128 20171129 20171130 20171201 20171205 20171206\n",
      " 20171207 20171208 20171212 20171213 20171214 20171215 20171216 20171219\n",
      " 20171221 20171222 20171223 20171226 20171227 20171228 20171229 20171230\n",
      " 20180103 20180104 20180105 20180109 20180111 20180112 20180116 20180117\n",
      " 20180118 20180119 20180123 20180124 20180125 20180126 20180127 20180130\n",
      " 20180131 20180201 20180202 20180203 20180206 20180207 20180208 20180209\n",
      " 20180213 20180214 20180220 20180222 20180223 20180224 20180227 20180228\n",
      " 20180302 20180303 20180306 20180308 20180309 20180310 20180313 20180314\n",
      " 20180315 20180316 20180320 20180322 20180323 20180327 20180328 20180329\n",
      " 20180330 20180403 20180405 20180406 20180407 20180410 20180411 20180412\n",
      " 20180413 20180417 20180419 20180420 20180424 20180425 20180426 20180427\n",
      " 20180428 20180502 20180503 20180504 20180508 20180509 20180510 20180511\n",
      " 20180515 20180516 20180517 20180518 20180523 20180524 20180525 20180526\n",
      " 20180529 20180530 20180531 20180601 20180602 20180605 20180607 20180608\n",
      " 20180612 20180614 20180615 20180619 20180620 20180621 20180622 20180623\n",
      " 20180626 20180627 20180628 20180629 20180630 20180703 20180705 20180706\n",
      " 20180710 20180712 20180713 20180717 20180719 20180720 20180724 20180726\n",
      " 20180727 20180731 20180802 20180803 20180807 20180809 20180810 20180814\n",
      " 20180816 20180817 20180821 20180823 20180824 20180828 20180830 20180831\n",
      " 20180904 20180906 20180907 20180911 20180913 20180914 20180918 20180920\n",
      " 20180921 20180927 20180928 20181002 20181004 20181005 20181010 20181011\n",
      " 20181012 20181016 20181018 20181019 20181023 20181025 20181026 20181030\n",
      " 20181101 20181102 20181106 20181108 20181109 20181113 20181114 20181115\n",
      " 20181116 20181120 20181122 20181123 20181127 20181129 20181130 20181204\n",
      " 20181206 20181207 20181211 20181213 20181214 20181218 20181220 20181221\n",
      " 20181226 20181227 20181228 20181231 20190103 20190104 20190108 20190110\n",
      " 20190111 20190115 20190117 20190118 20190122 20190124 20190125 20190129\n",
      " 20190131 20190207 20190208 20190212 20190214 20190215 20190219 20190221\n",
      " 20190222 20190226 20190227 20190228 20190305 20190307 20190308 20190312\n",
      " 20190314 20190315 20190319 20190321 20190322 20190326 20190328 20190329\n",
      " 20190402 20190404 20190405 20190409 20190411 20190412 20190416 20190418\n",
      " 20190419 20190423 20190425 20190426 20190430 20190502 20190503 20190507\n",
      " 20190509 20190510 20190514 20190516 20190517 20190521 20190523]\n",
      "\n",
      "column CARNM : 1.0 not null ratio\n",
      "['모닝 LPi LX 기본 블랙 프리미엄 ' 'K3 1.6 가솔린(4도어) Nobless '\n",
      " 'K3 1.6 가솔린(4도어) Trendy ' 'K5 2.0LPI 렌터카 디럭스 ' 'K5 2.0LPI 렌터카 스마트 '\n",
      " 'K5 2.0가솔린 프레스티지 ' 'K5 2.0하이브리드 Prestige ' 'K5 2.4GDI 노블레스 '\n",
      " 'K7 (The prestige)2.4GDI 럭셔리 ' 'K7 (The prestige)3.0GDI 노블레스 '\n",
      " 'K9 3.3 GDI 이그제큐티브 ' 'Next_Innovation_K5 가솔린 2.0 MX 노블레스 스페셜 '\n",
      " 'Next_Innovation_K5 디젤 1.7 SX 노블레스 ' 'K9 3.8 GDI 프레스티지 '\n",
      " 'K9 3.8 GDI 프레지던트 ' '더뉴K7 3.3 GDI 노블레스 ' '더뉴모닝 1.0바이퓨얼 Smart '\n",
      " '레이 1.0 가솔린 TURBO TCI 럭셔리 프레스티지' '레이 1.0 가솔린 프레스티지 ' '로체 2.0 LEX 20 '\n",
      " '로체 2.0LPG  ' '로체(이노베이션)  2.0 LEX20 ' '로체(이노베이션)  2.0 LX20 '\n",
      " '리오SF 1.3 Si ' 'K3 1.6 가솔린(4도어) Luxury ' '모닝 LX 고급 블랙 프리미엄 '\n",
      " '포르테 1.6GDI(4도어) 럭셔리 ' '프라이드(JB) 1.6VVT 레드프리미엄 ' '프라이드(JB) 1.5VGT SLX '\n",
      " '뉴쎄라토 1.6(5도어) GOLD ' '뉴오피러스 GH270 LPG 고급형 럭셔리 ' '뉴오피러스 GH270 고급형 '\n",
      " '더뉴K7 3.0 GDI 프레스티지 ' '모닝 LX 기본 블랙 프리미엄 ' '모닝 LX 기본형 ' '모닝 LX 스페셜 '\n",
      " '더뉴K7 3.0 GDI 프레스티지 스페셜 ' '오피러스 프리미엄 GH270 디럭스 ' '스펙트라윙 1.5 MR '\n",
      " '올뉴모닝 1.0가솔린 디럭스 ' '올뉴모닝 1.0가솔린 디럭스 스페셜 ' '올뉴모닝 1.0가솔린 스마트 '\n",
      " '올뉴프라이드(UB) 가솔린(4도어) 1.6GDi 럭셔리 ' '포르테 1.6CVVT(가솔린) Si 블랙 '\n",
      " '뉴오피러스 GH330 고급형 ' '모닝 SLX 고급 블랙 프리미엄 ' '올뉴모닝 1.0가솔린 럭셔리 '\n",
      " 'K5 2.0가솔린 스마트 스페셜 ' 'K7 (The prestige)3.0GDI 럭셔리 ' 'K5 2.0가솔린 럭셔리 '\n",
      " '쎄라토 1.6 SLX ' 'K7 VG350 노블레스 프리미엄 ' 'K5 2.0LPI 렌터카 럭셔리 '\n",
      " '프라이드(JB) 1.4DOHC LX ' '프라이드(JB) 1.5VGT LX ' '레이 1.0 가솔린 디럭스 스페셜 '\n",
      " '더뉴K7 3.0 LPI 프레스티지 ' '더뉴K7 3.0 LPI 럭셔리 ' '포르테 쿱 1.6 GDI 프레스티지(A/T) '\n",
      " '포르테 1.6GDI(4도어) 프레스티지 ' 'K3 1.6 가솔린(4도어) Deluxe '\n",
      " '프라이드(JB) 1.6VVT GOLD ' '쎄라토 1.5 SLX ' '스펙트라윙 1.5 GOLD ' '모닝 SLX 스페셜 '\n",
      " '프라이드(JB) 1.6VVT SLX ' '더뉴K5 2.0 가솔린 노블레스 ' '모닝 SLX 고급형 '\n",
      " '뉴오피러스 GH270 최고급형 럭셔리 ' '뉴오피러스 GH270 고급형 럭셔리 '\n",
      " 'Next_Innovation_K5 디젤 1.7 MX 노블레스 ' '올뉴프라이드(UB) 가솔린(5도어) 1.4MPI 디럭스 '\n",
      " '더뉴K5 2.0 LPI 렌터카 프레스티지 ' 'K5 2.0가솔린 디럭스 ' '더뉴K7 2.4 GDI 프레스티지 스페셜 '\n",
      " '더뉴K7 2.4 GDI 프레스티지 ' 'K5 2.0터보GDI 노블레스 ' 'K7 VG270 럭셔리 프리미엄 '\n",
      " '포르테 쿱 1.6 GDI 럭셔리(A/T) ' '포르테 1.6GDI(5도어) 디럭스 ' 'K7 VG270 LPI 렌트 프레스티지 '\n",
      " '모닝 SLX 뷰티 ' '모닝 VAN 기본형 ' '모닝 LX 고급형 ' 'K7 VG270 LPI 렌트 럭셔리 '\n",
      " 'K7 (The prestige)3.0LPI렌트 프레스티지 ' 'K7 (The prestige)3.0LPI렌트 디럭스 '\n",
      " 'K5 2.0하이브리드 Nobless ' '뉴쎄라토 1.6 SLX ' '뉴오피러스 GH330 고급형 럭셔리 '\n",
      " '레이 전기차 디럭스 스페셜 ' 'K7 (The prestige)3.0GDI 프레스티지 ' '레이 1.0 가솔린 럭셔리 '\n",
      " '쎄라토 유로(5도어)1.5 GOLD ' '로체(어드밴스) 2.0LPG  ' '로체(이노베이션)  2.0 LPG LX20 '\n",
      " '리오 1.3 DLX ' 'K5 2.0LPI 렌터카 프레스티지 ' 'K5 2.0LPI택시   '\n",
      " '더뉴K5 2.0 가솔린 프레스티지 ' '더뉴K5 2.0 가솔린 트렌디 ' '더뉴모닝 1.0가솔린 Luxury '\n",
      " 'K7 (The prestige)2.4GDI 프레스티지 ' 'K7 (The prestige)3.3GDI 노블레스 '\n",
      " 'K9 3.3 GDI 노블레스 ' 'K9 3.3 GDI 프레스티지 ' '더뉴모닝 1.0가솔린 VAN '\n",
      " '더뉴K5 하이브리드 500h 노블레스 ' '올뉴프라이드(UB) 가솔린(4도어) 1.6GDi 프레스티지 ' '올뉴모닝 VAN   '\n",
      " '올뉴모닝 1.0바이퓨얼 스마트 ' 'K3 1.6 디젤 Trendy ' '쎄라토 1.6 GOLD '\n",
      " 'K3 1.6 가솔린(4도어) Prestige ' 'K9 3.8 GDI 노블레스 스페셜 ' '올뉴모닝 1.0가솔린 스마트 스페셜 '\n",
      " '포르테 1.6CVVT(가솔린) S ' '포르테 1.6CVVT(가솔린) Si ' '쎄라토 1.6 LX '\n",
      " '뉴오피러스 GH270 최고급형 ' '로체(이노베이션)  2.0 LEX20 최고급형 ' 'K9 3.3 GDI RVIP '\n",
      " '뉴오피러스 GH330 프리미엄 ' '더뉴K5 2.0 LPI 렌터카 디럭스 '\n",
      " '올뉴프라이드(UB) 가솔린(4도어) 1.4MPI 스마트 ' '올뉴프라이드(UB) 가솔린(5도어) 1.4MPI 스마트 '\n",
      " '제네시스 BH330 LUXURY ' '더뉴K5 2.0 가솔린 T-GDI 노블레스 ' 'K9 3.3 GDI 노블레스 스페셜 '\n",
      " '로체 2.0VGT(디젤)  ' '오피러스 GH270 웰빙스페셜 ' '포르테 하이브리드 HEV 최고급 '\n",
      " '프라이드(JB) 1.4DOHC LX(5도어) ' '스펙트라 1.5Di GOLD ' '오피러스 프리미엄 GH330 스페셜 '\n",
      " '포르테 1.6GDI(4도어) 디럭스 ' '올뉴프라이드(UB) 가솔린(4도어) 1.4MPI 스마트 스페셜 '\n",
      " 'K5 2.0가솔린 노블레스 ' '더뉴K7 하이브리드 700h Prestige ' '레이 1.0 가솔린 VAN '\n",
      " '로체(어드밴스) 2.0 LEX 20 ' 'K5 2.0가솔린 트렌디 ' 'K5 2.0가솔린 스마트 '\n",
      " '오피러스 GH300 최고급형 ' 'K5 2.0하이브리드 Prestige 500h' 'K5 2.0하이브리드 Luxury '\n",
      " '프라이드(JB) 1.6VVT GOLD 프리미엄 ' '포르테 쿱 2.0 CVVT 고급형(M/T) ' '옵티마리갈 2.0 R20 '\n",
      " '뉴쎄라토 1.6 GOLD ' '포르테 1.6CVVT(가솔린) SLi '\n",
      " '올뉴프라이드(UB) 가솔린(5도어) 1.6GDI 럭셔리 ' '포르테 쿱 1.6 CVVT 고급형(A/T) ' '쎄라토 1.5 L '\n",
      " '오피러스 프리미엄 GH330 프레스티지 ' '쎄라토 1.5VGT SLX ' '포르테 1.6CVVT(가솔린) S 고급형 '\n",
      " '오피러스 GH270 고급형 ' '오피러스 GH300 고급형 하이오너형 '\n",
      " '올뉴프라이드(UB) 디젤(5도어) 1.4(디젤)스마트 스페셜 ' '옵티마 2.0 LS ' '레이 1.0 바이퓨얼 디럭스 '\n",
      " 'K5 2.0하이브리드 Deluxe ' 'K5 2.4GDI 프레스티지 ' '더뉴K9 V6 3.8 NOBLESSE(노블레스) '\n",
      " '로체(어드밴스) 2.0VGT(디젤) LEV ' '옵티마 2.0LPG  ' '뉴오피러스 GH270 LPG 최고급형 '\n",
      " '프라이드(JB) 1.4DOHC L ' '더뉴K5 하이브리드 500h 프레스티지 ' '오피러스 프리미엄 GH270 디럭스 스페셜 '\n",
      " '모닝 LPi SLX 고급 블랙 프리미엄 ' '올뉴프라이드(UB) 가솔린(5도어) 1.6GDI 프레스티지 '\n",
      " '올뉴모닝 1.0 TCI 럭셔리 ' '옵티마리갈 2.0LPG  ' 'K7 VG270 럭셔리 ' 'K7 VG350 노블레스 '\n",
      " '스펙트라 1.5Di JR ' '뉴쎄라토 1.6 SX ' '레이 1.0 가솔린 디럭스 ' '스펙트라 1.5Di MR '\n",
      " '로체(어드밴스) 2.0LPG  LX' '더뉴K5 2.0 LPI 렌터카 럭셔리 ' '옵티마 2.0LPG  장애인'\n",
      " '모닝 LX 최고급형 ' 'K5 2.0터보GDI 프레스티지 ' '더뉴모닝 1.0바이퓨얼 Luxury '\n",
      " '옵티마리갈 2.0 RX20 ' 'K7 (The prestige)2.4GDI 디럭스 ' '더뉴모닝 1.0가솔린 Smart '\n",
      " '포르테 1.6CVVT(가솔린) S 기본형 ' '더뉴K5 하이브리드 500h 노블레스 스페셜'\n",
      " 'Next_Innovation_K5 가솔린 2.0 MX 프레스티지 ' '올뉴프라이드(UB) 디젤(5도어) 1.4(디젤)럭셔리 '\n",
      " '뉴오피러스 GH330 최고급형 럭셔리 ' '리오 1.3 RS ' '포르테 쿱 1.6 CVVT 레드프리미엄 ' '모닝 L 기본형 '\n",
      " '더뉴K9 V8 5.0 QUANTUM(퀀텀) ' '올뉴프라이드(UB) 가솔린(4도어) 1.4MPI 디럭스 '\n",
      " '옵티마리갈 2.0 REX20 ' '프라이드(JB) 1.5VGT SLX(5도어) ' '프라이드(JB) 1.5VGT LX(5도어) '\n",
      " '모닝 LPi LX 기본 ' '뉴쎄라토 1.6디젤 SLX ' '뉴오피러스 GH270 LPG 최고급형 럭셔리 '\n",
      " 'K9 3.8 GDI VIP ' 'K7 (The prestige)3.0LPI렌트 럭셔리 ' 'K7 VG270 프레스티지 프리미엄 '\n",
      " 'K3 1.6 가솔린(4도어) Prestige 5도어' '로체 2.0 LX 20 ' '포르테 쿱 2.0 CVVT 고급형(A/T) '\n",
      " '올뉴모닝 1.0가솔린 트렌디 ' '레이 1.0 가솔린 TURBO TCI 럭셔리 ' 'K7 VG240 디럭스 '\n",
      " '쎄라토 1.5 GOLD ' '포르테 1.6GDI(5도어) 럭셔리 ' '로체 1.8 LX '\n",
      " '포르테 1.6CVVT(가솔린) SLi 블랙스페셜 ' 'Next_Innovation_K5 디젤 1.7 MX 디럭스 '\n",
      " 'K9 3.8 GDI RVIP ' '오피러스 GH300 고급형 ' '오피러스 GH270 최고급형 '\n",
      " '포르테 쿱 2.0 CVVT 레드프리미엄 ' '더뉴K9 V6 3.3 (EXECUTIVE)이그제큐티브 '\n",
      " '모닝 SLX 뷰티 프리미엄 ' '올뉴모닝 1.0바이퓨얼 트렌디 ' '뉴오피러스 GH380 프리미엄 '\n",
      " '레이 1.0 바이퓨얼 프레스티지 ' '더뉴K5 2.0 가솔린 럭셔리 ' '더뉴모닝 1.0가솔린 Deluxe '\n",
      " '레이 1.0 바이퓨얼 럭셔리 ' '포르테 1.6CVVT(가솔린) Si 브라운 ' '옵티마 2.0 MS '\n",
      " '리오 1.5SOHC EL Si ' 'K7 VG270 디럭스 ' '뉴오피러스 GH270 LPG 고급형 '\n",
      " '오피러스 GH350 최고급형 ' '비스토 QUE 기본형 ' '올뉴프라이드(UB) 가솔린(5도어) 1.4MPI 트렌디 '\n",
      " '올뉴모닝 1.0바이퓨얼 디럭스 스페셜 ' '리오SF 1.5Si LX ' '뉴쎄라토 1.6 L '\n",
      " '오피러스 프리미엄 GH270(LPi) 럭셔리 ' '오피러스 프리미엄 GH330 최고급형 ' 'K9 3.8 GDI 이그제큐티브 '\n",
      " 'K7 VG270 LPI 렌트 디럭스 ' '오피러스 프리미엄 GH270 스페셜 ' 'K9 3.8 GDI 프레스티지 스페셜 '\n",
      " '오피러스 GH270 LPG 고급형 ' '오피러스 GH300 고급형 럭셔리 ' '오피러스 프리미엄 GH380 노블레스 '\n",
      " '뉴오피러스 GH330 최고급형 ' 'K7 VG270 LPI 렌트 프레스티지 프리미엄 '\n",
      " '포르테 1.6GDI(5도어) 프레스티지 ' '뉴쎄라토 1.6 LX ' '아반떼(HD) 1.6VVT X16 PREMIER '\n",
      " 'K5 2.0가솔린 프레스티지 브라운 ' '레이 1.0 바이퓨얼 디럭스 스페셜 ' 'K7 VG270 럭셔리 프리미엄'\n",
      " '모닝 SLX 최고급형 ' '올뉴프라이드(UB) 가솔린(4도어) 1.4MPI 트렌디 '\n",
      " '오피러스 프리미엄 GH330 고급형 럭셔리 ' 'K7 VG270 프레스티지 ' '비스토 VAN 기본형 '\n",
      " '더뉴K9 V6 3.8 VIP ' '옵티마 1.8DOHC  ' '포르테 하이브리드 HEV 고급 '\n",
      " 'ALL_NEW_K7 2.4 GDI 프레스티지 ' '올뉴모닝 1.0바이퓨얼 디럭스 '\n",
      " '레이 1.0 가솔린 TURBO TCI 프레스티지 ' 'K3 1.6 디젤 Nobless '\n",
      " '로체(이노베이션)  2.4 LX 수출형 ' 'K7 VG240 디럭스 스페셜 ' 'K7 VG270 디럭스 스페셜 '\n",
      " '포르테 1.6LPi(4도어) 럭셔리 ' '포르테 쿱 1.6 CVVT 기본형(A/T) ' '옵티마 2.0 VS '\n",
      " '쎄라토 1.6 L ' '오피러스 프리미엄 GH270(LPi) 최고급형 럭셔리 ' '로체(이노베이션)  2.0 LEX20 프리미엄'\n",
      " '올뉴모닝 1.0바이퓨얼 럭셔리 ' '올뉴프라이드(UB) 가솔린(5도어) 1.4MPI 스마트 스페셜 '\n",
      " '포르테 1.6GDI(4도어) 디럭스 Eco Plus ' '리오 1.5DOHC KL RX-V '\n",
      " '오피러스 프리미엄 GH330 노블레스 ' '더뉴K5 2.0 가솔린 디럭스 ' 'K9 3.8 GDI 노블레스 '\n",
      " '포르테 쿱 1.6 GDI 프레스티지(M/T) ' 'ALL_NEW_K7 3.3 GDI 노블레스 스페셜 '\n",
      " 'ALL_NEW_K7 3.3 GDI 노블레스 ' '프라이드(JB) 1.6VVT SLX(5도어) '\n",
      " 'K3 쿱 1.6 가솔린 터보 프레스티지 ' '모닝 SLX 뷰티 블랙 프리미엄 ' '리오 1.5SOHC  '\n",
      " 'K3 쿱 1.6 가솔린 터보 노블레스 ' 'Next_Innovation_K5 가솔린 2.0 MX 디럭스 '\n",
      " '로체(어드밴스) 2.0 LX 20 ' '올뉴모닝 VAN 고급형 ' '리오SF 1.5Di  ' '뉴오피러스 GH330 스폐셜 '\n",
      " '로체(이노베이션)  2.0 LX20 스페셜 ' '레이 1.0 가솔린 프레스티지 TCI'\n",
      " 'K3 1.6 가솔린(4도어) Nobless 5도어' '포르테 하이브리드 HEV 기본 ' '프라이드(JB) 하이브리드  '\n",
      " '뉴쎄라토 1.6(5도어) SLX ' '뉴쎄라토 1.6디젤 LX ' '오피러스 프리미엄 GH330 고급형 '\n",
      " '리오SF 1.5Di SLX ' 'Next_Innovation_K5 디젤 1.7 SX 프레스티지 '\n",
      " 'K3 1.6 디젤 Luxury ' 'Next_Innovation_K5 하이브리드 노블레스 '\n",
      " '프라이드(JB) 1.6VVT GOLD(5도어) ' '포르테 1.6VGT(디젤) Si ' '뉴오피러스 GH380 최고급형 '\n",
      " '로체(이노베이션)  2.0 LPG LX20 장애우용' '포르테 1.6CVVT(가솔린) W에디션 '\n",
      " '포르테 1.6GDI(4도어) 럭셔리 Eco Plus ' '오피러스 GH270 고급형 럭셔리 ' '더뉴K7 2.4 GDI 기본형 '\n",
      " '그랜저XG Q25  ' '더뉴모닝 1.0가솔린터보(TCI) Luxury ' '리오 1.3 SOHC '\n",
      " '오피러스 프리미엄 GH330 스페셜 럭셔리 ' '모닝 VAN 고급형 '\n",
      " 'Next_Innovation_K5 가솔린 2.0 SX 럭셔리 ' '오피러스 프리미엄 GH270(LPi) 고급형 '\n",
      " '쎄라토 1.5 LX ' '오피러스 프리미엄 GH330 럭셔리 ' '더뉴프라이드 가솔린(4도어) 1.4MPI 트렌디 '\n",
      " '더뉴K5 2.0 가솔린 스페셜 ' 'K3 1.6 가솔린(4도어) ECO-Plus ' '오피러스 GH380 최고급형 '\n",
      " '더뉴K5 하이브리드 500h 럭셔리 ' '포르테 쿱 2.0 GDI 프레스티지(M/T) '\n",
      " '오피러스 프리미엄 GH380 프리미엄 ' '올뉴프라이드(UB) 가솔린(5도어) 1.6GDI 럭셔리 Eco Plus '\n",
      " '모닝 LPi LX 고급 블랙 프리미엄 ' '오피러스 프리미엄 GH270 스페셜 럭셔리 '\n",
      " '오피러스 프리미엄 GH270 디럭스 VIP' 'K3 1.6 디젤 Prestige '\n",
      " '그랜저(HG) HG300 GDi PRIME ' 'K3 쿱 1.6 가솔린 럭셔리 '\n",
      " 'K3 1.6 디젤 Prestige Special ' '더뉴프라이드 가솔린(4도어) 1.4MPI 디럭스 '\n",
      " '로체(이노베이션)  2.0 LEX20 프리미엄 ' '더뉴K9 V6 3.3 PRESTIGE(프레스티지) '\n",
      " '포르테 쿱 2.0 CVVT 프레스티지 ' '오피러스 GH270 고급형 하이오너형 ' '쎄라토 1.6 LX VGT'\n",
      " '로체(어드밴스) 2.0 LX 20 교통순찰차' '로체(이노베이션)  2.0 LEX20 프리미엄 스페셜 '\n",
      " '쎄라토 1.5VGT LX ' '더뉴K9 V6 3.8 EXECUTIVE(이그제큐티브) '\n",
      " '더뉴모닝 스포츠 1.0가솔린 RUN HIGH 터보' 'Next_Innovation_K5 렌터카 2.0 LPI MX 럭셔리 '\n",
      " 'K3 1.6 디젤 W 스페셜 ' '모닝 LX 고급 블랙 프리미엄 M/T' '옵티마리갈 2.0 RX20 CVT'\n",
      " '옵티마 1.8 LUXURY ' '더뉴프라이드 가솔린(5도어) 1.4MPI 트렌디 '\n",
      " '더뉴모닝 스포츠 1.0가솔린 RUN HIGH ' '쎄라토 유로(5도어)1.6 GOLD ' '로체 2.0LPG  장애우'\n",
      " '로체(이노베이션)  2.0 LPG  장애우' '올뉴모닝 1.0가솔린 스포츠 '\n",
      " 'Next_Innovation_K5 가솔린 2.0 MX 시그니처 '\n",
      " 'Next_Innovation_K5 디젤 1.7 MX 시그니처 ' 'NEW그랜저XG S20  '\n",
      " 'Next_Innovation_K5 가솔린 2.0 SX 시그니처 '\n",
      " 'Next_Innovation_K5 가솔린 T-GDI 2.0 GT-LINE SX' '쎄라토 유로(5도어)1.6 SLX '\n",
      " '더뉴모닝 스포츠 1.0가솔린 RUN HIGH TCI'\n",
      " 'Next_Innovation_K5 가솔린 T-GDI 2.0 GT-LINE ' '더뉴모닝 스포츠 1.0가솔린 RUN '\n",
      " '오피러스 수출형   3.5' 'Next_Innovation_K5 렌터카 2.0 LPI MX 프레스티지 '\n",
      " 'ALL_NEW_K7 2.2 디젤 프레스티지 ' 'Next_Innovation_K5 가솔린 T-GDI 1.6 GT-LINE '\n",
      " '오피러스 프리미엄 GH330 프리미엄 ' '옵티마 2.0 VS Winner ss ' 'K5 2.0LPI 장애인 프레스티지 '\n",
      " '더뉴K3 1.6 가솔린(4도어) 트렌디 ' '쎄라토 1.6 SLX VGT' '포르테 2.0CVVT(가솔린) Si '\n",
      " '옵티마 2.4 수출형 ' '더뉴프라이드 가솔린(5도어) 1.4MPI 스마트 ' '뉴오피러스 GH270 스페셜 럭셔리 '\n",
      " 'ALL_NEW_K7 하이브리드 프레스티지 ' '프라이드(JB) 1.5VGT LX 5도어'\n",
      " 'ALL_NEW_K7 3.3 GDI 리미티드 에디션 ' 'Next_Innovation_K5 디젤 1.7 MX 럭셔리 '\n",
      " '로체 2.4 LEX 24 ' '오피러스 수출형   ' 'K5 2.0LPI택시   디럭스'\n",
      " 'Next_Innovation_K5 하이브리드 노블레스 스페셜 ' 'K5 2.0LPI 렌터카 프레스티지  '\n",
      " 'Next_Innovation_K5 가솔린 2.0 SX 노블레스 스페셜 ' '레이 1.0 가솔린 에코다이나믹스 프레스티지 '\n",
      " 'ALL_NEW_K7 하이브리드 노블레스 ' '더뉴K5 2.0 LPI 렌터카 노블레스 '\n",
      " '더뉴K3 1.6 가솔린(4도어) 노블레스 ' '카덴자     '\n",
      " 'Next_Innovation_K5 가솔린 T-GDI 2.0 노블레스 스페셜 SX' '뉴오피러스 GH330 스폐셜 럭셔리 '\n",
      " 'K7 VG270 LPI 택시 디럭스 ' '더뉴K7 2.4 GDI 프레스티지 기본형' '뉴오피러스 GH270 스페셜 '\n",
      " '로체(이노베이션)  2.0 LPG  ' '더뉴K3 1.6 디젤 트렌디 ' 'ALL_NEW_K7 2.4 GDI 리미티드 에디션 '\n",
      " 'Next_Innovation_K5 가솔린 2.0 MX 럭셔리 ' '로체 2.4  수출형' '쎄라토 1.5 SLX 디젤'\n",
      " 'Smart_Compact_올뉴모닝 1.0 가솔린 프레스티지 ' 'Smart_Compact_올뉴모닝 1.0 가솔린 디럭스 '\n",
      " '프라이드(JB) 1.5VGT SLX 5도어' 'Next_Innovation_K5 디젤 1.7 MX 프레스티지 '\n",
      " 'Next_Innovation_K5 가솔린 2.0 MX 노블레스 '\n",
      " 'Smart_Compact_올뉴모닝 1.0 가솔린 베이직 플러스 ' '프라이드(JB) 1.6VVT 레드프리미엄 5도어'\n",
      " '더뉴프라이드 디젤(5도어) 1.4디젤 럭셔리 ' 'Next_Innovation_K5 렌터카 2.0 LPI SX 럭셔리 '\n",
      " '더뉴프라이드 가솔린(5도어) 1.6GDI 프레스티지 '\n",
      " 'Next_Innovation_K5 가솔린 T-GDI 2.0 노블레스 스페셜 '\n",
      " 'Next_Innovation_K5 가솔린 2.0 SX 노블레스 ' '더뉴K7 하이브리드 700h Luxury '\n",
      " 'Next_Innovation_K5 가솔린 2.0 SX 프레스티지 '\n",
      " 'Next_Innovation_K5 가솔린 2.0 MX 스타일에디션 '\n",
      " 'Next_Innovation_K5 디젤 1.7 SX 디럭스 '\n",
      " 'Next_Innovation_K5 가솔린 T-GDI 2.0 GT SX '\n",
      " 'Next_Innovation_K5 하이브리드 프레스티지 ' 'Smart_Compact_올뉴모닝 1.0 가솔린 럭셔리 '\n",
      " '로체(어드밴스) 1.8 LX ' '포르테 1.6VGT(디젤) Si 블랙 ' '더뉴K3 1.6 디젤 디럭스 '\n",
      " '더뉴프라이드 가솔린(5도어) 1.6GDI 럭셔리 ' 'K3 1.6 가솔린(4도어) W 스페셜 ' '포르테    수출형'\n",
      " '더뉴K7 3.0 LPI 택시 디럭스 ' '더뉴K5 2.0 가솔린 T-GDI 프레스티지 ' '더뉴K3 1.6 디젤 트렌디 스타일 '\n",
      " '스팅어 3.3 터보 GDi GT ' '스팅어 3.3 터보 GDi GT AWD ' '더뉴K3 1.6 디젤 프레스티지 '\n",
      " '더뉴K3 1.6 가솔린(4도어) 디럭스 ' '올뉴프라이드(UB) 가솔린(4도어) 1.6GDi 프레스티지 Eco Plus '\n",
      " '오피러스 GH380 최고급형 프리미엄 ' 'K3 EURO 1.6 가솔린(5도어) 노블레스 '\n",
      " 'Next_Innovation_K5 가솔린 T-GDI 1.6 노블레스 ' '오피러스 GH300 최고급형 프리미엄 '\n",
      " '오피러스 GH270 LPG 고급형 럭셔리 ' '더뉴K3 1.6 가솔린(4도어) 프레스티지 스페셜 '\n",
      " 'ALL_NEW_K7 3.0 LPI 렌터카 프레스티지 ' 'Next_Innovation_K5 가솔린 T-GDI 1.6 프레스티지 '\n",
      " '스팅어 2.0 터보 GDi 플래티넘 ' 'ALL_NEW_K7 3.0 LPI 렌터카 럭셔리 '\n",
      " 'Smart_Compact_올뉴모닝 1.0 가솔린 VAN ' 'K3 EURO 1.6 가솔린(5도어) 프레스티지 '\n",
      " 'JEEP 체로키   리미티드 2.0 4WD' '오피러스 GH270 LPG 최고급형 '\n",
      " '더뉴K3 1.6 가솔린(4도어) 트렌디 스타일 ' '더뉴K3 1.6 가솔린(4도어) 프레스티지 '\n",
      " '스팅어 3.3 터보 GDi GT AWD' '스팅어 2.2 디젤 플래티넘 AWD '\n",
      " 'ALL_NEW_K7 3.0 LPI 택시 럭셔리 ' '스파크 LPGi L   ' 'ALL_NEW_K7 2.4 GDI 리미티드 '\n",
      " '포르테 쿱 2.0 GDI 프레스티지(A/T) ' '뉴쎄라토 2.0(5도어) GOLD ' '레이 1.0 가솔린 TURBO TCI '\n",
      " '더뉴프라이드 가솔린(5도어) 1.4MPI 디럭스 ' 'Next_Innovation_K5 가솔린 T-GDI 1.6 프레스티지 SX'\n",
      " '로체 2.0VGT(디젤)  LX' '스팅어 2.0 터보 GDi 드림에디션 AWD ' '더뉴레이 1.0 가솔린 프레스티지 '\n",
      " '오피러스 프리미엄 GH270(LPi) 고급형 럭셔리 ' 'Next_Innovation_K5 렌터카 2.0 LPI MX 노블레스 '\n",
      " 'ALL_NEW_K7 2.2 디젤 리미티드 에디션 ' '포르테 쿱 1.6 CVVT 고급형(M/T) '\n",
      " '스팅어 2.0 터보 GDi 프라임 AWD ' '더뉴K3 1.6 디젤 프레스티지 스페셜 '\n",
      " 'Next_Innovation_K5 디젤 1.7 SX 럭셔리 ' 'Smart_Compact_올뉴모닝 1.0 가솔린 레이디 '\n",
      " '올뉴프라이드(UB) 가솔린(4도어) 1.4MPI 스마트 운전교습용' '더뉴K5 2.0 LPI 장애인전용 프레스티지 '\n",
      " 'Next_Innovation_K5 렌터카 2.0 LPI SX 노블레스 스폐셜'\n",
      " 'The_New_K5 1.6 가솔린 터보 노블레스 스페셜 '\n",
      " 'Next_Innovation_K5 렌터카 2.0 LPI SX 프레스티지 ' '쎄라토 1.6 SLX 디젤'\n",
      " '쎄라토 1.6 SLX 5도어' 'Next_Innovation_K5 가솔린 2.0 SX 디럭스 '\n",
      " '더뉴프라이드 가솔린(4도어) 1.6GDI 럭셔리 ' 'The_New_K5 2.0 가솔린 인텔리전트 '\n",
      " 'K7 VG270 LPI 렌트 럭셔리 프리미엄 ' 'ALL_NEW_K7 3.0 GDI 리미티드 '\n",
      " '오피러스 프리미엄 GH270(LPi) 디럭스 택시' '더K9 3.8 GDI 플래티넘Ⅱ '\n",
      " 'Next_Innovation_K5 가솔린 T-GDI 1.6 노블레스 SX' '스팅어 2.2 디젤 드림에디션 AWD '\n",
      " '올뉴K3 G 1.6 가솔린 노블레스 ' '스팅어 2.0 터보 GDi 플래티넘 AWD '\n",
      " '포르테 쿱 1.6 CVVT 기본형(M/T) ' '오피러스 수출형   AMANTI'\n",
      " '로체(이노베이션)  2.0 LPG LX20 택시' '더뉴레이 1.0 가솔린 럭셔리 '\n",
      " 'Next_Innovation_K5 가솔린 T-GDI 1.6 럭셔리 SX'\n",
      " 'Smart_Compact_올뉴모닝 1.0 LPi 럭셔리 ' '더뉴레이 1.0 가솔린 밴   '\n",
      " '오피러스 프리미엄 GH270(LPi) 디럭스 ' '포르테 2.0CVVT(가솔린) Si 블랙 '\n",
      " 'Next_Innovation_K5 디젤 1.7 MX 노블레스 스페셜' 'The_New_K5 2.0 가솔린 노블레스 '\n",
      " 'Next_Innovation_K5 렌터카 2.0 LPI SX 노블레스 스페셜 '\n",
      " 'The_New_K5 2.0 LPI 렌터카 럭셔리 ' 'Next_Innovation_K5 렌터카 2.0 LPI SX 노블레스 '\n",
      " 'Next_Innovation_K5 렌터카 2.0 LPI MX 노블레스 스페셜 ' '포르테 쿱 1.6 GDI 럭셔리(M/T) '\n",
      " 'ALL_NEW_K7 3.0 LPI 렌터카 디럭스 ' '더K9 3.8 GDI 플래티넘Ⅱ AWD '\n",
      " 'Smart_Compact_올뉴모닝 1.0 가솔린 트렌디 ' '로체 2.0LPG  LX'\n",
      " 'The_New_K5 2.0 가솔린 럭셔리 ' '더뉴레이 1.0 LPI 프레스티지 ' '더뉴K7 3.0 LPI 럭셔리 택시'\n",
      " 'Next_Innovation_K5 가솔린 2.0 SX 스타일에디션 '\n",
      " 'Smart_Compact_올뉴모닝 1.0 T-GDI 프레스티지 ' '더K9 3.8 GDI 플래티넘Ⅰ '\n",
      " 'The_New_K5 2.0 가솔린 프레스티지 ' '오피러스 GH270 LPG 고급형 하이오너형 '\n",
      " '올뉴K3 G 1.6 가솔린 트렌디 스타일' 'The_New_K5 하이브리드 노블레스 스페셜 '\n",
      " '오피러스 GH270 최고급형 하이오너형 ' '스팅어 3.3 터보 GDi 마스터즈 AWD ' '포텐샤 2.0 CLASSIC '\n",
      " 'K3 쿱 1.6 가솔린 프레스티지 ' 'Smart_Compact_올뉴모닝 1.0 LPi 디럭스 '\n",
      " 'ALL_NEW_K7 3.3 GDI 리미티드 플러스 ' '더K9 3.3 T-GDI 그랜드 마스터즈 AWD '\n",
      " '포르테 쿱 2.0 CVVT 프레스티지 레드' '더뉴레이 1.0 가솔린 트렌디 '\n",
      " 'ALL_NEW_K7 하이브리드 노블레스 스페셜 ' 'Next_Innovation_K5 디젤 1.7 SX 노블레스 스페셜 '\n",
      " '더뉴K3 EURO 1.6 가솔린(5도어) 노블레스 ' '오피러스 수출형   아만티'\n",
      " '올뉴프라이드(UB) 가솔린(5도어) 1.6GDI 프레스티지 Eco Plus '\n",
      " 'ALL_NEW_K7 3.0 LPI 장애우 프레스티지 ' '레이 전기차   ' 'K7 3.0 LPI 택시 디럭스 '\n",
      " '스팅어 2.2 디젤 플래티넘 ' '리오SF 1.5Di SLX 4' 'ALL_NEW_K7 2.2 디젤 리미티드 '\n",
      " '올뉴K3 GT 1.6 가솔린 터보 5도어 GT Plus ' '스팅어 2.2 디젤 드림에디션 ' '포르테 하이브리드 SI   '\n",
      " '더K9 3.8 GDI 플래티넘Ⅲ AWD ' '올뉴프라이드(UB) 디젤(5도어) 1.4(디젤) 디럭스 '\n",
      " '그랜드카니발 디젤11인승 GX 고급형 ' '올뉴K3 G 1.6 가솔린 럭셔리 ' '로체 2.0LPG  장애우용'\n",
      " 'Next_Innovation_K5 택시 2.0 LPI MX 프레스티지 ' 'ALL_NEW_K7 2.4 GDI 월드컵에디션 '\n",
      " '더K9 5.0 GDI 퀀텀 AWD ' '올뉴프라이드(UB) 가솔린(4도어) 1.6GDi 럭셔리 Eco Plus '\n",
      " 'Next_Innovation_K5 장애인 2.0 LPI MX 노블레스 '\n",
      " 'Next_Innovation_K5 가솔린 2.0 SX 스폐셜 에디션 ' 'K5 2.0LPI택시   디럭스 '\n",
      " '프런티어 1톤표준캡  4WD']\n",
      "\n",
      "column CHASNO : 1.0 not null ratio\n",
      "['KNABK518BBT020038' 'KNAFZ412BDA040155' 'KNAFK412BEA206484' ...\n",
      " 'KNALT411BFS028524' 'KNAGN418BFA544130' 'KNAGN418BFA532709']\n",
      "\n",
      "column CARREGIYMD : 0.9999728216557048 not null ratio\n",
      "[20100616. 20130207. 20140128. ... 20070719. 20180131. 20161230.]\n",
      "\n",
      "column YEAR : 1.0 not null ratio\n",
      "[2011 2013 2014 2012 2016 2015 2006 2008 2010 2009 2004 2007 2002 2005\n",
      " 2003 2000 2001 2017 2018 2019 1999]\n",
      "\n",
      "column MISSNM : 1.0 not null ratio\n",
      "['A/T' 'CVT' 'M/T']\n",
      "\n",
      "column FUELNM : 0.9999728216557048 not null ratio\n",
      "['LPG' '가솔린' 'Hybrid' '디젤' '겸용' '전기' nan]\n",
      "\n",
      "column COLOR : 1.0 not null ratio\n",
      "['C' 'A' 'B' 'D' 'F']\n",
      "\n",
      "column EXHA : 1.0 not null ratio\n",
      "[1000 1600 1591 2000 1999 2400 2359 2999 3342 1700 3778 3300  998 1998\n",
      " 1300 1500 2700 3000 2656 3500 1400 1493  999 1685 1396   50 1582 3470\n",
      " 1599 2997 1991 3800  997 1997 5038 1800 2972 1590 2395  796 2650 1399\n",
      "  800 1594 1495  995 1975 1343 5000    0 2199 1395 2349 1995 3497 2399\n",
      " 1795 3362 1836 2200 2651    1 1798 1596 1492 1598 1580  798  199 2696\n",
      " 2902 2957]\n",
      "\n",
      "column TRAVDIST : 1.0 not null ratio\n",
      "[ 38480  62240  37926 ...  97801 153601 140058]\n",
      "\n",
      "column USEUSENM : 0.9912213947926293 not null ratio\n",
      "['자가' '렌트' '업무' '리스' '사업' nan]\n",
      "\n",
      "column OWNECLASNM : 0.9996466815241616 not null ratio\n",
      "['법인' '개인' '법인상품' '상품용' nan '재외국인' '개인사업' '종교단체']\n",
      "\n",
      "column INNEEXPOCLASCD_YN : 1.0 not null ratio\n",
      "['X' 'O']\n",
      "\n",
      "column NEWCARPRIC : 1.0 not null ratio\n",
      "[10704916 21230000 18043152 ... 34270500  8050000 51780001]\n",
      "\n",
      "column SUCCPRIC : 1.0 not null ratio\n",
      "[ 4300000 11650000 12350000 ... 60550000 19130000 50900000]\n",
      "\n",
      "column YEARCHK : 1.0 not null ratio\n",
      "['N' 'Y']\n",
      "\n",
      "column BONET : 1.0 not null ratio\n",
      "[0 1]\n",
      "\n",
      "column FRONT_LEFT_FENDER : 1.0 not null ratio\n",
      "[0 1]\n",
      "\n",
      "column FRONT_RIGHT_DOOR : 1.0 not null ratio\n",
      "[0 1]\n",
      "\n",
      "column BACK_LEFT_DOOR : 1.0 not null ratio\n",
      "[0 1]\n",
      "\n",
      "column TRUNK : 1.0 not null ratio\n",
      "[0 1]\n",
      "\n",
      "column LEFT_STEP : 1.0 not null ratio\n",
      "[0 1]\n",
      "\n",
      "column RIGHT_FILER_C : 1.0 not null ratio\n",
      "[0 1]\n",
      "\n",
      "column RIGHT_REAR_FENDER : 1.0 not null ratio\n",
      "[0 1]\n",
      "\n",
      "column LEFT_INSIDE_PANEL : 1.0 not null ratio\n",
      "[0 1]\n",
      "\n",
      "column RIGHT_INSIDE_WHEEL_HOUSE : 1.0 not null ratio\n",
      "[0 1]\n",
      "\n",
      "column LEFT_REAR_WHEEL_HOUSE : 1.0 not null ratio\n",
      "[0 1]\n",
      "\n",
      "column RIGHT_REAR_WHEEL_HOUSE : 1.0 not null ratio\n",
      "[0 1]\n",
      "\n",
      "column TRUNK_FLOOR : 1.0 not null ratio\n",
      "[0 1]\n",
      "\n",
      "column SIDE_MEMBER_FRAME : 1.0 not null ratio\n",
      "[0 1]\n",
      "\n",
      "column FLOOR_PANEL : 1.0 not null ratio\n",
      "[0 1]\n",
      "\n",
      "column RIGHT_SIDE_PANEL : 1.0 not null ratio\n",
      "[0 1]\n",
      "\n",
      "column BACK_PANEL2 : 1.0 not null ratio\n",
      "[0 1]\n",
      "\n",
      "column LEFT_INSIDE_SHEETING : 1.0 not null ratio\n",
      "[0 1]\n",
      "\n",
      "column RIGHT_WHEEL_HOUSE_SHEETING : 1.0 not null ratio\n",
      "[0 1]\n",
      "\n",
      "column LEFT_REAR_INSIDE_PANEL_SHEETING : 1.0 not null ratio\n",
      "[0 1]\n",
      "\n",
      "column LEFT_REAR_WHEEL_HOUSE_SHEETING : 1.0 not null ratio\n",
      "[0 1]\n",
      "\n",
      "column TRUNK_FLOOR_SHEETING : 1.0 not null ratio\n",
      "[0 1]\n",
      "\n",
      "column DASH_PANEL_SHEETING : 1.0 not null ratio\n",
      "[0 1]\n",
      "\n",
      "column SHEET_BACK_PANEL_SHEETING : 1.0 not null ratio\n",
      "[0 1]\n",
      "\n",
      "column SIDE_MEMBER_FRAME_SHEETING : 1.0 not null ratio\n",
      "[0 1]\n",
      "\n",
      "column FLOOR_PANEL_SHEETING : 1.0 not null ratio\n",
      "[0 1]\n",
      "\n",
      "column FLOODING : 1.0 not null ratio\n",
      "[0 1]\n",
      "\n",
      "column TOTAL_LOSS : 1.0 not null ratio\n",
      "[0 1]\n",
      "\n",
      "column MJ_MODEL_KEY : 1.0 not null ratio\n",
      "[  46   37   38   39   40   42   44   45   71   73   55   62   53   63\n",
      "   50 1160   72   64   49]\n",
      "\n",
      "column DT_MODEL_KEY : 1.0 not null ratio\n",
      "[  28  295  166  223  971  279 1560  537 1053  233  174   31  111   30\n",
      "   29  276  186  176   32  113  210  230  109  145   93  935 1648  247\n",
      "  110  103   99  112 1047  957  108  107 1588  116 1598 1050  938 1592\n",
      " 2570 2574 1605    0 2597 2630 2635 2657 2646 2672  183]\n",
      "\n",
      "column MJ_GRADE_KEY : 1.0 not null ratio\n",
      "[  158  1241  5782   722  9136   723   584   717  1168 16930 16931  1169\n",
      "  2534 10914  9160  9159   751  5783   167   166   474  4889   803  8502\n",
      "  8503  9225  5784   800  2533   756   173   490  9101  9151   165   801\n",
      "  4890   721  1150   684  8501  5788   805   467   757  4629  9152  5789\n",
      "  2532  8998   583  8508  5781  9031  5790  9137  9223 17276  8779  5787\n",
      "  5776   468 10912   907 10911  9027  9140  9100  9102  9260  9150 10187\n",
      "  9220   798  8728  8504   488   174 10873 10209  9158  1070   799  9139\n",
      "  9135   379   463  9153   378  9154   460  9161  9134 10874  5779  9029\n",
      "  8500 10913  5780   464  8505  4888 10875   465  8506  9224  9261   750\n",
      "  9103   582   749  8778 17136   802   469  1173  4892   475  5777  5778\n",
      "   175  8790   459  8727 17196 17030 17137     0 10884   842   473 17197\n",
      " 10192  1069   476 10885  8726 17165 10886 17146  8507 17199  9104  1182\n",
      "  9138   806  3937 10888 16932 17031  8780 16934 17198 16933   377   755\n",
      " 17600 10887   754 17144 17601 17619 10208 17245 17145  1068 17694 17695\n",
      " 17692 17656 17697  9226 17693 17797 17796 17849 17850 17795 17937 17878\n",
      " 17684 17798 17847 17938 17935 17683 17955   783 17940 17246 17696 18054\n",
      " 17941]\n",
      "\n",
      "column DT_GRADE_KEY : 1.0 not null ratio\n",
      "[18054 21541 21538 20503 20502 20497 21112 20501 23176 23180 21421 32590\n",
      " 32614 21422 21427 22349 24321 21251 21246     0 18107 21536 18047 18094\n",
      " 18061 18066 21408 20670 20657 22347 18045 18044 20605 22348 18139 20962\n",
      " 20964 20963 20960 21211 18082   391 20659 18049 20966 20486 23178 20496\n",
      "  3626 20112 20504 18060 18065 21244 22351 22350 19206 18095 18057 21535\n",
      " 18062 20608 23034 18048 20666 20658 32594 21217 23039 20488 22346 22345\n",
      " 20512 20489 20110 19205 18096 20117 20609 18046 20114 23184 36816 21113\n",
      " 21402 20660 20601 33596 23179 21245 21391 20505 23043 23033 23031 24319\n",
      " 23177 23181 21419 21418 21417 24316 20604 20566 20570 21116 20495 20490\n",
      " 21213 20959 20967 23823 21540 21425 20961 18081  3625 20665 23037  3707\n",
      " 21207 23036 21420 21379 20115 19473 18140 18090 18068 23038 19652 20958\n",
      " 18128 18093 24244 20492 23132 21242 21372 20487 20499 19480 21115 21111\n",
      " 18063 19203 36817 18108 21404 18112   392 21219 21216 19201 21403 18142\n",
      " 18055 19474 19479 21223  1401 21253 20485 21110 20109 20500 20493 24246\n",
      " 19536 20671 18059 18106 18104 20578 18042 18058 21221 24320 19552 20107\n",
      " 20606 19351 21412 21243  1587 18111 20600 18080 20661 20511 24322 18114\n",
      " 18069 21208 18050 23175 20663 24317 32588 21224 18126 20971  8889 24248\n",
      " 21209 19543 18074 18073 18053 21406 20565 24247 20507 23183 20111 24274\n",
      " 20564 19204 20975 21250 20103 18097 21390 18084 32591  4304 19478 19580\n",
      " 19540 19476 33268 18056 18052 20972 24219 21256 23030 24318 21255 18083\n",
      "  1402 19202 18115 20105 20669 19482  8902 21218 20969 21252 21399 20567\n",
      " 21537 18145 18133 21426 20113 21423 19483 19489 18144  1406 18098 21254\n",
      " 20607 18043 21210 18131 20108 20662 21381 20571 19350 33400 32986 20494\n",
      " 20672 33276 21374 24261 20104 20106 18099 19200 19539  2444 18138 20577\n",
      " 20970 21212 21215 18100 18143 23029 18109 21424 18113 33402 33401 19542\n",
      " 23072 33266 23073 20968 32586 20508 19541 21370  5419 20667 18105 20563\n",
      " 24262 18121 20593 21543 19349 33326 18051 20116 21407 21405 19488 21401\n",
      " 24266 33262 19538 18129 32613 21531 21534 33295 18130 18070 18089 20965\n",
      " 18101 19487 19546 33405 20977 21371 32607 18135 18141 23032 19491 21114\n",
      " 19207 18134 21220 18127 21533 23070 33275 24270 20973 24243 19475 32595\n",
      " 19579 24245 21410 32987 21542 21532 18136 20587 19498 21222  4303 23185\n",
      " 35188 35192 33270 35187 35190 32985 32596 33404 35189 19521 18064 33324\n",
      " 18071 21249 20976 21400 21369 18087 24264  5500 21373 20562 35475 35479\n",
      " 32592 24268 33293 32610 35476 23040 32601 20668 20118 21248 35477 32587\n",
      " 35538 35536 18092 32593 32589 35535 32615 18116 32609 23131 33540 23824\n",
      " 32608 24315 35715 32611 23069 33294 35537 18117 33269 24267 21539 21214\n",
      " 20572 22352 23035 35183 35775 35777 33274 33261 19492 21368 32600 19490\n",
      " 33267 35770 33406 35638 35543 19485 35184 35781 33554 20664 32616 21411\n",
      " 32599 24265 24260 35930 20509 36082 32597 35478 36078 35771 19697 32612\n",
      " 35539 21225 35639 23042 35193 36191 18085 32606 36199 24259 36077 18147\n",
      " 36380 35931 36275 35772 21386 36081 32598 35737 33325 36084 36200 36197\n",
      " 32617 20974 35194 35544 36383 35939 20599 36202 36376 22353 35714 35734\n",
      " 36379 20561 36201 19484 36448 19477 35776 35736 33399 36388 36080 18137\n",
      " 33541 33492 23182 35779 36696 35929 36381 19530 24269 18124 36273 32605\n",
      " 36503 21382 36389 32602 35566]\n",
      "\n",
      "column NC_GRADE_KEY : 1.0 not null ratio\n",
      "[ 5192 13750 17225 10890  5405 10889  5399 10918  5403  8602  8605 17200\n",
      " 31961 32004 13112 13116 15621 21218 17834  9329     0   759 13747  6721\n",
      "  6348  6352 13040  6687 15619  5783   716  5750 15620  8485  9864 17678\n",
      "  9865  9862  9290  5182  6268   747  5787  8600 10880  8603  9198 12996\n",
      "  5076 10891  6347  6351  8599  9327 15623 15622  6728  2253 17226   733\n",
      "  5757 17397  5786  6706  6688 31965  9295 17403  9205 10881 15618 15617\n",
      " 10887 10882  5074  6726  5081 12653  5784  5785  5185  5078  8608  8606\n",
      " 10919 13021  6692  6709 34716  8604  9328   732  9206  9208 17417 17396\n",
      " 17395 21216  9323  9270 13110 13627 13109 21213  5184  5749  5523  5527\n",
      " 18227  5397  5008  8598 10883  9291  9054  9867  9866 20794  5406 10892\n",
      " 13749 13115  9197   746  2239 13014  6705 17401 17201  6710  9286 17399\n",
      " 13111 12090  5079  4995   731 13477  9207  9203 17402  5407  3391   792\n",
      "  6349  6719 21070 10885 18190 13489 12077 17998  5401   719 18226 10917\n",
      "  5398  8486  5009  2249 13490  5636 13023   767  9296  9294  9860  9861\n",
      "  2247 13022  5193  3035 17291   760  9330 10879 12424  5073  5402 21072\n",
      " 12091  6717  6346  9199  5632  5634 11968  5780  2254  9298 19492 21217\n",
      "  5071  8596  5353  5753  2637  9062 13038  9326  3361   745  9061  6693\n",
      " 21219   717  5356  9055 13478  9287  5788  8601  6695 21214 31959 17292\n",
      "   790 17679  9863  5181 21074  9288  3126  5016  5015   726 13025 13232\n",
      "  5517 21073  8597  8607  5075 21184   757  5522  2251 13721 13753  5067\n",
      "  9875   715 31962 17203 13017  3111  3115   749 32440  5635   729 17680\n",
      "  6690  9333 17394 21215  9332  6266  9201  2248  9872  5069  6715  4998\n",
      "  3037   721 17290  9869 17835 13018  5524 13748 17202   748  5352 13113\n",
      " 13206 32018  9202  6711  6724  5408  9331 13231  5754   725  5010 17289\n",
      "   795  2600  4123  5072 12108  5007  5507  5781 32563  9057   727 32075\n",
      "  5782  9196  6718 32471  9063  9871   764 12079 21102  5068  5070  6691\n",
      "  2245  3114  3073   728  5077  5189 11966  9870  9289  9293 17393  9053\n",
      " 13114  5394  9897  6720 32564 32562  3125  9896 13481  5013 18327  5190\n",
      " 32438 18328  9868 31957  3116 12075  2250  3107  3123  5183  3109  9058\n",
      "  6269  6707   758 11958  5003 21103 11596 11658  5002 17832  5012 32535\n",
      " 11600  5080 13026 13024 13199  5354 13204 13020 21107  5396 32434  3113\n",
      "  5633 13482  6265 32003 18168 13746 18170 32452 13479  9056  2636  5006\n",
      "  2252 20615  8817  6694 13202  3130 32566  5191   750 17681   761 12076\n",
      "   766 31997 10886 20618 17227 13209 18225  6729  6727  9297   735   791\n",
      " 18169 19491 32470 21111 13719  5194  2635 21069  6730  9873   768  3039\n",
      " 31967 13016 21071  5395 13028 32076  5355 17831 20616 10878  3124 11646\n",
      "  3110  9879  2240 11371  9299 18331  9060  2615 38897 38901 32465 38896\n",
      " 38899   742 32074 31968 32567 38898 32022   801 32374  5014 11370 17400\n",
      " 17833 13200 18153   765 13019 13233 12074  2616  5004 21105  5746 12078\n",
      "   794 11957 39420 39425  9898   739 31963   793 21109 13230  8488 32453\n",
      " 32000   730   756 39422 20619 31973  6708 11369  5220  7706 13752  5011\n",
      " 39490 31958   724 39485 39483  6271  8489  6714 31964 31960 39482  8492\n",
      " 32006   783 31999 18189 32934 20798 31998 21212 39686 39688 32001 17674\n",
      " 32451 39484  2243  4124 11361 32464 21108   785 20617  8487  9292  5528\n",
      " 17218 17398 38890 39791 39797 32469 32433  6712 13214 12072 31972 13208\n",
      " 32439  6267 39423 39789 32565   755 39568  9874 39492   743 38891  9899\n",
      " 39799 33837  6689 32007 10907   718 31971  9195 21106 21101 39951   738\n",
      "  6044 40117 31969 39491  2246 40100 39794  3485 32002 39486 39424  9334\n",
      "  8482 39567 38902  6041  6716 40187   754 31996 40179 21100 40099  8491\n",
      " 40433 39952 40285 39795  2244 12115 40116  2617 31970 39713 32373 40119\n",
      "  2241 40178 40181  9876  6264 11367 32008 13720 38903 39493 40441 39960\n",
      " 11669 40176 40429 17217 39685 39711 40432 11956 40177 13140 40511  3041\n",
      " 39796 39712 32569  3118 40438  3112 40115 10908 32937  9059 39793 40751\n",
      " 39950 40434 13340 21110  5201 40283 31993 40575 12110 40439 11368 39522]\n",
      "\n",
      "column SHIPPING_PRICE : 0.8824536609229766 not null ratio\n",
      "[11310000.       nan 19340000. ... 44110000. 39320000. 49089202.]\n",
      "\n",
      "column NC_GRADE_PRICE : 0.8972386802196011 not null ratio\n",
      "[ 9490000. 19750000. 18170000. 17680000. 15800000. 16100000. 25950000.\n",
      " 32780000. 29650000. 31800000. 38700000.       nan 28700000. 28670000.\n",
      " 63400000. 84870000. 42200000. 10850000. 15140000. 14900000. 22390000.\n",
      " 16770000. 15350000. 10580000. 12140000. 13000000. 14140000. 34600000.\n",
      " 34710000.  7990000.  7890000.  8070000. 34300000. 37320000. 35900000.\n",
      " 10340000. 11270000. 10840000.  9080000. 13480000.  8490000. 17080000.\n",
      " 16740000. 14660000.  8810000. 17340000. 11180000. 22750000. 25000000.\n",
      " 12040000. 41300000. 19200000.  9320000. 11850000. 10500000. 12900000.\n",
      " 29350000. 26100000. 18850000.  9180000. 14920000. 15200000. 11320000.\n",
      "  8480000. 10130000. 27850000.  8530000. 36300000. 38100000. 29200000.\n",
      " 15010000. 21700000. 16050000. 23760000. 34500000. 31790000. 31600000.\n",
      " 19990000. 30580000. 29240000. 29800000. 25550000. 35400000. 17250000.\n",
      " 30300000.  9000000.  6660000.  7870000.  8510000.  9010000.  9440000.\n",
      " 25100000. 29100000. 29990000. 33330000. 14950000. 13360000. 41200000.\n",
      " 45000000. 36500000. 13750000. 13100000. 10810000. 17530000. 20600000.\n",
      " 17100000. 26800000. 24850000. 11900000. 31360000. 36340000. 40700000.\n",
      " 57860000. 56980000. 52280000.  9500000.  8850000.  7380000. 19250000.\n",
      " 21270000. 33630000. 42450000. 23650000. 11960000. 10000000. 26160000.\n",
      " 15950000.  8600000. 10410000. 11760000. 11600000. 11090000. 20100000.\n",
      " 11890000. 26650000. 17280000. 20950000. 18950000. 18990000.  8170000.\n",
      " 77300000. 23700000. 13250000. 16990000. 11100000. 14390000. 33300000.\n",
      " 85380000. 17050000. 62800000. 42370000. 37100000. 17450000. 55900000.\n",
      " 32100000. 30700000. 29950000. 62870000. 13150000. 21280000.  7190000.\n",
      " 37200000. 26900000. 26350000. 10090000.  9910000. 12190000. 17000000.\n",
      " 29450000. 19100000. 18600000. 17440000. 10140000. 11050000. 39210000.\n",
      " 11200000. 13500000. 55300000. 52320000. 11040000. 27950000. 37380000.\n",
      " 11390000. 20450000. 24550000. 30400000. 27250000.  8760000. 31780000.\n",
      " 30507690. 24950000. 33000000. 13940000. 16840000. 15100000. 23510000.\n",
      " 14840000. 16970000. 15810000. 12220000.  8430000.  8780000. 18130000.\n",
      " 14190000. 30220000. 26450000. 36880000. 19390000.  9850000. 38240000.\n",
      " 15500000. 23670000. 20250000. 13700000. 17880000. 21950000. 29980000.\n",
      " 38750000. 63250000. 11930000. 28250000. 10100000. 61160000. 23090000.\n",
      " 33780000. 35800000. 34510000.  9030000. 64000000. 31680000.  9110000.\n",
      " 26000000. 19360000. 20750000. 22090000. 25080000. 31330000. 30080000.\n",
      "  6920000.  9770000. 13930000. 16950000. 31410000. 15430000. 18750000.\n",
      " 18370000. 14400000. 38280000. 32900000.  8800000. 25050000.  6770000.\n",
      "  8340000. 24780000. 32380000. 14110000. 12400000.  8550000. 12610000.\n",
      " 10620000. 12160000. 24700000. 30680000. 42700000. 13200000.  8410000.\n",
      " 11740000. 30250000.  9810000. 10200000. 12300000.  8310000. 48400000.\n",
      " 10380000.  9550000. 51970000. 23350000. 33530000. 24740000. 16180000.\n",
      "  7740000. 10920000. 42500000. 12810000. 11630000. 35740000. 11720000.\n",
      "  9880000. 12450000. 10700000.  7540000. 14060000. 86200000. 37630000.\n",
      " 12550000. 20520000. 14560000. 13550000.  8040000. 15780000. 33600000.\n",
      " 18550000. 24200000. 72600000.  9700000. 27100000. 38000000. 58210000.\n",
      " 12370000. 20960000. 18230000. 19660000.  8900000. 13180000. 15600000.\n",
      " 14260000. 32180490. 28850000. 41400000. 24340000. 78300000. 38450000.\n",
      "  7710000. 11250000. 18290000. 21750000. 10300000. 18410000. 14210000.\n",
      " 10210000. 12570000. 11830000. 55800000. 34000000. 16250000. 23500000.\n",
      " 11150000. 15050000. 17150000. 27300000. 19620000. 19050000. 11700000.\n",
      " 52900000. 16620000. 30600000. 26500000. 86400000.  8090000. 31100000.\n",
      " 35550000. 53300000.  7060000.  9600000. 48700000. 16400000. 12990000.\n",
      "  9350000. 16350000. 26360000. 29600000. 31750000.  9370000. 13900000.\n",
      " 15700000. 15340000. 19550000. 20540000. 18210000. 65210000. 16900000.\n",
      " 24100000. 23150000. 15250000. 29900000. 68500000. 39290000. 15530000.\n",
      " 15940000.  6330000. 20300000. 28150000. 44010000. 18650000. 13230000.\n",
      " 20350000. 37360000. 22230000.  9470000. 11460000. 27920000. 12130000.\n",
      " 33160000. 14200000. 33350000. 32830000.  7880000.  7460000.  6620000.\n",
      " 13450000. 12520000. 31080000. 44680000. 18730000. 33510000. 66000000.\n",
      " 15730000. 67290000. 35600000. 13170000. 11080000. 33900000. 22770000.\n",
      "  7160000. 58900000. 22330000. 30330000. 11800000.  9360000. 13650000.\n",
      "  7530000. 22300000. 30810000. 56000000. 36870000. 10730000. 23800000.\n",
      " 14930000. 33380000. 49900000. 13390000.  8330000. 14020000. 22670000.\n",
      " 39500000. 32700000. 38800000. 34950000. 16810000. 10630000. 18300000.\n",
      " 39000000.  9710000. 15280000. 13120000. 14480000. 23200000. 46560000.\n",
      "  7140000. 10950000.  8650000. 20780000. 15000000. 12690000. 15290000.\n",
      " 11550000. 37180000. 11430000.  9990000.  8300000.  9060000. 72300000.\n",
      " 18100000. 35700000. 39200000. 30900000. 34260000. 19270000. 16500000.\n",
      " 18320000. 75800000. 17420000. 12470000. 12060000. 38480000. 22000000.\n",
      " 19090000. 22950000.  8710000. 22040000.  6750000. 33400000. 20980000.\n",
      " 19130000. 41350000. 62600000. 19230000. 15740000. 31050000. 18740000.\n",
      "  8840000. 18310000.  7970000. 11990000. 12480000. 18110000. 36080000.\n",
      " 20390000. 17220000. 15550000.  7320000.  7660000. 17310000. 14990000.\n",
      " 28600000. 19850000. 23050000. 12390000. 11170000.  9580000. 37370000.\n",
      " 16200000. 14630000. 27700000.  8680000. 37220000. 12000000. 22250000.\n",
      " 17350000. 17300000. 14130000. 27050000. 12350000. 21900000. 30710000.\n",
      " 18610000. 22100000. 17010000. 54640000. 10860000. 11440000. 39400000.\n",
      " 62300000. 19900000. 21550000.  9690000. 13990000.  7650000. 17900000.\n",
      " 44200000. 10600000.  8190000. 40210000. 33450000. 11160000. 11450000.\n",
      " 16560000. 18360000. 33100000.  8980000. 16910000. 13530000. 24180000.\n",
      " 16170000.  7700000. 41940000. 14740000. 18260000. 23410000. 12750000.\n",
      " 28500000. 26090000. 15920000. 46530000. 30460000. 16850000. 16030000.\n",
      " 41500000. 36600000.  8350000.  7290000. 39270000. 29290000. 21100000.\n",
      " 10800000. 39060000. 32920000. 22900000. 23000000. 10440000. 21880000.\n",
      "  8220000. 21000000. 39760000. 19150000. 11350000. 18220000. 58000000.\n",
      " 19300000. 19120000. 32220000. 34240000. 13260000. 56800000. 14030000.\n",
      "  9510000. 21450000. 14640000. 14800000. 29500000. 10680000. 20000000.\n",
      " 19740000. 27440000. 24540000. 13030000. 18020000. 38050000. 12290000.\n",
      " 18390000. 11300000. 17800000. 12780000. 22470000.  8250000. 71270000.\n",
      " 19950000. 17120000. 21350000. 48600000. 25800000. 39020000.  9890000.\n",
      " 20180000. 15580000. 12600000. 12800000. 21300000. 33080000. 20370000.\n",
      " 16660000. 36070000. 33650000. 24800000. 37910000. 14420000. 28400000.\n",
      " 30480000. 25200000. 11820000. 22800000. 55760000. 29460000. 71020000.\n",
      " 31380000. 16450000. 28800000. 31150000. 15640000. 29430825. 28550000.\n",
      " 15360000. 14290000. 29840000. 15130000. 11000000. 36050000. 84620000.\n",
      " 18440000. 18190000.  9980000. 17820000. 62050000. 28200000. 11980000.\n",
      "  6840000. 21780000. 41860000. 12930000. 26700000. 16860000. 21650000.\n",
      " 36700000. 18970000. 74900000. 25720000. 41910000. 21600000. 36350000.\n",
      " 30200000. 17480000. 62650000. 10910000. 40900000. 15990000. 19400000.\n",
      " 11530000. 33200000. 34130000. 28170000. 32800000. 19570000. 32600000.\n",
      " 48990000. 84360000. 18070000. 40230000. 23100000. 30360000. 46080000.\n",
      " 31250000. 18450000. 16120000. 34900000.  7390000. 19860000. 15400000.\n",
      " 68300000. 14430000. 38840000. 39750000. 19450000. 23850000.  9570000.\n",
      " 18930000. 11950000. 31280000. 14340000. 44400000. 12650000.  9900000.\n",
      " 18340000. 43900000. 54930000. 17060000. 12500000. 35100000. 18940000.\n",
      "  9260000. 33700000. 40000000. 33430000. 13310000. 35500000. 21870000.\n",
      " 15660000.  9150000. 23950000. 32950000. 27150000. 21980000. 17950000.\n",
      " 19350000. 29220000. 32200000. 30130000. 14330000. 19730000. 18000000.\n",
      " 18620000. 16000000. 14460000. 18420000. 75930000.  9420000. 38600000.\n",
      " 35830000. 15270000. 38400000. 16550000. 21730000. 21130000. 48800000.\n",
      " 51100000. 22150000. 15450000. 45840000. 48950000. 17760000. 19810000.\n",
      " 27780000.  8500000. 71450000. 12760000. 16440000. 16800000. 35650000.\n",
      " 17630000. 37800000. 15210000. 18800000.  9750000. 13640000. 24350000.\n",
      " 28300000. 67690000. 13380000. 18580000. 22650000. 19600000. 26850000.\n",
      " 42800000. 17160000. 34180000. 27650000. 20230000. 31430000. 26200000.\n",
      " 13670000. 35930000. 51700000. 40910000. 16470000. 16640000. 73700000.\n",
      " 21500000. 13240000. 25150000. 14550000. 14100000. 31000000.  8210000.\n",
      " 17270000. 10190000. 12910000. 17550000. 21050000. 23750000. 19040000.\n",
      " 16230000. 41180000. 37500000.  5200000. 22730000. 54800000. 12310000.\n",
      " 12200000. 64100000.  9450000. 25700000. 34110000. 30850000. 19340000.\n",
      " 18240000. 32400000. 43100000. 29850000. 15710000. 11750000. 21010000.\n",
      " 59500000. 35050000. 18900000. 22200000. 40300000. 13010000. 15410000.\n",
      " 12840000. 15770000. 24840000. 38310000. 27350000. 32820000. 57320000.\n",
      " 12630000. 10760000. 32690000. 29530000. 62000000. 11560000. 10900000.\n",
      " 28050000. 22700000. 16700000. 21790000. 26940000. 22450000. 14280000.\n",
      "  9170000. 15440000. 27550000. 17110000. 54900000. 11490000. 31200000.\n",
      " 16320000. 25300000. 38730000. 28160000. 12240000. 34980000. 35000000.\n",
      " 10960000. 47100000. 29550000. 22130000. 82300000. 62280000. 39170000.\n",
      " 13800000. 20220000. 40420000. 21990000. 17720000. 12150000. 23900000.\n",
      " 18050000. 24640000. 41600000. 68900000. 13840000. 15850000. 19800000.\n",
      " 17770000. 22280000. 43400000. 44900000. 34360000. 51830000.  8060000.\n",
      " 27500000. 32550000. 93300000. 14700000. 18010000. 26250000.]\n",
      "\n",
      "column ABS : 1.0 not null ratio\n",
      "[0 1]\n",
      "\n",
      "column AB2 : 1.0 not null ratio\n",
      "[0 1]\n",
      "\n",
      "column NAVIGATION : 1.0 not null ratio\n",
      "[0 1]\n",
      "\n",
      "column VDC : 1.0 not null ratio\n",
      "[0 1]\n",
      "\n",
      "column SMARTKEY : 1.0 not null ratio\n",
      "[0 1]\n",
      "\n",
      "column SUNLOOPPANORAMA : 1.0 not null ratio\n",
      "[0 1]\n",
      "\n",
      "column SUNLOOPCOMMON : 1.0 not null ratio\n",
      "[0 1]\n",
      "\n",
      "column DIS : 1.0 not null ratio\n",
      "[0 1]\n",
      "\n",
      "column TCS : 1.0 not null ratio\n",
      "[0 1]\n",
      "\n",
      "column AB1 : 1.0 not null ratio\n",
      "[1 0]\n",
      "\n",
      "column AV : 1.0 not null ratio\n",
      "[0 1]\n",
      "\n",
      "column ECS : 1.0 not null ratio\n",
      "[0 1]\n",
      "\n"
     ]
    }
   ],
   "source": [
    "print_null_ratio(df_2)"
   ]
  },
  {
   "cell_type": "code",
   "execution_count": 16,
   "metadata": {
    "id": "tzzyjTN2XZQ4"
   },
   "outputs": [],
   "source": [
    "# null값 존재하는 컬럼:\n",
    "#     # 소수 존재\n",
    "# CARREGIYMD(차량등록일) \n",
    "# FUELNM(연료타입) \n",
    "# USEUSENM(용도명) \n",
    "# OWNECLASNM(소유명) \n",
    "\n",
    "#     # 비교적 다수 존재\n",
    "# SHIPPING_PRICE\n",
    "# NC_GRADE_PRICE"
   ]
  },
  {
   "cell_type": "code",
   "execution_count": 17,
   "metadata": {
    "colab": {
     "base_uri": "https://localhost:8080/",
     "height": 197
    },
    "id": "JeBW3p3RXZOr",
    "outputId": "ec844e01-4cc6-482b-cf72-5d2221839623"
   },
   "outputs": [
    {
     "name": "stdout",
     "output_type": "stream",
     "text": [
      "----------------------------------------\n",
      "Null 값 개수 in 'CARREGIYMD' : 1\n",
      "Null 값 개수 in 'FUELNM' : 1\n",
      "Null 값 개수 in 'OWNECLASNM' : 13\n",
      "----------------------------------------\n",
      "Null 값 개수 in 'USEUSENM' : 323\n",
      "----------------------------------------\n",
      "Null 값 개수 in 'SHIPPING_PRICE' : 4325\n",
      "Null 값 개수 in 'NC_GRADE_PRICE' : 3781\n",
      "----------------------------------------\n"
     ]
    }
   ],
   "source": [
    "print('-'*40)\n",
    "print(\"Null 값 개수 in 'CARREGIYMD'\", ':', len(df[df['CARREGIYMD'].isnull() == True]))\n",
    "print(\"Null 값 개수 in 'FUELNM'\", ':', len(df[df['FUELNM'].isnull() == True]))\n",
    "print(\"Null 값 개수 in 'OWNECLASNM'\", ':', len(df[df['OWNECLASNM'].isnull() == True]))\n",
    "print('-'*40)\n",
    "print(\"Null 값 개수 in 'USEUSENM'\", ':', len(df[df['USEUSENM'].isnull() == True]))\n",
    "print('-'*40)\n",
    "print(\"Null 값 개수 in 'SHIPPING_PRICE'\", ':', len(df[df['SHIPPING_PRICE'].isnull() == True]))\n",
    "print(\"Null 값 개수 in 'NC_GRADE_PRICE'\", ':', len(df[df['NC_GRADE_PRICE'].isnull() == True]))\n",
    "print('-'*40)"
   ]
  },
  {
   "cell_type": "code",
   "execution_count": 18,
   "metadata": {
    "id": "tiWAHwwxXZGD"
   },
   "outputs": [],
   "source": [
    "#Null 값이 적은 3개의 변수는 관측치를 삭제한다\n",
    "#용도명은 가격에 큰 영향을 주지 않는다고 판단하여, 최빈치로 채워준다. \n",
    "#프라이스는 따로 함수를 만들어서 처리해준다 "
   ]
  },
  {
   "cell_type": "code",
   "execution_count": 19,
   "metadata": {
    "id": "wf9GrhugXY8e"
   },
   "outputs": [],
   "source": [
    "# 낙찰일자, 차량등록일 datetime 형식으로 변환\n",
    "# 사용기간 변수 추가\n",
    "# 사용기간이 음수인 레코드 제거\n",
    "\n",
    "def to_datetime(df):\n",
    "    \n",
    "    df = df.copy()\n",
    "    df['SUCCYMD_adj'] = datetime.datetime(2020,1,1)\n",
    "    df['CARREGIYMD_adj'] = datetime.datetime(2020,1,1)\n",
    "    df['Used_days'] = 0\n",
    "    \n",
    "    for i in range(df.shape[0]):\n",
    "        df.loc[i, 'SUCCYMD'] = str(df.loc[i, 'SUCCYMD'])\n",
    "        df.loc[i, 'CARREGIYMD'] = str(df.loc[i, 'CARREGIYMD'])\n",
    "        df.loc[i, 'SUCCYMD_adj'] = datetime.datetime(int(df.loc[i, 'SUCCYMD'][0:4]), int(df.loc[i, 'SUCCYMD'][4:6]), int(df.loc[i, 'SUCCYMD'][6:8]))\n",
    "        df.loc[i, 'CARREGIYMD_adj'] = datetime.datetime(int(df.loc[i, 'CARREGIYMD'][0:4]), int(df.loc[i, 'CARREGIYMD'][4:6]), int(df.loc[i, 'CARREGIYMD'][6:8]))\n",
    "        \n",
    "    df['Used_days'] = df['SUCCYMD_adj'] - df['CARREGIYMD_adj']\n",
    "    \n",
    "    neg_Used_days = []\n",
    "    for i in range(df.shape[0]):\n",
    "        if (df.loc[i, 'Used_days'] < datetime.timedelta(0)):\n",
    "            neg_Used_days.append(i)\n",
    "            \n",
    "    df.drop(neg_Used_days, inplace=True)\n",
    "    print('Dropped records with index:', neg_Used_days)\n",
    "    df = df.reset_index(drop=True)\n",
    "    \n",
    "    df.drop(['SUCCYMD' , 'CARREGIYMD'] , axis =1 , inplace = True)\n",
    "    \n",
    "    return df"
   ]
  },
  {
   "cell_type": "code",
   "execution_count": 20,
   "metadata": {
    "id": "D7-cjEhaXwRa"
   },
   "outputs": [],
   "source": [
    "#'CARREGIYMD' , 'FUELNM' , 'OWNECLASNM' 는 Null 값이 있는경우 삭제해주고 \n",
    "#'USEUSENM' 은 최빈치로 채워준다 \n",
    "# price의 결측치는 shipping price > nc_grade_price > NEWCARPRICE 순으로 중요도를 설정하고 \n",
    "# 3가지 모두 없을 경우 제거해준다 \n",
    "def Null_handle(df):\n",
    "    \n",
    "    df = df.copy()\n",
    "    \n",
    "    #관측치 제거 \n",
    "    df.drop(df[df['CARREGIYMD'].isnull() == True].index , axis = 0 , inplace = True )\n",
    "    df.drop(df[df['FUELNM'].isnull() == True].index , axis = 0 , inplace = True )\n",
    "    df.drop(df[df['OWNECLASNM'].isnull() == True].index , axis = 0 , inplace = True )\n",
    "    \n",
    "    #최빈치로 Null값 보간\n",
    "    #fill_val = {'USEUSENM' : df.USEUSENM.mode()}\n",
    "    \n",
    "    #df.fillna(fill_val, inplace = True)\n",
    "    \n",
    "    #우선 드랍하고 진행 \n",
    "    df.drop(df[df['USEUSENM'].isnull() == True].index , axis = 0 , inplace = True )\n",
    "    \n",
    "    df = df.reset_index(drop=True)\n",
    "    \n",
    "    return df \n",
    "\n",
    "# 3가지 유형의 Price 신뢰도순으로 선택하여 'PRICE_adj'에 저장 \n",
    "# 값이 셋다 존재하지 않을 시 해당 레코드 제거\n",
    "def make_price(df):\n",
    "    \n",
    "    import math\n",
    "    \n",
    "    df = df.copy()\n",
    "    df['PRICE_adj'] = 0\n",
    "    price_null_ind = []\n",
    "    \n",
    "    for i in range(df.shape[0]):\n",
    "        if (math.isnan(df.loc[i, 'SHIPPING_PRICE']) == False):\n",
    "            df.loc[i, 'PRICE_adj'] = df.loc[i, 'SHIPPING_PRICE']\n",
    "        else:\n",
    "            if (math.isnan(df.loc[i, 'NC_GRADE_PRICE']) == False):\n",
    "                df.loc[i, 'PRICE_adj'] = df.loc[i, 'NC_GRADE_PRICE']\n",
    "            else:\n",
    "                if (math.isnan(df.loc[i, 'NEWCARPRIC']) == False):\n",
    "                    df.loc[i, 'PRICE_adj'] = df.loc[i, 'NEWCARPRIC']\n",
    "                else:\n",
    "                    price_null_ind.append(i)\n",
    "                    \n",
    "    df.drop(price_null_ind, inplace=True)\n",
    "    \n",
    "    print('Dropped records with index:', price_null_ind)\n",
    "    \n",
    "    df.drop(['SHIPPING_PRICE' , 'NC_GRADE_PRICE'] , axis = 1 , inplace = True)\n",
    "    \n",
    "    df = df.reset_index(drop=True)\n",
    "    \n",
    "    return df"
   ]
  },
  {
   "cell_type": "code",
   "execution_count": 21,
   "metadata": {
    "colab": {
     "base_uri": "https://localhost:8080/",
     "height": 35
    },
    "id": "RI2Ke1VrXwe9",
    "outputId": "52813574-94ab-4e0d-d8e9-e1cf854ab822"
   },
   "outputs": [
    {
     "name": "stdout",
     "output_type": "stream",
     "text": [
      "Dropped records with index: []\n"
     ]
    }
   ],
   "source": [
    "df_3 = Null_handle(df_2)\n",
    "df_3 = make_price(df_3)"
   ]
  },
  {
   "cell_type": "code",
   "execution_count": 22,
   "metadata": {
    "colab": {
     "base_uri": "https://localhost:8080/",
     "height": 143
    },
    "id": "NOsHIJjTXwnp",
    "outputId": "33baa731-b8b0-4944-a9a4-e7b574c06379"
   },
   "outputs": [
    {
     "name": "stdout",
     "output_type": "stream",
     "text": [
      "----------------------------------------\n",
      "Null 값 개수 in 'CARREGIYMD' : 0\n",
      "Null 값 개수 in 'FUELNM' : 0\n",
      "Null 값 개수 in 'OWNECLASNM' : 0\n",
      "----------------------------------------\n",
      "Null 값 개수 in 'USEUSENM' : 0\n",
      "----------------------------------------\n"
     ]
    }
   ],
   "source": [
    "print('-'*40)\n",
    "print(\"Null 값 개수 in 'CARREGIYMD'\", ':', len(df_3[df_3['CARREGIYMD'].isnull() == True]))\n",
    "print(\"Null 값 개수 in 'FUELNM'\", ':', len(df_3[df_3['FUELNM'].isnull() == True]))\n",
    "print(\"Null 값 개수 in 'OWNECLASNM'\", ':', len(df_3[df_3['OWNECLASNM'].isnull() == True]))\n",
    "print('-'*40)\n",
    "print(\"Null 값 개수 in 'USEUSENM'\", ':', len(df_3[df_3['USEUSENM'].isnull() == True]))\n",
    "print('-'*40)"
   ]
  },
  {
   "cell_type": "code",
   "execution_count": 23,
   "metadata": {
    "colab": {
     "base_uri": "https://localhost:8080/",
     "height": 35
    },
    "id": "ClY6J3j4Xw-1",
    "outputId": "2114149e-5150-4c59-d1cf-8a3a57f4fe2e"
   },
   "outputs": [
    {
     "name": "stdout",
     "output_type": "stream",
     "text": [
      "There_is_no_Null_values\n"
     ]
    }
   ],
   "source": [
    "if sum(df_3.isnull().sum()) == 0: \n",
    "    print('There_is_no_Null_values')"
   ]
  },
  {
   "cell_type": "code",
   "execution_count": 24,
   "metadata": {
    "colab": {
     "base_uri": "https://localhost:8080/",
     "height": 35
    },
    "id": "S1DP2Q_yXw8c",
    "outputId": "aa45a33b-0c4a-4f21-993c-5d3a3a68f1f2"
   },
   "outputs": [
    {
     "name": "stdout",
     "output_type": "stream",
     "text": [
      "dropped_observation_so_far : 331\n"
     ]
    }
   ],
   "source": [
    "print('dropped_observation_so_far : {}'.format(df.shape[0] - df_3.shape[0]))"
   ]
  },
  {
   "cell_type": "code",
   "execution_count": 25,
   "metadata": {
    "id": "1J_smynRXw5t"
   },
   "outputs": [],
   "source": [
    "# OX 나 YN으로 표현된 칼럼을 1,0으로 바꿔준다 \n",
    "# O or Y -> 1    X or N -> 0\n",
    "def str_to_onehot(df , str_columns): \n",
    "    \n",
    "    df = df.copy()\n",
    "    \n",
    "    def temp_func(str_):\n",
    "        \n",
    "        if str_ == 'O' or str_ == 'Y': \n",
    "            \n",
    "            str_ = 1\n",
    "        else:\n",
    "            \n",
    "            str_ = 0\n",
    "            \n",
    "        return str_\n",
    "    for column in str_columns:\n",
    "        \n",
    "        df[column] = df[column].apply(temp_func)\n",
    "    \n",
    "    return df\n",
    "    "
   ]
  },
  {
   "cell_type": "code",
   "execution_count": 26,
   "metadata": {
    "colab": {
     "base_uri": "https://localhost:8080/",
     "height": 89
    },
    "id": "6TlWqjUkXw3U",
    "outputId": "3b0a6427-2fe2-40ae-e7f5-cb0798aa4439"
   },
   "outputs": [
    {
     "name": "stdout",
     "output_type": "stream",
     "text": [
      "YEARCHK_components : {'N', 'Y'}\n",
      "INNEEXPOCLASCD_YN_components : {'X', 'O'}\n",
      "YEARCHK_components : {0, 1}\n",
      "INNEEXPOCLASCD_YN_components : {0, 1}\n"
     ]
    }
   ],
   "source": [
    "#변수중에 OX, YN으로 표현된것들이 있기 때문에 1,0 으로 다시 바꿔준다 \n",
    "print('YEARCHK_components : {}'.format(set(df_3['YEARCHK'])))\n",
    "print('INNEEXPOCLASCD_YN_components : {}'.format(set(df_3['INNEEXPOCLASCD_YN'])))\n",
    "\n",
    "df_4 = str_to_onehot(df_3 , ['INNEEXPOCLASCD_YN' , 'YEARCHK'])\n",
    "\n",
    "print('YEARCHK_components : {}'.format(set(df_4['YEARCHK'])))\n",
    "print('INNEEXPOCLASCD_YN_components : {}'.format(set(df_4['INNEEXPOCLASCD_YN'])))"
   ]
  },
  {
   "cell_type": "code",
   "execution_count": 27,
   "metadata": {
    "id": "z5pptC0MXwuH"
   },
   "outputs": [],
   "source": [
    "# 낙찰일자, 차량등록일 datetime 형식으로 변환\n",
    "# 사용기간 변수 추가\n",
    "# 사용기간이 음수인 레코드 제거\n",
    "def to_datetime(df):\n",
    "    \n",
    "    import datetime\n",
    "    \n",
    "    df = df.copy()\n",
    "    df['SUCCYMD_adj'] = datetime.datetime(2020,1,1)\n",
    "    df['CARREGIYMD_adj'] = datetime.datetime(2020,1,1)\n",
    "    df['Used_days'] = 0\n",
    "    \n",
    "    for i in range(df.shape[0]):\n",
    "        df.loc[i, 'SUCCYMD'] = str(df.loc[i, 'SUCCYMD'])\n",
    "        df.loc[i, 'CARREGIYMD'] = str(df.loc[i, 'CARREGIYMD'])\n",
    "        df.loc[i, 'SUCCYMD_adj'] = datetime.datetime(int(df.loc[i, 'SUCCYMD'][0:4]), int(df.loc[i, 'SUCCYMD'][4:6]), int(df.loc[i, 'SUCCYMD'][6:8]))\n",
    "        df.loc[i, 'CARREGIYMD_adj'] = datetime.datetime(int(df.loc[i, 'CARREGIYMD'][0:4]), int(df.loc[i, 'CARREGIYMD'][4:6]), int(df.loc[i, 'CARREGIYMD'][6:8]))\n",
    "        \n",
    "    df['Used_days'] = df['SUCCYMD_adj'] - df['CARREGIYMD_adj']\n",
    "    \n",
    "    neg_Used_days = []\n",
    "    for i in range(df.shape[0]):\n",
    "        if (df.loc[i, 'Used_days'] < datetime.timedelta(0)):\n",
    "            neg_Used_days.append(i)\n",
    "            \n",
    "    df.drop(neg_Used_days, inplace=True)\n",
    "    print('Dropped records with index:', neg_Used_days)\n",
    "    df = df.reset_index(drop=True)\n",
    "    \n",
    "    df.drop(['SUCCYMD' , 'CARREGIYMD'] , axis =1 , inplace = True)\n",
    "    \n",
    "    return df"
   ]
  },
  {
   "cell_type": "code",
   "execution_count": 28,
   "metadata": {
    "colab": {
     "base_uri": "https://localhost:8080/",
     "height": 35
    },
    "id": "Xr5OS7MtXwqr",
    "outputId": "31ec2a9f-4a5f-44e8-cae6-628bc15f080a"
   },
   "outputs": [
    {
     "name": "stdout",
     "output_type": "stream",
     "text": [
      "Dropped records with index: [4000, 4001, 4012, 4216, 4755, 8250, 18879]\n"
     ]
    }
   ],
   "source": [
    "#날짜형식의 데이터로 변환\n",
    "#등록일자가 낙찰일자보다 빠른경우 삭제 \n",
    "#사용기간 변수 추가 \n",
    "df_5 = to_datetime(df_4)"
   ]
  },
  {
   "cell_type": "code",
   "execution_count": 29,
   "metadata": {
    "colab": {
     "base_uri": "https://localhost:8080/",
     "height": 35
    },
    "id": "b1QHVB_zXwlC",
    "outputId": "dc51387f-9707-4c8e-bccf-faf7ab429f3e"
   },
   "outputs": [
    {
     "name": "stdout",
     "output_type": "stream",
     "text": [
      "dropped_observation_so_far : 338\n"
     ]
    }
   ],
   "source": [
    "print('dropped_observation_so_far : {}'.format(df.shape[0] - df_5.shape[0]))"
   ]
  },
  {
   "cell_type": "code",
   "execution_count": 30,
   "metadata": {
    "id": "z3GLwFezcU8j"
   },
   "outputs": [],
   "source": [
    "#파생변수 생성 \n",
    "#차대 번호가 내포하는 의미가 \n",
    "#1~3 제조국가, 회사 \n",
    "#4~5 모델 \n",
    "#6~7 타입 \n",
    "#8 엔진 \n",
    "#따라서 차대번호에서 4~8번째만 골라서 vin이라는 변수를 만들어준다"
   ]
  },
  {
   "cell_type": "code",
   "execution_count": 31,
   "metadata": {
    "id": "ZEE7Q0EdcVke"
   },
   "outputs": [],
   "source": [
    "# 차대번호 5자리 뽑아내서 'vin' 이라는 새로운 컬럼생성\n",
    "# 아웃풋에서는 차대번호를 삭제해준다 \n",
    "def make_vin(df_input):\n",
    "    \n",
    "    df_input = df_input.copy()\n",
    "    \n",
    "    df_input['vin'] = ''\n",
    "\n",
    "    for i in range(df_input.shape[0]):\n",
    "        \n",
    "        df_input.loc[i, 'vin'] = df_input.loc[i, 'CHASNO'][3:8]\n",
    "        \n",
    "    df_output = df_input.drop( columns ='CHASNO')\n",
    "    \n",
    "    return df_output"
   ]
  },
  {
   "cell_type": "code",
   "execution_count": 32,
   "metadata": {
    "id": "TxStjl7zcVhW"
   },
   "outputs": [],
   "source": [
    "#차이름을 드랍해준다 \n",
    "def drop_car_name(df):\n",
    "    \n",
    "    df = df.copy()\n",
    "    \n",
    "    df.drop(columns = 'CARNM', inplace = True)\n",
    "    \n",
    "    return df "
   ]
  },
  {
   "cell_type": "code",
   "execution_count": 33,
   "metadata": {
    "id": "ujI1AITacVeA"
   },
   "outputs": [],
   "source": [
    "#vin칼럼을 생성해준다 \n",
    "\n",
    "#실행시간이 오래 걸려서 실행후 다시 하는일이 없도록 주석처리해주자 \n",
    "df_6 = make_vin(df_5)"
   ]
  },
  {
   "cell_type": "code",
   "execution_count": 34,
   "metadata": {
    "id": "ZVy0EljIcVc5"
   },
   "outputs": [],
   "source": [
    "df_7 = drop_car_name(df_6)"
   ]
  },
  {
   "cell_type": "code",
   "execution_count": 35,
   "metadata": {
    "colab": {
     "base_uri": "https://localhost:8080/",
     "height": 224
    },
    "id": "VJFeCCGAcVZy",
    "outputId": "f1d679af-ad2c-4857-a6fb-6e204a18060c"
   },
   "outputs": [
    {
     "data": {
      "text/html": [
       "<div>\n",
       "<style scoped>\n",
       "    .dataframe tbody tr th:only-of-type {\n",
       "        vertical-align: middle;\n",
       "    }\n",
       "\n",
       "    .dataframe tbody tr th {\n",
       "        vertical-align: top;\n",
       "    }\n",
       "\n",
       "    .dataframe thead th {\n",
       "        text-align: right;\n",
       "    }\n",
       "</style>\n",
       "<table border=\"1\" class=\"dataframe\">\n",
       "  <thead>\n",
       "    <tr style=\"text-align: right;\">\n",
       "      <th></th>\n",
       "      <th>YEAR</th>\n",
       "      <th>MISSNM</th>\n",
       "      <th>FUELNM</th>\n",
       "      <th>COLOR</th>\n",
       "      <th>EXHA</th>\n",
       "      <th>TRAVDIST</th>\n",
       "      <th>USEUSENM</th>\n",
       "      <th>OWNECLASNM</th>\n",
       "      <th>INNEEXPOCLASCD_YN</th>\n",
       "      <th>NEWCARPRIC</th>\n",
       "      <th>...</th>\n",
       "      <th>DIS</th>\n",
       "      <th>TCS</th>\n",
       "      <th>AB1</th>\n",
       "      <th>AV</th>\n",
       "      <th>ECS</th>\n",
       "      <th>PRICE_adj</th>\n",
       "      <th>SUCCYMD_adj</th>\n",
       "      <th>CARREGIYMD_adj</th>\n",
       "      <th>Used_days</th>\n",
       "      <th>vin</th>\n",
       "    </tr>\n",
       "  </thead>\n",
       "  <tbody>\n",
       "    <tr>\n",
       "      <td>0</td>\n",
       "      <td>2011</td>\n",
       "      <td>A/T</td>\n",
       "      <td>LPG</td>\n",
       "      <td>C</td>\n",
       "      <td>1000</td>\n",
       "      <td>38480</td>\n",
       "      <td>자가</td>\n",
       "      <td>법인</td>\n",
       "      <td>0</td>\n",
       "      <td>10704916</td>\n",
       "      <td>...</td>\n",
       "      <td>0</td>\n",
       "      <td>0</td>\n",
       "      <td>1</td>\n",
       "      <td>0</td>\n",
       "      <td>0</td>\n",
       "      <td>11310000.0</td>\n",
       "      <td>2016-01-05</td>\n",
       "      <td>2010-06-16</td>\n",
       "      <td>2029 days</td>\n",
       "      <td>BK518</td>\n",
       "    </tr>\n",
       "    <tr>\n",
       "      <td>1</td>\n",
       "      <td>2013</td>\n",
       "      <td>A/T</td>\n",
       "      <td>가솔린</td>\n",
       "      <td>A</td>\n",
       "      <td>1600</td>\n",
       "      <td>62240</td>\n",
       "      <td>자가</td>\n",
       "      <td>법인</td>\n",
       "      <td>0</td>\n",
       "      <td>21230000</td>\n",
       "      <td>...</td>\n",
       "      <td>0</td>\n",
       "      <td>0</td>\n",
       "      <td>0</td>\n",
       "      <td>1</td>\n",
       "      <td>0</td>\n",
       "      <td>19750000.0</td>\n",
       "      <td>2016-01-05</td>\n",
       "      <td>2013-02-07</td>\n",
       "      <td>1062 days</td>\n",
       "      <td>FZ412</td>\n",
       "    </tr>\n",
       "    <tr>\n",
       "      <td>2</td>\n",
       "      <td>2014</td>\n",
       "      <td>A/T</td>\n",
       "      <td>가솔린</td>\n",
       "      <td>A</td>\n",
       "      <td>1591</td>\n",
       "      <td>37926</td>\n",
       "      <td>자가</td>\n",
       "      <td>법인</td>\n",
       "      <td>0</td>\n",
       "      <td>18043152</td>\n",
       "      <td>...</td>\n",
       "      <td>0</td>\n",
       "      <td>0</td>\n",
       "      <td>0</td>\n",
       "      <td>1</td>\n",
       "      <td>0</td>\n",
       "      <td>19340000.0</td>\n",
       "      <td>2016-01-05</td>\n",
       "      <td>2014-01-28</td>\n",
       "      <td>707 days</td>\n",
       "      <td>FK412</td>\n",
       "    </tr>\n",
       "    <tr>\n",
       "      <td>3</td>\n",
       "      <td>2013</td>\n",
       "      <td>A/T</td>\n",
       "      <td>LPG</td>\n",
       "      <td>B</td>\n",
       "      <td>2000</td>\n",
       "      <td>110149</td>\n",
       "      <td>렌트</td>\n",
       "      <td>법인</td>\n",
       "      <td>0</td>\n",
       "      <td>17280000</td>\n",
       "      <td>...</td>\n",
       "      <td>0</td>\n",
       "      <td>0</td>\n",
       "      <td>0</td>\n",
       "      <td>0</td>\n",
       "      <td>0</td>\n",
       "      <td>17680000.0</td>\n",
       "      <td>2016-01-05</td>\n",
       "      <td>2012-12-18</td>\n",
       "      <td>1113 days</td>\n",
       "      <td>GN418</td>\n",
       "    </tr>\n",
       "    <tr>\n",
       "      <td>4</td>\n",
       "      <td>2011</td>\n",
       "      <td>A/T</td>\n",
       "      <td>LPG</td>\n",
       "      <td>D</td>\n",
       "      <td>2000</td>\n",
       "      <td>81675</td>\n",
       "      <td>렌트</td>\n",
       "      <td>법인</td>\n",
       "      <td>0</td>\n",
       "      <td>15800000</td>\n",
       "      <td>...</td>\n",
       "      <td>0</td>\n",
       "      <td>0</td>\n",
       "      <td>0</td>\n",
       "      <td>0</td>\n",
       "      <td>0</td>\n",
       "      <td>15800000.0</td>\n",
       "      <td>2016-01-05</td>\n",
       "      <td>2011-04-28</td>\n",
       "      <td>1713 days</td>\n",
       "      <td>GN415</td>\n",
       "    </tr>\n",
       "  </tbody>\n",
       "</table>\n",
       "<p>5 rows × 62 columns</p>\n",
       "</div>"
      ],
      "text/plain": [
       "   YEAR MISSNM FUELNM COLOR  EXHA  TRAVDIST USEUSENM OWNECLASNM  \\\n",
       "0  2011    A/T    LPG     C  1000     38480       자가         법인   \n",
       "1  2013    A/T    가솔린     A  1600     62240       자가         법인   \n",
       "2  2014    A/T    가솔린     A  1591     37926       자가         법인   \n",
       "3  2013    A/T    LPG     B  2000    110149       렌트         법인   \n",
       "4  2011    A/T    LPG     D  2000     81675       렌트         법인   \n",
       "\n",
       "   INNEEXPOCLASCD_YN  NEWCARPRIC  ...  DIS  TCS  AB1  AV  ECS   PRICE_adj  \\\n",
       "0                  0    10704916  ...    0    0    1   0    0  11310000.0   \n",
       "1                  0    21230000  ...    0    0    0   1    0  19750000.0   \n",
       "2                  0    18043152  ...    0    0    0   1    0  19340000.0   \n",
       "3                  0    17280000  ...    0    0    0   0    0  17680000.0   \n",
       "4                  0    15800000  ...    0    0    0   0    0  15800000.0   \n",
       "\n",
       "   SUCCYMD_adj  CARREGIYMD_adj  Used_days    vin  \n",
       "0   2016-01-05      2010-06-16  2029 days  BK518  \n",
       "1   2016-01-05      2013-02-07  1062 days  FZ412  \n",
       "2   2016-01-05      2014-01-28   707 days  FK412  \n",
       "3   2016-01-05      2012-12-18  1113 days  GN418  \n",
       "4   2016-01-05      2011-04-28  1713 days  GN415  \n",
       "\n",
       "[5 rows x 62 columns]"
      ]
     },
     "execution_count": 35,
     "metadata": {},
     "output_type": "execute_result"
    }
   ],
   "source": [
    "df_7.head()"
   ]
  },
  {
   "cell_type": "code",
   "execution_count": 36,
   "metadata": {
    "id": "FzelpZyCcVWt"
   },
   "outputs": [],
   "source": [
    "# 한글값들 영어로 수정 (연료명, 용도명, 소유명에 대해서)\n",
    "# 구글 코랩 한글사용시 오류 발생때문\n",
    "def kor_to_eng(df):\n",
    "    \n",
    "    df = df.copy()\n",
    "    \n",
    "    dict_fuelnm = {'가솔린':'Gasoline', '디젤':'Diesel', '겸용':'Bi-fuel', 'LPG':'LPG', 'Hybrid':'Hybrid', '전기':'Electric'}\n",
    "    dict_usenm = {'자가':'Own', '렌트':'Rent', '업무':'Work', '리스':'Lease', '사업':'Business'}\n",
    "    dict_ownerclass = {'법인':'Corporate', '법인상품':'Corporate_prod', '개인':'Personal', '상품용':'Prod', '재외국인':'Foreigner', '개인사업':'Personal_business', '종교단체':'Religional'}\n",
    "\n",
    "    for i in range(df.shape[0]):\n",
    "        df.loc[i, 'FUELNM'] = dict_fuelnm[df.loc[i, 'FUELNM']]\n",
    "        df.loc[i, 'USEUSENM'] = dict_usenm[df.loc[i, 'USEUSENM']]\n",
    "        df.loc[i, 'OWNECLASNM'] = dict_ownerclass[df.loc[i, 'OWNECLASNM']]\n",
    "        \n",
    "    return df"
   ]
  },
  {
   "cell_type": "code",
   "execution_count": 37,
   "metadata": {
    "id": "fqczKCq6cVT3"
   },
   "outputs": [],
   "source": [
    "df_8 = kor_to_eng(df_7)"
   ]
  },
  {
   "cell_type": "code",
   "execution_count": 38,
   "metadata": {
    "id": "IFKqyQY3cVSX"
   },
   "outputs": [],
   "source": [
    "#vin을 파생변수로 사용가능한지 판단하기 위해서 차원을 카운팅해준다 \n",
    "#mode = 1 , 4~5자리만 남기고 레벨을 본다 \n",
    "#mode = 2 , 4~8자리만 남기고 레벨을 본다 \n",
    "def check_vin(df , mode): \n",
    "    \n",
    "    if mode == 1 : \n",
    "        \n",
    "        vins = []\n",
    "        \n",
    "        for i in range(0,len(df)): \n",
    "            \n",
    "            vins.append(df.iloc[i]['vin'][0:2])\n",
    "            \n",
    "        print('level_of_vin_mode_1 is {}'.format(len(set(vins))))\n",
    "        \n",
    "    else: \n",
    "        \n",
    "        vins = []\n",
    "        \n",
    "        for i in range(0,len(df)): \n",
    "            \n",
    "            vins.append(df.iloc[i]['vin'])\n",
    "            \n",
    "        print('level_of_vin_mode_2 is {}'.format(len(set(vins))))"
   ]
  },
  {
   "cell_type": "code",
   "execution_count": 39,
   "metadata": {
    "colab": {
     "base_uri": "https://localhost:8080/",
     "height": 35
    },
    "id": "fe2oh1NWcVPb",
    "outputId": "95f9516f-2301-4c87-9dc2-5b3513054bf2"
   },
   "outputs": [
    {
     "name": "stdout",
     "output_type": "stream",
     "text": [
      "level_of_vin_mode_1 is 88\n"
     ]
    }
   ],
   "source": [
    "check_vin(df_8, mode = 1)"
   ]
  },
  {
   "cell_type": "code",
   "execution_count": 40,
   "metadata": {
    "colab": {
     "base_uri": "https://localhost:8080/",
     "height": 35
    },
    "id": "EK84y8HscVMb",
    "outputId": "ce5bd9dc-f8f0-4a2e-9fd8-9afe41a8161f"
   },
   "outputs": [
    {
     "name": "stdout",
     "output_type": "stream",
     "text": [
      "level_of_vin_mode_2 is 257\n"
     ]
    }
   ],
   "source": [
    "check_vin(df_8 , mode = 2)"
   ]
  },
  {
   "cell_type": "code",
   "execution_count": 41,
   "metadata": {
    "id": "_TUYU0Q0cVJe"
   },
   "outputs": [],
   "source": [
    "#낙찰가격이 신차보다 비싼경우 행을 삭제해하고 데이터를 반환한다\n",
    "def drop_error_price(df): \n",
    "    \n",
    "    df = df.copy()\n",
    "    \n",
    "    print('Dropped_index : {}'.format(df[df['PRICE_adj'] < df['SUCCPRIC']].index))\n",
    "    \n",
    "    df.drop(df[df['PRICE_adj'] < df['SUCCPRIC']].index, axis=0 , inplace=True)\n",
    "    \n",
    "    return df"
   ]
  },
  {
   "cell_type": "code",
   "execution_count": 42,
   "metadata": {
    "colab": {
     "base_uri": "https://localhost:8080/",
     "height": 125
    },
    "id": "yr0eTRI6crvy",
    "outputId": "9afa7da5-81bd-4249-d073-68083d9aa411"
   },
   "outputs": [
    {
     "name": "stdout",
     "output_type": "stream",
     "text": [
      "Dropped_index : Int64Index([   45,    60,    66,    85,    86,    88,   171,   179,   208,\n",
      "              267,\n",
      "            ...\n",
      "            35792, 35814, 35830, 35978, 36004, 36022, 36126, 36261, 36340,\n",
      "            36366],\n",
      "           dtype='int64', length=718)\n"
     ]
    }
   ],
   "source": [
    "#낙찰 가격이 신차보다 비싼경우 이상치로 판단후 제거해 주었다 \n",
    "df_9 = drop_error_price(df_8)"
   ]
  },
  {
   "cell_type": "code",
   "execution_count": 43,
   "metadata": {
    "colab": {
     "base_uri": "https://localhost:8080/",
     "height": 224
    },
    "id": "JFh4Dk06dbNS",
    "outputId": "2ae7c3f4-5243-489e-b1b4-c70e51551ec9"
   },
   "outputs": [
    {
     "data": {
      "text/html": [
       "<div>\n",
       "<style scoped>\n",
       "    .dataframe tbody tr th:only-of-type {\n",
       "        vertical-align: middle;\n",
       "    }\n",
       "\n",
       "    .dataframe tbody tr th {\n",
       "        vertical-align: top;\n",
       "    }\n",
       "\n",
       "    .dataframe thead th {\n",
       "        text-align: right;\n",
       "    }\n",
       "</style>\n",
       "<table border=\"1\" class=\"dataframe\">\n",
       "  <thead>\n",
       "    <tr style=\"text-align: right;\">\n",
       "      <th></th>\n",
       "      <th>YEAR</th>\n",
       "      <th>MISSNM</th>\n",
       "      <th>FUELNM</th>\n",
       "      <th>COLOR</th>\n",
       "      <th>EXHA</th>\n",
       "      <th>TRAVDIST</th>\n",
       "      <th>USEUSENM</th>\n",
       "      <th>OWNECLASNM</th>\n",
       "      <th>INNEEXPOCLASCD_YN</th>\n",
       "      <th>NEWCARPRIC</th>\n",
       "      <th>...</th>\n",
       "      <th>DIS</th>\n",
       "      <th>TCS</th>\n",
       "      <th>AB1</th>\n",
       "      <th>AV</th>\n",
       "      <th>ECS</th>\n",
       "      <th>PRICE_adj</th>\n",
       "      <th>SUCCYMD_adj</th>\n",
       "      <th>CARREGIYMD_adj</th>\n",
       "      <th>Used_days</th>\n",
       "      <th>vin</th>\n",
       "    </tr>\n",
       "  </thead>\n",
       "  <tbody>\n",
       "    <tr>\n",
       "      <td>0</td>\n",
       "      <td>2011</td>\n",
       "      <td>A/T</td>\n",
       "      <td>LPG</td>\n",
       "      <td>C</td>\n",
       "      <td>1000</td>\n",
       "      <td>38480</td>\n",
       "      <td>Own</td>\n",
       "      <td>Corporate</td>\n",
       "      <td>0</td>\n",
       "      <td>10704916</td>\n",
       "      <td>...</td>\n",
       "      <td>0</td>\n",
       "      <td>0</td>\n",
       "      <td>1</td>\n",
       "      <td>0</td>\n",
       "      <td>0</td>\n",
       "      <td>11310000.0</td>\n",
       "      <td>2016-01-05</td>\n",
       "      <td>2010-06-16</td>\n",
       "      <td>2029 days</td>\n",
       "      <td>BK518</td>\n",
       "    </tr>\n",
       "    <tr>\n",
       "      <td>1</td>\n",
       "      <td>2013</td>\n",
       "      <td>A/T</td>\n",
       "      <td>Gasoline</td>\n",
       "      <td>A</td>\n",
       "      <td>1600</td>\n",
       "      <td>62240</td>\n",
       "      <td>Own</td>\n",
       "      <td>Corporate</td>\n",
       "      <td>0</td>\n",
       "      <td>21230000</td>\n",
       "      <td>...</td>\n",
       "      <td>0</td>\n",
       "      <td>0</td>\n",
       "      <td>0</td>\n",
       "      <td>1</td>\n",
       "      <td>0</td>\n",
       "      <td>19750000.0</td>\n",
       "      <td>2016-01-05</td>\n",
       "      <td>2013-02-07</td>\n",
       "      <td>1062 days</td>\n",
       "      <td>FZ412</td>\n",
       "    </tr>\n",
       "    <tr>\n",
       "      <td>2</td>\n",
       "      <td>2014</td>\n",
       "      <td>A/T</td>\n",
       "      <td>Gasoline</td>\n",
       "      <td>A</td>\n",
       "      <td>1591</td>\n",
       "      <td>37926</td>\n",
       "      <td>Own</td>\n",
       "      <td>Corporate</td>\n",
       "      <td>0</td>\n",
       "      <td>18043152</td>\n",
       "      <td>...</td>\n",
       "      <td>0</td>\n",
       "      <td>0</td>\n",
       "      <td>0</td>\n",
       "      <td>1</td>\n",
       "      <td>0</td>\n",
       "      <td>19340000.0</td>\n",
       "      <td>2016-01-05</td>\n",
       "      <td>2014-01-28</td>\n",
       "      <td>707 days</td>\n",
       "      <td>FK412</td>\n",
       "    </tr>\n",
       "    <tr>\n",
       "      <td>3</td>\n",
       "      <td>2013</td>\n",
       "      <td>A/T</td>\n",
       "      <td>LPG</td>\n",
       "      <td>B</td>\n",
       "      <td>2000</td>\n",
       "      <td>110149</td>\n",
       "      <td>Rent</td>\n",
       "      <td>Corporate</td>\n",
       "      <td>0</td>\n",
       "      <td>17280000</td>\n",
       "      <td>...</td>\n",
       "      <td>0</td>\n",
       "      <td>0</td>\n",
       "      <td>0</td>\n",
       "      <td>0</td>\n",
       "      <td>0</td>\n",
       "      <td>17680000.0</td>\n",
       "      <td>2016-01-05</td>\n",
       "      <td>2012-12-18</td>\n",
       "      <td>1113 days</td>\n",
       "      <td>GN418</td>\n",
       "    </tr>\n",
       "    <tr>\n",
       "      <td>4</td>\n",
       "      <td>2011</td>\n",
       "      <td>A/T</td>\n",
       "      <td>LPG</td>\n",
       "      <td>D</td>\n",
       "      <td>2000</td>\n",
       "      <td>81675</td>\n",
       "      <td>Rent</td>\n",
       "      <td>Corporate</td>\n",
       "      <td>0</td>\n",
       "      <td>15800000</td>\n",
       "      <td>...</td>\n",
       "      <td>0</td>\n",
       "      <td>0</td>\n",
       "      <td>0</td>\n",
       "      <td>0</td>\n",
       "      <td>0</td>\n",
       "      <td>15800000.0</td>\n",
       "      <td>2016-01-05</td>\n",
       "      <td>2011-04-28</td>\n",
       "      <td>1713 days</td>\n",
       "      <td>GN415</td>\n",
       "    </tr>\n",
       "  </tbody>\n",
       "</table>\n",
       "<p>5 rows × 62 columns</p>\n",
       "</div>"
      ],
      "text/plain": [
       "   YEAR MISSNM    FUELNM COLOR  EXHA  TRAVDIST USEUSENM OWNECLASNM  \\\n",
       "0  2011    A/T       LPG     C  1000     38480      Own  Corporate   \n",
       "1  2013    A/T  Gasoline     A  1600     62240      Own  Corporate   \n",
       "2  2014    A/T  Gasoline     A  1591     37926      Own  Corporate   \n",
       "3  2013    A/T       LPG     B  2000    110149     Rent  Corporate   \n",
       "4  2011    A/T       LPG     D  2000     81675     Rent  Corporate   \n",
       "\n",
       "   INNEEXPOCLASCD_YN  NEWCARPRIC  ...  DIS  TCS  AB1  AV  ECS   PRICE_adj  \\\n",
       "0                  0    10704916  ...    0    0    1   0    0  11310000.0   \n",
       "1                  0    21230000  ...    0    0    0   1    0  19750000.0   \n",
       "2                  0    18043152  ...    0    0    0   1    0  19340000.0   \n",
       "3                  0    17280000  ...    0    0    0   0    0  17680000.0   \n",
       "4                  0    15800000  ...    0    0    0   0    0  15800000.0   \n",
       "\n",
       "   SUCCYMD_adj  CARREGIYMD_adj  Used_days    vin  \n",
       "0   2016-01-05      2010-06-16  2029 days  BK518  \n",
       "1   2016-01-05      2013-02-07  1062 days  FZ412  \n",
       "2   2016-01-05      2014-01-28   707 days  FK412  \n",
       "3   2016-01-05      2012-12-18  1113 days  GN418  \n",
       "4   2016-01-05      2011-04-28  1713 days  GN415  \n",
       "\n",
       "[5 rows x 62 columns]"
      ]
     },
     "execution_count": 43,
     "metadata": {},
     "output_type": "execute_result"
    }
   ],
   "source": [
    "df_9.head()"
   ]
  },
  {
   "cell_type": "code",
   "execution_count": 44,
   "metadata": {
    "colab": {
     "base_uri": "https://localhost:8080/",
     "height": 179
    },
    "id": "VD1GOUdfr7T7",
    "outputId": "7d8160fd-7766-4825-f239-3ab06e631491"
   },
   "outputs": [
    {
     "name": "stdout",
     "output_type": "stream",
     "text": [
      "dropped_observation_so_far : 0\n",
      "dropped_observation_so_far : 0\n",
      "dropped_observation_so_far : 331\n",
      "dropped_observation_so_far : 331\n",
      "dropped_observation_so_far : 338\n",
      "dropped_observation_so_far : 338\n",
      "dropped_observation_so_far : 338\n",
      "dropped_observation_so_far : 338\n",
      "dropped_observation_so_far : 1056\n"
     ]
    }
   ],
   "source": [
    "#삭제된 관측치의 숫자 변화 추이 \n",
    "print('dropped_observation_so_far : {}'.format(df.shape[0] - df_1.shape[0]))\n",
    "print('dropped_observation_so_far : {}'.format(df.shape[0] - df_2.shape[0]))\n",
    "print('dropped_observation_so_far : {}'.format(df.shape[0] - df_3.shape[0]))\n",
    "print('dropped_observation_so_far : {}'.format(df.shape[0] - df_4.shape[0]))\n",
    "print('dropped_observation_so_far : {}'.format(df.shape[0] - df_5.shape[0]))\n",
    "print('dropped_observation_so_far : {}'.format(df.shape[0] - df_6.shape[0]))\n",
    "print('dropped_observation_so_far : {}'.format(df.shape[0] - df_7.shape[0]))\n",
    "print('dropped_observation_so_far : {}'.format(df.shape[0] - df_8.shape[0]))\n",
    "print('dropped_observation_so_far : {}'.format(df.shape[0] - df_9.shape[0]))"
   ]
  },
  {
   "cell_type": "markdown",
   "metadata": {
    "id": "TVnaOSv9uK2y"
   },
   "source": [
    "## 2) *Outlier handling*"
   ]
  },
  {
   "cell_type": "code",
   "execution_count": 45,
   "metadata": {
    "id": "i81-zx3Ir-Cw"
   },
   "outputs": [],
   "source": [
    "### Column이 한글이면 에러가 발생할 수 있으므로 영문으로 사용하는 것을 추천 (아래 코드는 한글 폰트 사용)\n",
    "### 각 plot 함수는 dataframe과 columns을 인풋으로 받아서 변수의 그림 출력\n",
    "### plotHistogram은 histogram, plotPairplot은 컬럼별 scatter plot, plotBoxplot은 기준 컬럼(범주형 변수)에 대한 box plot\n",
    "from matplotlib import font_manager, rc\n",
    "import matplotlib.pyplot as plt\n",
    "import seaborn as sns\n",
    "plt.rc('font', family='NanumBarunGothic')\n",
    "\n",
    "def plotHistogram(_df, columns):\n",
    "    if type(columns) != list :\n",
    "        print(\"columns 타입이 리스트가 아닙니다.\")\n",
    "    \n",
    "        return\n",
    "    \n",
    "    for _n, i in enumerate(columns):\n",
    "        df.describe()\n",
    "        fig=plt.figure(figsize=(20,8))\n",
    "        fig.patch.set_facecolor('xkcd:white')\n",
    "\n",
    "        plt.subplot(2,3,_n + 1)\n",
    "        plt.title(i)\n",
    "        df.loc[:,i].hist(bins=50)\n",
    "    plt.show()\n",
    "        \n",
    "        \n",
    "def plotPairplot(_df, columns):\n",
    "    if type(columns) != list :\n",
    "        print(\"columns 타입이 리스트가 아닙니다.\")\n",
    "    \n",
    "        return\n",
    "    sns.pairplot(_df.loc[:,columns])\n",
    "    plt.show()\n",
    "\n",
    "        \n",
    "def plotBoxplot(_df, basis_col1, y_col2):\n",
    "    _unique = _df.loc[:, basis_col1].unique()\n",
    "    if len(_unique) < 50:\n",
    "        print(\"기준 컬럼의 종류가 너무 많습니다.(50개 이상)\")\n",
    "    \n",
    "    box_plot=[]\n",
    "    count_ = []\n",
    "    for n,i in enumerate(_unique):\n",
    "        box_plot.append(list(_df[_df.loc[:, basis_col1]==i].loc[:, y_col2]))\n",
    "        count_.append(len((list(_df[_df.loc[:, basis_col1]==i].loc[:, y_col2]))))\n",
    "\n",
    "    print('Count   ',count_)\n",
    "    plt.boxplot(box_plot, flierprops=dict(markerfacecolor='g', marker='D'));\n",
    "    plt.xticks(range(1,len(_unique)+1),_unique)"
   ]
  },
  {
   "cell_type": "code",
   "execution_count": 46,
   "metadata": {
    "colab": {
     "base_uri": "https://localhost:8080/",
     "height": 744
    },
    "id": "lucRG8dBsDOP",
    "outputId": "6c3a8476-ea0f-4eb6-94d1-3cb5b3f6bc87"
   },
   "outputs": [
    {
     "data": {
      "image/png": "[encoded data removed]",
      "text/plain": [
       "<Figure size 720x720 with 20 Axes>"
      ]
     },
     "metadata": {
      "needs_background": "light"
     },
     "output_type": "display_data"
    }
   ],
   "source": [
    "plotPairplot(df_9 , ['SUCCPRIC' , 'PRICE_adj' , 'EXHA' , 'TRAVDIST'])"
   ]
  },
  {
   "cell_type": "code",
   "execution_count": 47,
   "metadata": {
    "id": "qb927V1asYsE"
   },
   "outputs": [],
   "source": [
    "EXHA = list(set(df_9['EXHA']))"
   ]
  },
  {
   "cell_type": "code",
   "execution_count": 48,
   "metadata": {
    "id": "hCAv0Fvhsa8u"
   },
   "outputs": [],
   "source": [
    "EXHA.sort()"
   ]
  },
  {
   "cell_type": "code",
   "execution_count": 49,
   "metadata": {
    "colab": {
     "base_uri": "https://localhost:8080/",
     "height": 35
    },
    "id": "yGTnJ6Gfsbv2",
    "outputId": "4aa758a9-b501-46c1-8581-0e950c941d65"
   },
   "outputs": [
    {
     "data": {
      "text/plain": [
       "[0, 1, 50, 798, 800, 995, 998, 999, 1000, 1300]"
      ]
     },
     "execution_count": 49,
     "metadata": {},
     "output_type": "execute_result"
    }
   ],
   "source": [
    "EXHA[0:10]"
   ]
  },
  {
   "cell_type": "code",
   "execution_count": 50,
   "metadata": {
    "colab": {
     "base_uri": "https://localhost:8080/",
     "height": 439
    },
    "id": "dr9QmNLhscnz",
    "outputId": "4dbf095c-29b7-4e03-c28c-9eacee8b1bb5"
   },
   "outputs": [
    {
     "data": {
      "text/html": [
       "<div>\n",
       "<style scoped>\n",
       "    .dataframe tbody tr th:only-of-type {\n",
       "        vertical-align: middle;\n",
       "    }\n",
       "\n",
       "    .dataframe tbody tr th {\n",
       "        vertical-align: top;\n",
       "    }\n",
       "\n",
       "    .dataframe thead th {\n",
       "        text-align: right;\n",
       "    }\n",
       "</style>\n",
       "<table border=\"1\" class=\"dataframe\">\n",
       "  <thead>\n",
       "    <tr style=\"text-align: right;\">\n",
       "      <th></th>\n",
       "      <th>YEAR</th>\n",
       "      <th>MISSNM</th>\n",
       "      <th>FUELNM</th>\n",
       "      <th>COLOR</th>\n",
       "      <th>EXHA</th>\n",
       "      <th>TRAVDIST</th>\n",
       "      <th>USEUSENM</th>\n",
       "      <th>OWNECLASNM</th>\n",
       "      <th>INNEEXPOCLASCD_YN</th>\n",
       "      <th>NEWCARPRIC</th>\n",
       "      <th>...</th>\n",
       "      <th>DIS</th>\n",
       "      <th>TCS</th>\n",
       "      <th>AB1</th>\n",
       "      <th>AV</th>\n",
       "      <th>ECS</th>\n",
       "      <th>PRICE_adj</th>\n",
       "      <th>SUCCYMD_adj</th>\n",
       "      <th>CARREGIYMD_adj</th>\n",
       "      <th>Used_days</th>\n",
       "      <th>vin</th>\n",
       "    </tr>\n",
       "  </thead>\n",
       "  <tbody>\n",
       "    <tr>\n",
       "      <td>0</td>\n",
       "      <td>2011</td>\n",
       "      <td>A/T</td>\n",
       "      <td>LPG</td>\n",
       "      <td>C</td>\n",
       "      <td>1000</td>\n",
       "      <td>38480</td>\n",
       "      <td>Own</td>\n",
       "      <td>Corporate</td>\n",
       "      <td>0</td>\n",
       "      <td>10704916</td>\n",
       "      <td>...</td>\n",
       "      <td>0</td>\n",
       "      <td>0</td>\n",
       "      <td>1</td>\n",
       "      <td>0</td>\n",
       "      <td>0</td>\n",
       "      <td>11310000.0</td>\n",
       "      <td>2016-01-05</td>\n",
       "      <td>2010-06-16</td>\n",
       "      <td>2029 days</td>\n",
       "      <td>BK518</td>\n",
       "    </tr>\n",
       "    <tr>\n",
       "      <td>1</td>\n",
       "      <td>2013</td>\n",
       "      <td>A/T</td>\n",
       "      <td>Gasoline</td>\n",
       "      <td>A</td>\n",
       "      <td>1600</td>\n",
       "      <td>62240</td>\n",
       "      <td>Own</td>\n",
       "      <td>Corporate</td>\n",
       "      <td>0</td>\n",
       "      <td>21230000</td>\n",
       "      <td>...</td>\n",
       "      <td>0</td>\n",
       "      <td>0</td>\n",
       "      <td>0</td>\n",
       "      <td>1</td>\n",
       "      <td>0</td>\n",
       "      <td>19750000.0</td>\n",
       "      <td>2016-01-05</td>\n",
       "      <td>2013-02-07</td>\n",
       "      <td>1062 days</td>\n",
       "      <td>FZ412</td>\n",
       "    </tr>\n",
       "    <tr>\n",
       "      <td>2</td>\n",
       "      <td>2014</td>\n",
       "      <td>A/T</td>\n",
       "      <td>Gasoline</td>\n",
       "      <td>A</td>\n",
       "      <td>1591</td>\n",
       "      <td>37926</td>\n",
       "      <td>Own</td>\n",
       "      <td>Corporate</td>\n",
       "      <td>0</td>\n",
       "      <td>18043152</td>\n",
       "      <td>...</td>\n",
       "      <td>0</td>\n",
       "      <td>0</td>\n",
       "      <td>0</td>\n",
       "      <td>1</td>\n",
       "      <td>0</td>\n",
       "      <td>19340000.0</td>\n",
       "      <td>2016-01-05</td>\n",
       "      <td>2014-01-28</td>\n",
       "      <td>707 days</td>\n",
       "      <td>FK412</td>\n",
       "    </tr>\n",
       "    <tr>\n",
       "      <td>3</td>\n",
       "      <td>2013</td>\n",
       "      <td>A/T</td>\n",
       "      <td>LPG</td>\n",
       "      <td>B</td>\n",
       "      <td>2000</td>\n",
       "      <td>110149</td>\n",
       "      <td>Rent</td>\n",
       "      <td>Corporate</td>\n",
       "      <td>0</td>\n",
       "      <td>17280000</td>\n",
       "      <td>...</td>\n",
       "      <td>0</td>\n",
       "      <td>0</td>\n",
       "      <td>0</td>\n",
       "      <td>0</td>\n",
       "      <td>0</td>\n",
       "      <td>17680000.0</td>\n",
       "      <td>2016-01-05</td>\n",
       "      <td>2012-12-18</td>\n",
       "      <td>1113 days</td>\n",
       "      <td>GN418</td>\n",
       "    </tr>\n",
       "    <tr>\n",
       "      <td>4</td>\n",
       "      <td>2011</td>\n",
       "      <td>A/T</td>\n",
       "      <td>LPG</td>\n",
       "      <td>D</td>\n",
       "      <td>2000</td>\n",
       "      <td>81675</td>\n",
       "      <td>Rent</td>\n",
       "      <td>Corporate</td>\n",
       "      <td>0</td>\n",
       "      <td>15800000</td>\n",
       "      <td>...</td>\n",
       "      <td>0</td>\n",
       "      <td>0</td>\n",
       "      <td>0</td>\n",
       "      <td>0</td>\n",
       "      <td>0</td>\n",
       "      <td>15800000.0</td>\n",
       "      <td>2016-01-05</td>\n",
       "      <td>2011-04-28</td>\n",
       "      <td>1713 days</td>\n",
       "      <td>GN415</td>\n",
       "    </tr>\n",
       "    <tr>\n",
       "      <td>...</td>\n",
       "      <td>...</td>\n",
       "      <td>...</td>\n",
       "      <td>...</td>\n",
       "      <td>...</td>\n",
       "      <td>...</td>\n",
       "      <td>...</td>\n",
       "      <td>...</td>\n",
       "      <td>...</td>\n",
       "      <td>...</td>\n",
       "      <td>...</td>\n",
       "      <td>...</td>\n",
       "      <td>...</td>\n",
       "      <td>...</td>\n",
       "      <td>...</td>\n",
       "      <td>...</td>\n",
       "      <td>...</td>\n",
       "      <td>...</td>\n",
       "      <td>...</td>\n",
       "      <td>...</td>\n",
       "      <td>...</td>\n",
       "      <td>...</td>\n",
       "    </tr>\n",
       "    <tr>\n",
       "      <td>35731</td>\n",
       "      <td>2016</td>\n",
       "      <td>A/T</td>\n",
       "      <td>Gasoline</td>\n",
       "      <td>A</td>\n",
       "      <td>998</td>\n",
       "      <td>62180</td>\n",
       "      <td>Own</td>\n",
       "      <td>Corporate_prod</td>\n",
       "      <td>0</td>\n",
       "      <td>1</td>\n",
       "      <td>...</td>\n",
       "      <td>0</td>\n",
       "      <td>0</td>\n",
       "      <td>0</td>\n",
       "      <td>0</td>\n",
       "      <td>0</td>\n",
       "      <td>12500000.0</td>\n",
       "      <td>2019-05-23</td>\n",
       "      <td>2015-02-16</td>\n",
       "      <td>1557 days</td>\n",
       "      <td>BE511</td>\n",
       "    </tr>\n",
       "    <tr>\n",
       "      <td>35732</td>\n",
       "      <td>2015</td>\n",
       "      <td>A/T</td>\n",
       "      <td>Gasoline</td>\n",
       "      <td>D</td>\n",
       "      <td>3778</td>\n",
       "      <td>97801</td>\n",
       "      <td>Own</td>\n",
       "      <td>Corporate_prod</td>\n",
       "      <td>0</td>\n",
       "      <td>1</td>\n",
       "      <td>...</td>\n",
       "      <td>0</td>\n",
       "      <td>0</td>\n",
       "      <td>0</td>\n",
       "      <td>0</td>\n",
       "      <td>0</td>\n",
       "      <td>56800000.0</td>\n",
       "      <td>2019-05-23</td>\n",
       "      <td>2014-12-18</td>\n",
       "      <td>1617 days</td>\n",
       "      <td>LT413</td>\n",
       "    </tr>\n",
       "    <tr>\n",
       "      <td>35733</td>\n",
       "      <td>2015</td>\n",
       "      <td>A/T</td>\n",
       "      <td>Gasoline</td>\n",
       "      <td>B</td>\n",
       "      <td>3342</td>\n",
       "      <td>153601</td>\n",
       "      <td>Rent</td>\n",
       "      <td>Corporate_prod</td>\n",
       "      <td>0</td>\n",
       "      <td>51780001</td>\n",
       "      <td>...</td>\n",
       "      <td>0</td>\n",
       "      <td>0</td>\n",
       "      <td>0</td>\n",
       "      <td>0</td>\n",
       "      <td>0</td>\n",
       "      <td>49089202.0</td>\n",
       "      <td>2019-05-23</td>\n",
       "      <td>2015-05-06</td>\n",
       "      <td>1478 days</td>\n",
       "      <td>LT411</td>\n",
       "    </tr>\n",
       "    <tr>\n",
       "      <td>35734</td>\n",
       "      <td>2015</td>\n",
       "      <td>A/T</td>\n",
       "      <td>LPG</td>\n",
       "      <td>A</td>\n",
       "      <td>1999</td>\n",
       "      <td>140058</td>\n",
       "      <td>Rent</td>\n",
       "      <td>Corporate_prod</td>\n",
       "      <td>0</td>\n",
       "      <td>1</td>\n",
       "      <td>...</td>\n",
       "      <td>0</td>\n",
       "      <td>0</td>\n",
       "      <td>0</td>\n",
       "      <td>0</td>\n",
       "      <td>0</td>\n",
       "      <td>17130000.0</td>\n",
       "      <td>2019-05-23</td>\n",
       "      <td>2014-07-18</td>\n",
       "      <td>1770 days</td>\n",
       "      <td>GN418</td>\n",
       "    </tr>\n",
       "    <tr>\n",
       "      <td>35735</td>\n",
       "      <td>2015</td>\n",
       "      <td>A/T</td>\n",
       "      <td>LPG</td>\n",
       "      <td>A</td>\n",
       "      <td>1999</td>\n",
       "      <td>159467</td>\n",
       "      <td>Rent</td>\n",
       "      <td>Corporate_prod</td>\n",
       "      <td>0</td>\n",
       "      <td>1</td>\n",
       "      <td>...</td>\n",
       "      <td>0</td>\n",
       "      <td>0</td>\n",
       "      <td>0</td>\n",
       "      <td>0</td>\n",
       "      <td>0</td>\n",
       "      <td>17130000.0</td>\n",
       "      <td>2019-05-23</td>\n",
       "      <td>2014-05-29</td>\n",
       "      <td>1820 days</td>\n",
       "      <td>GN418</td>\n",
       "    </tr>\n",
       "  </tbody>\n",
       "</table>\n",
       "<p>35736 rows × 62 columns</p>\n",
       "</div>"
      ],
      "text/plain": [
       "       YEAR MISSNM    FUELNM COLOR  EXHA  TRAVDIST USEUSENM      OWNECLASNM  \\\n",
       "0      2011    A/T       LPG     C  1000     38480      Own       Corporate   \n",
       "1      2013    A/T  Gasoline     A  1600     62240      Own       Corporate   \n",
       "2      2014    A/T  Gasoline     A  1591     37926      Own       Corporate   \n",
       "3      2013    A/T       LPG     B  2000    110149     Rent       Corporate   \n",
       "4      2011    A/T       LPG     D  2000     81675     Rent       Corporate   \n",
       "...     ...    ...       ...   ...   ...       ...      ...             ...   \n",
       "35731  2016    A/T  Gasoline     A   998     62180      Own  Corporate_prod   \n",
       "35732  2015    A/T  Gasoline     D  3778     97801      Own  Corporate_prod   \n",
       "35733  2015    A/T  Gasoline     B  3342    153601     Rent  Corporate_prod   \n",
       "35734  2015    A/T       LPG     A  1999    140058     Rent  Corporate_prod   \n",
       "35735  2015    A/T       LPG     A  1999    159467     Rent  Corporate_prod   \n",
       "\n",
       "       INNEEXPOCLASCD_YN  NEWCARPRIC  ...  DIS  TCS  AB1  AV  ECS   PRICE_adj  \\\n",
       "0                      0    10704916  ...    0    0    1   0    0  11310000.0   \n",
       "1                      0    21230000  ...    0    0    0   1    0  19750000.0   \n",
       "2                      0    18043152  ...    0    0    0   1    0  19340000.0   \n",
       "3                      0    17280000  ...    0    0    0   0    0  17680000.0   \n",
       "4                      0    15800000  ...    0    0    0   0    0  15800000.0   \n",
       "...                  ...         ...  ...  ...  ...  ...  ..  ...         ...   \n",
       "35731                  0           1  ...    0    0    0   0    0  12500000.0   \n",
       "35732                  0           1  ...    0    0    0   0    0  56800000.0   \n",
       "35733                  0    51780001  ...    0    0    0   0    0  49089202.0   \n",
       "35734                  0           1  ...    0    0    0   0    0  17130000.0   \n",
       "35735                  0           1  ...    0    0    0   0    0  17130000.0   \n",
       "\n",
       "       SUCCYMD_adj  CARREGIYMD_adj  Used_days    vin  \n",
       "0       2016-01-05      2010-06-16  2029 days  BK518  \n",
       "1       2016-01-05      2013-02-07  1062 days  FZ412  \n",
       "2       2016-01-05      2014-01-28   707 days  FK412  \n",
       "3       2016-01-05      2012-12-18  1113 days  GN418  \n",
       "4       2016-01-05      2011-04-28  1713 days  GN415  \n",
       "...            ...             ...        ...    ...  \n",
       "35731   2019-05-23      2015-02-16  1557 days  BE511  \n",
       "35732   2019-05-23      2014-12-18  1617 days  LT413  \n",
       "35733   2019-05-23      2015-05-06  1478 days  LT411  \n",
       "35734   2019-05-23      2014-07-18  1770 days  GN418  \n",
       "35735   2019-05-23      2014-05-29  1820 days  GN418  \n",
       "\n",
       "[35736 rows x 62 columns]"
      ]
     },
     "execution_count": 50,
     "metadata": {},
     "output_type": "execute_result"
    }
   ],
   "source": [
    "#배기량이 0 인 관측치를 삭제 \n",
    "df_10 = df_9.drop( df_9[df_9['EXHA'] == 0 ].index , axis=0  )\n",
    "df_10.reset_index(drop=True)"
   ]
  },
  {
   "cell_type": "code",
   "execution_count": 51,
   "metadata": {
    "id": "asgBepyQsg7K"
   },
   "outputs": [],
   "source": [
    "TRAVDIST = list(set(df_10['TRAVDIST']))"
   ]
  },
  {
   "cell_type": "code",
   "execution_count": 52,
   "metadata": {
    "id": "2JgLilAJsiPk"
   },
   "outputs": [],
   "source": [
    "TRAVDIST.sort()"
   ]
  },
  {
   "cell_type": "code",
   "execution_count": 53,
   "metadata": {
    "colab": {
     "base_uri": "https://localhost:8080/",
     "height": 35
    },
    "id": "qJkzabpAsjKl",
    "outputId": "9effebf8-a437-4a90-e868-06cd12fa167d"
   },
   "outputs": [
    {
     "data": {
      "text/plain": [
       "[1, 5, 16, 27, 28, 29, 30, 31, 32, 34]"
      ]
     },
     "execution_count": 53,
     "metadata": {},
     "output_type": "execute_result"
    }
   ],
   "source": [
    "TRAVDIST[0:10]"
   ]
  },
  {
   "cell_type": "code",
   "execution_count": 54,
   "metadata": {
    "colab": {
     "base_uri": "https://localhost:8080/",
     "height": 197
    },
    "id": "N3hqs-Hcskhj",
    "outputId": "4da3f41f-3936-4e14-9fc2-2d65a4a00cab"
   },
   "outputs": [
    {
     "data": {
      "text/plain": [
       "[402409,\n",
       " 403302,\n",
       " 409413,\n",
       " 430390,\n",
       " 444783,\n",
       " 457554,\n",
       " 461900,\n",
       " 477156,\n",
       " 483031,\n",
       " 555069]"
      ]
     },
     "execution_count": 54,
     "metadata": {},
     "output_type": "execute_result"
    }
   ],
   "source": [
    "TRAVDIST[-10:]"
   ]
  },
  {
   "cell_type": "code",
   "execution_count": 55,
   "metadata": {
    "colab": {
     "base_uri": "https://localhost:8080/",
     "height": 439
    },
    "id": "M1abi83Msls3",
    "outputId": "bdb7d787-afef-41f9-d8eb-22f721143021"
   },
   "outputs": [
    {
     "data": {
      "text/html": [
       "<div>\n",
       "<style scoped>\n",
       "    .dataframe tbody tr th:only-of-type {\n",
       "        vertical-align: middle;\n",
       "    }\n",
       "\n",
       "    .dataframe tbody tr th {\n",
       "        vertical-align: top;\n",
       "    }\n",
       "\n",
       "    .dataframe thead th {\n",
       "        text-align: right;\n",
       "    }\n",
       "</style>\n",
       "<table border=\"1\" class=\"dataframe\">\n",
       "  <thead>\n",
       "    <tr style=\"text-align: right;\">\n",
       "      <th></th>\n",
       "      <th>YEAR</th>\n",
       "      <th>MISSNM</th>\n",
       "      <th>FUELNM</th>\n",
       "      <th>COLOR</th>\n",
       "      <th>EXHA</th>\n",
       "      <th>TRAVDIST</th>\n",
       "      <th>USEUSENM</th>\n",
       "      <th>OWNECLASNM</th>\n",
       "      <th>INNEEXPOCLASCD_YN</th>\n",
       "      <th>NEWCARPRIC</th>\n",
       "      <th>...</th>\n",
       "      <th>DIS</th>\n",
       "      <th>TCS</th>\n",
       "      <th>AB1</th>\n",
       "      <th>AV</th>\n",
       "      <th>ECS</th>\n",
       "      <th>PRICE_adj</th>\n",
       "      <th>SUCCYMD_adj</th>\n",
       "      <th>CARREGIYMD_adj</th>\n",
       "      <th>Used_days</th>\n",
       "      <th>vin</th>\n",
       "    </tr>\n",
       "  </thead>\n",
       "  <tbody>\n",
       "    <tr>\n",
       "      <td>0</td>\n",
       "      <td>2011</td>\n",
       "      <td>A/T</td>\n",
       "      <td>LPG</td>\n",
       "      <td>C</td>\n",
       "      <td>1000</td>\n",
       "      <td>38480</td>\n",
       "      <td>Own</td>\n",
       "      <td>Corporate</td>\n",
       "      <td>0</td>\n",
       "      <td>10704916</td>\n",
       "      <td>...</td>\n",
       "      <td>0</td>\n",
       "      <td>0</td>\n",
       "      <td>1</td>\n",
       "      <td>0</td>\n",
       "      <td>0</td>\n",
       "      <td>11310000.0</td>\n",
       "      <td>2016-01-05</td>\n",
       "      <td>2010-06-16</td>\n",
       "      <td>2029 days</td>\n",
       "      <td>BK518</td>\n",
       "    </tr>\n",
       "    <tr>\n",
       "      <td>1</td>\n",
       "      <td>2013</td>\n",
       "      <td>A/T</td>\n",
       "      <td>Gasoline</td>\n",
       "      <td>A</td>\n",
       "      <td>1600</td>\n",
       "      <td>62240</td>\n",
       "      <td>Own</td>\n",
       "      <td>Corporate</td>\n",
       "      <td>0</td>\n",
       "      <td>21230000</td>\n",
       "      <td>...</td>\n",
       "      <td>0</td>\n",
       "      <td>0</td>\n",
       "      <td>0</td>\n",
       "      <td>1</td>\n",
       "      <td>0</td>\n",
       "      <td>19750000.0</td>\n",
       "      <td>2016-01-05</td>\n",
       "      <td>2013-02-07</td>\n",
       "      <td>1062 days</td>\n",
       "      <td>FZ412</td>\n",
       "    </tr>\n",
       "    <tr>\n",
       "      <td>2</td>\n",
       "      <td>2014</td>\n",
       "      <td>A/T</td>\n",
       "      <td>Gasoline</td>\n",
       "      <td>A</td>\n",
       "      <td>1591</td>\n",
       "      <td>37926</td>\n",
       "      <td>Own</td>\n",
       "      <td>Corporate</td>\n",
       "      <td>0</td>\n",
       "      <td>18043152</td>\n",
       "      <td>...</td>\n",
       "      <td>0</td>\n",
       "      <td>0</td>\n",
       "      <td>0</td>\n",
       "      <td>1</td>\n",
       "      <td>0</td>\n",
       "      <td>19340000.0</td>\n",
       "      <td>2016-01-05</td>\n",
       "      <td>2014-01-28</td>\n",
       "      <td>707 days</td>\n",
       "      <td>FK412</td>\n",
       "    </tr>\n",
       "    <tr>\n",
       "      <td>3</td>\n",
       "      <td>2013</td>\n",
       "      <td>A/T</td>\n",
       "      <td>LPG</td>\n",
       "      <td>B</td>\n",
       "      <td>2000</td>\n",
       "      <td>110149</td>\n",
       "      <td>Rent</td>\n",
       "      <td>Corporate</td>\n",
       "      <td>0</td>\n",
       "      <td>17280000</td>\n",
       "      <td>...</td>\n",
       "      <td>0</td>\n",
       "      <td>0</td>\n",
       "      <td>0</td>\n",
       "      <td>0</td>\n",
       "      <td>0</td>\n",
       "      <td>17680000.0</td>\n",
       "      <td>2016-01-05</td>\n",
       "      <td>2012-12-18</td>\n",
       "      <td>1113 days</td>\n",
       "      <td>GN418</td>\n",
       "    </tr>\n",
       "    <tr>\n",
       "      <td>4</td>\n",
       "      <td>2011</td>\n",
       "      <td>A/T</td>\n",
       "      <td>LPG</td>\n",
       "      <td>D</td>\n",
       "      <td>2000</td>\n",
       "      <td>81675</td>\n",
       "      <td>Rent</td>\n",
       "      <td>Corporate</td>\n",
       "      <td>0</td>\n",
       "      <td>15800000</td>\n",
       "      <td>...</td>\n",
       "      <td>0</td>\n",
       "      <td>0</td>\n",
       "      <td>0</td>\n",
       "      <td>0</td>\n",
       "      <td>0</td>\n",
       "      <td>15800000.0</td>\n",
       "      <td>2016-01-05</td>\n",
       "      <td>2011-04-28</td>\n",
       "      <td>1713 days</td>\n",
       "      <td>GN415</td>\n",
       "    </tr>\n",
       "    <tr>\n",
       "      <td>...</td>\n",
       "      <td>...</td>\n",
       "      <td>...</td>\n",
       "      <td>...</td>\n",
       "      <td>...</td>\n",
       "      <td>...</td>\n",
       "      <td>...</td>\n",
       "      <td>...</td>\n",
       "      <td>...</td>\n",
       "      <td>...</td>\n",
       "      <td>...</td>\n",
       "      <td>...</td>\n",
       "      <td>...</td>\n",
       "      <td>...</td>\n",
       "      <td>...</td>\n",
       "      <td>...</td>\n",
       "      <td>...</td>\n",
       "      <td>...</td>\n",
       "      <td>...</td>\n",
       "      <td>...</td>\n",
       "      <td>...</td>\n",
       "      <td>...</td>\n",
       "    </tr>\n",
       "    <tr>\n",
       "      <td>35727</td>\n",
       "      <td>2016</td>\n",
       "      <td>A/T</td>\n",
       "      <td>Gasoline</td>\n",
       "      <td>A</td>\n",
       "      <td>998</td>\n",
       "      <td>62180</td>\n",
       "      <td>Own</td>\n",
       "      <td>Corporate_prod</td>\n",
       "      <td>0</td>\n",
       "      <td>1</td>\n",
       "      <td>...</td>\n",
       "      <td>0</td>\n",
       "      <td>0</td>\n",
       "      <td>0</td>\n",
       "      <td>0</td>\n",
       "      <td>0</td>\n",
       "      <td>12500000.0</td>\n",
       "      <td>2019-05-23</td>\n",
       "      <td>2015-02-16</td>\n",
       "      <td>1557 days</td>\n",
       "      <td>BE511</td>\n",
       "    </tr>\n",
       "    <tr>\n",
       "      <td>35728</td>\n",
       "      <td>2015</td>\n",
       "      <td>A/T</td>\n",
       "      <td>Gasoline</td>\n",
       "      <td>D</td>\n",
       "      <td>3778</td>\n",
       "      <td>97801</td>\n",
       "      <td>Own</td>\n",
       "      <td>Corporate_prod</td>\n",
       "      <td>0</td>\n",
       "      <td>1</td>\n",
       "      <td>...</td>\n",
       "      <td>0</td>\n",
       "      <td>0</td>\n",
       "      <td>0</td>\n",
       "      <td>0</td>\n",
       "      <td>0</td>\n",
       "      <td>56800000.0</td>\n",
       "      <td>2019-05-23</td>\n",
       "      <td>2014-12-18</td>\n",
       "      <td>1617 days</td>\n",
       "      <td>LT413</td>\n",
       "    </tr>\n",
       "    <tr>\n",
       "      <td>35729</td>\n",
       "      <td>2015</td>\n",
       "      <td>A/T</td>\n",
       "      <td>Gasoline</td>\n",
       "      <td>B</td>\n",
       "      <td>3342</td>\n",
       "      <td>153601</td>\n",
       "      <td>Rent</td>\n",
       "      <td>Corporate_prod</td>\n",
       "      <td>0</td>\n",
       "      <td>51780001</td>\n",
       "      <td>...</td>\n",
       "      <td>0</td>\n",
       "      <td>0</td>\n",
       "      <td>0</td>\n",
       "      <td>0</td>\n",
       "      <td>0</td>\n",
       "      <td>49089202.0</td>\n",
       "      <td>2019-05-23</td>\n",
       "      <td>2015-05-06</td>\n",
       "      <td>1478 days</td>\n",
       "      <td>LT411</td>\n",
       "    </tr>\n",
       "    <tr>\n",
       "      <td>35730</td>\n",
       "      <td>2015</td>\n",
       "      <td>A/T</td>\n",
       "      <td>LPG</td>\n",
       "      <td>A</td>\n",
       "      <td>1999</td>\n",
       "      <td>140058</td>\n",
       "      <td>Rent</td>\n",
       "      <td>Corporate_prod</td>\n",
       "      <td>0</td>\n",
       "      <td>1</td>\n",
       "      <td>...</td>\n",
       "      <td>0</td>\n",
       "      <td>0</td>\n",
       "      <td>0</td>\n",
       "      <td>0</td>\n",
       "      <td>0</td>\n",
       "      <td>17130000.0</td>\n",
       "      <td>2019-05-23</td>\n",
       "      <td>2014-07-18</td>\n",
       "      <td>1770 days</td>\n",
       "      <td>GN418</td>\n",
       "    </tr>\n",
       "    <tr>\n",
       "      <td>35731</td>\n",
       "      <td>2015</td>\n",
       "      <td>A/T</td>\n",
       "      <td>LPG</td>\n",
       "      <td>A</td>\n",
       "      <td>1999</td>\n",
       "      <td>159467</td>\n",
       "      <td>Rent</td>\n",
       "      <td>Corporate_prod</td>\n",
       "      <td>0</td>\n",
       "      <td>1</td>\n",
       "      <td>...</td>\n",
       "      <td>0</td>\n",
       "      <td>0</td>\n",
       "      <td>0</td>\n",
       "      <td>0</td>\n",
       "      <td>0</td>\n",
       "      <td>17130000.0</td>\n",
       "      <td>2019-05-23</td>\n",
       "      <td>2014-05-29</td>\n",
       "      <td>1820 days</td>\n",
       "      <td>GN418</td>\n",
       "    </tr>\n",
       "  </tbody>\n",
       "</table>\n",
       "<p>35732 rows × 62 columns</p>\n",
       "</div>"
      ],
      "text/plain": [
       "       YEAR MISSNM    FUELNM COLOR  EXHA  TRAVDIST USEUSENM      OWNECLASNM  \\\n",
       "0      2011    A/T       LPG     C  1000     38480      Own       Corporate   \n",
       "1      2013    A/T  Gasoline     A  1600     62240      Own       Corporate   \n",
       "2      2014    A/T  Gasoline     A  1591     37926      Own       Corporate   \n",
       "3      2013    A/T       LPG     B  2000    110149     Rent       Corporate   \n",
       "4      2011    A/T       LPG     D  2000     81675     Rent       Corporate   \n",
       "...     ...    ...       ...   ...   ...       ...      ...             ...   \n",
       "35727  2016    A/T  Gasoline     A   998     62180      Own  Corporate_prod   \n",
       "35728  2015    A/T  Gasoline     D  3778     97801      Own  Corporate_prod   \n",
       "35729  2015    A/T  Gasoline     B  3342    153601     Rent  Corporate_prod   \n",
       "35730  2015    A/T       LPG     A  1999    140058     Rent  Corporate_prod   \n",
       "35731  2015    A/T       LPG     A  1999    159467     Rent  Corporate_prod   \n",
       "\n",
       "       INNEEXPOCLASCD_YN  NEWCARPRIC  ...  DIS  TCS  AB1  AV  ECS   PRICE_adj  \\\n",
       "0                      0    10704916  ...    0    0    1   0    0  11310000.0   \n",
       "1                      0    21230000  ...    0    0    0   1    0  19750000.0   \n",
       "2                      0    18043152  ...    0    0    0   1    0  19340000.0   \n",
       "3                      0    17280000  ...    0    0    0   0    0  17680000.0   \n",
       "4                      0    15800000  ...    0    0    0   0    0  15800000.0   \n",
       "...                  ...         ...  ...  ...  ...  ...  ..  ...         ...   \n",
       "35727                  0           1  ...    0    0    0   0    0  12500000.0   \n",
       "35728                  0           1  ...    0    0    0   0    0  56800000.0   \n",
       "35729                  0    51780001  ...    0    0    0   0    0  49089202.0   \n",
       "35730                  0           1  ...    0    0    0   0    0  17130000.0   \n",
       "35731                  0           1  ...    0    0    0   0    0  17130000.0   \n",
       "\n",
       "       SUCCYMD_adj  CARREGIYMD_adj  Used_days    vin  \n",
       "0       2016-01-05      2010-06-16  2029 days  BK518  \n",
       "1       2016-01-05      2013-02-07  1062 days  FZ412  \n",
       "2       2016-01-05      2014-01-28   707 days  FK412  \n",
       "3       2016-01-05      2012-12-18  1113 days  GN418  \n",
       "4       2016-01-05      2011-04-28  1713 days  GN415  \n",
       "...            ...             ...        ...    ...  \n",
       "35727   2019-05-23      2015-02-16  1557 days  BE511  \n",
       "35728   2019-05-23      2014-12-18  1617 days  LT413  \n",
       "35729   2019-05-23      2015-05-06  1478 days  LT411  \n",
       "35730   2019-05-23      2014-07-18  1770 days  GN418  \n",
       "35731   2019-05-23      2014-05-29  1820 days  GN418  \n",
       "\n",
       "[35732 rows x 62 columns]"
      ]
     },
     "execution_count": 55,
     "metadata": {},
     "output_type": "execute_result"
    }
   ],
   "source": [
    "#주행거리가 차를 사용한지 10년이 넘었는데 주행거리가 1이라는 것은 이상치로 판단 \n",
    "df_11 = df_10.drop(df_10[df_10['TRAVDIST'] == 1].index, axis = 0 )\n",
    "df_11.reset_index(drop=True)"
   ]
  },
  {
   "cell_type": "code",
   "execution_count": 56,
   "metadata": {
    "id": "8uOd2KnDsnX4"
   },
   "outputs": [],
   "source": [
    "#신차 대비 낙찰가의 비율 \n",
    "def price_ratio(df):\n",
    "    \n",
    "    df = df.copy()\n",
    "    \n",
    "    df['PRICE_RATIO'] = df['SUCCPRIC'] / df['PRICE_adj']\n",
    "    \n",
    "    return df "
   ]
  },
  {
   "cell_type": "code",
   "execution_count": 57,
   "metadata": {
    "id": "mnI5-_J6soeD"
   },
   "outputs": [],
   "source": [
    "def drop_price_ratio(df , threshold): \n",
    "    df = df.copy()\n",
    "    \n",
    "    df.drop( df[df['PRICE_RATIO'] <= np.percentile(df['PRICE_RATIO'] , threshold)].index , axis=0  , inplace = True )\n",
    "    \n",
    "    df.reset_index(drop = True)\n",
    "    \n",
    "    return df \n",
    "    "
   ]
  },
  {
   "cell_type": "code",
   "execution_count": 58,
   "metadata": {
    "id": "gXWaPfqlspu7"
   },
   "outputs": [],
   "source": [
    "#신차대비 낙찰가의 비율을 변수에 추가한다 \n",
    "df_12 = price_ratio(df_11)"
   ]
  },
  {
   "cell_type": "code",
   "execution_count": 59,
   "metadata": {
    "id": "eaiwD8KHsprY"
   },
   "outputs": [],
   "source": [
    "#신차대비 낙차가의 백분위수가 1퍼센트 이하인 관측치를 삭제 \n",
    "df_13 = drop_price_ratio(df_12 , threshold = 1 )"
   ]
  },
  {
   "cell_type": "code",
   "execution_count": 60,
   "metadata": {
    "colab": {
     "base_uri": "https://localhost:8080/",
     "height": 726
    },
    "id": "7kmk6xSTsppH",
    "outputId": "bf1da347-eac8-41f4-d4a1-9a285d0241f7"
   },
   "outputs": [
    {
     "data": {
      "image/png": "[encoded data removed]",
      "text/plain": [
       "<Figure size 720x720 with 20 Axes>"
      ]
     },
     "metadata": {
      "needs_background": "light"
     },
     "output_type": "display_data"
    }
   ],
   "source": [
    "plotPairplot(df_13 , ['SUCCPRIC' , 'PRICE_adj' , 'EXHA' , 'TRAVDIST'])"
   ]
  },
  {
   "cell_type": "code",
   "execution_count": 61,
   "metadata": {
    "id": "nqyRDvL7splt"
   },
   "outputs": [],
   "source": [
    "#뉴메릭 변수들의 이상치는 어느정도 제거되었다고 판단 "
   ]
  },
  {
   "cell_type": "code",
   "execution_count": 62,
   "metadata": {
    "id": "GQ5hlcfmspje"
   },
   "outputs": [],
   "source": [
    "#범주형 변수들의 유니크한 값을 갯수를 세어주어서 범주화 시켰을 경우 늘어나는 차원의 수를 계산 \n",
    "def find_dimension(df , column): \n",
    "    \n",
    "    df = df.copy()\n",
    "    \n",
    "    print(len(set(df[column])))"
   ]
  },
  {
   "cell_type": "code",
   "execution_count": 63,
   "metadata": {
    "colab": {
     "base_uri": "https://localhost:8080/",
     "height": 107
    },
    "id": "j85NsThWspiW",
    "outputId": "c7c9171c-f4ca-44ee-b937-2d3dd8b06482"
   },
   "outputs": [
    {
     "name": "stdout",
     "output_type": "stream",
     "text": [
      "17\n",
      "51\n",
      "182\n",
      "507\n",
      "617\n"
     ]
    }
   ],
   "source": [
    "find_dimension(df_13 , 'MJ_MODEL_KEY' )\n",
    "find_dimension(df_13 , 'DT_MODEL_KEY' )\n",
    "find_dimension(df_13 , 'MJ_GRADE_KEY' )\n",
    "find_dimension(df_13 , 'DT_GRADE_KEY' )\n",
    "find_dimension(df_13 , 'NC_GRADE_KEY' )"
   ]
  },
  {
   "cell_type": "code",
   "execution_count": 64,
   "metadata": {
    "id": "QTdDFKrdspes"
   },
   "outputs": [],
   "source": [
    "# 낙찰일자('SUCCYMD_adj') 에서 월만 따로 빼서 'SUCCMONTH' 컬럼에 저장하는 함수\n",
    "def make_succ_month(df):\n",
    "    \n",
    "    df = df.copy()\n",
    "    df['SUCCMONTH'] = 0\n",
    "    \n",
    "    \n",
    "    df['SUCCMONTH'] = df['SUCCYMD_adj'].apply(lambda x : x.month)\n",
    "        \n",
    "    return df"
   ]
  },
  {
   "cell_type": "code",
   "execution_count": 65,
   "metadata": {
    "id": "Lc4ztZk5spbg"
   },
   "outputs": [],
   "source": [
    "#낙찰일자에 따른 낙찰가격이 계절성이 있다는 참고자료를 사용해서 \n",
    "#낙찰일자의 월만 따로 인트로 저장한다 \n",
    "df_14 = make_succ_month(df_13)"
   ]
  },
  {
   "cell_type": "code",
   "execution_count": 66,
   "metadata": {
    "colab": {
     "base_uri": "https://localhost:8080/",
     "height": 35
    },
    "id": "OsdpB23vtBd9",
    "outputId": "961860b6-86ee-4ee3-ddc2-19258246e91b"
   },
   "outputs": [
    {
     "data": {
      "text/plain": [
       "(35374, 64)"
      ]
     },
     "execution_count": 66,
     "metadata": {},
     "output_type": "execute_result"
    }
   ],
   "source": [
    "df_14.shape"
   ]
  },
  {
   "cell_type": "code",
   "execution_count": 67,
   "metadata": {
    "id": "dkoCTvKLu7cx"
   },
   "outputs": [],
   "source": [
    "#사용날짜가 데이터타임 형식이어서 인트로 바꿔준다 \n",
    "def used_day_to_int(df): \n",
    "    \n",
    "    df = df.copy()\n",
    "    \n",
    "    df['Used_days'] = df['Used_days'].apply(lambda x : x.days)\n",
    "    \n",
    "    return df "
   ]
  },
  {
   "cell_type": "code",
   "execution_count": 68,
   "metadata": {
    "id": "Njse_UrUyukE"
   },
   "outputs": [],
   "source": [
    "#당장 쓰지는 않는 칼럼은 삭제해 준다 \n",
    "#다시 사용할수도 있음! \n",
    "df_15 = df_14.drop(['PRICE_RATIO' , 'vin'] , axis = 1)"
   ]
  },
  {
   "cell_type": "code",
   "execution_count": 69,
   "metadata": {
    "id": "GX3wRRxDy1S4"
   },
   "outputs": [],
   "source": [
    "df_16 = used_day_to_int(df_15)"
   ]
  },
  {
   "cell_type": "code",
   "execution_count": 70,
   "metadata": {
    "id": "l47AuhRGy3En"
   },
   "outputs": [],
   "source": [
    "#더미화 함수!!! \n",
    "#output은 더미화가 필요한 변수가 더미화가 되어서 원본데이터에 합쳐진값이다 \n",
    "#숫자, 문자열 둘다 더미화 시켜주는 함수 \n",
    "def cat_to_dummy(df , dummy_list): \n",
    "    \n",
    "    df=df.copy()\n",
    "    \n",
    "    df[dummy_list] = df[dummy_list].astype(str)\n",
    "    \n",
    "    temp = pd.get_dummies(df[dummy_list])\n",
    "    \n",
    "    df.drop(dummy_list , inplace = True , axis = 1)\n",
    "    \n",
    "    df[temp.columns] = temp \n",
    "    \n",
    "    return df"
   ]
  },
  {
   "cell_type": "code",
   "execution_count": 71,
   "metadata": {
    "id": "jMzzdA10y3mS"
   },
   "outputs": [],
   "source": [
    "dummy_list = ['MISSNM', 'FUELNM', 'COLOR' , 'USEUSENM', 'OWNECLASNM', 'MJ_MODEL_KEY']\n",
    "df_17 = cat_to_dummy(df_16 , dummy_list=dummy_list)"
   ]
  },
  {
   "cell_type": "markdown",
   "metadata": {
    "id": "8lvIYytq2iQ3"
   },
   "source": [
    "## 3) *Random Forest*"
   ]
  },
  {
   "cell_type": "code",
   "execution_count": 72,
   "metadata": {
    "id": "BICPWHeGy3lQ"
   },
   "outputs": [],
   "source": [
    "#일단은 대표 모델로만 모델을 돌려본다 \n",
    "drop_list = ['DT_MODEL_KEY' , 'MJ_GRADE_KEY' , 'DT_GRADE_KEY' , 'NC_GRADE_KEY' , 'SUCCYMD_adj' , 'CARREGIYMD_adj']\n",
    "df_18 = df_17.drop(drop_list , axis=1)"
   ]
  },
  {
   "cell_type": "code",
   "execution_count": 73,
   "metadata": {
    "id": "OSSA_yCny3hm"
   },
   "outputs": [],
   "source": [
    "#Train_test_split \n",
    "from sklearn.model_selection import train_test_split\n",
    "x_train , x_val , y_train , y_val = train_test_split(df_18.drop(['SUCCPRIC'] , axis=1 ) , df_18['SUCCPRIC'] , test_size = 0.2 , random_state = 100) "
   ]
  },
  {
   "cell_type": "code",
   "execution_count": 74,
   "metadata": {
    "id": "PdgMtGQoy3d9"
   },
   "outputs": [],
   "source": [
    "#평가지표 함수 \n",
    "#MSE,RMSE,MAE,MAPE를 출력해준다 \n",
    "#True, Pred 순으로 넣어야한다 \n",
    "#input은 list를 받는다 -> np array로 바꿔야할지도\n",
    "def eval_indicator(y_true , y_pred):\n",
    "    \n",
    "    from sklearn import metrics\n",
    "    import numpy as np \n",
    "    \n",
    "    def mape(y_true, y_pred): \n",
    "        y_true, y_pred = np.array(y_true), np.array(y_pred)\n",
    "        return np.mean(np.abs((y_true - y_pred) / y_true)) * 100\n",
    "    \n",
    "    MSE = metrics.mean_squared_error(y_true ,y_pred )\n",
    "    RMSE = np.sqrt(MSE)\n",
    "    MAE = metrics.mean_absolute_error(y_true ,y_pred )\n",
    "    MAPE = mape(y_true ,y_pred )\n",
    "    eval_ = {\"MSE\" : [MSE] , \"RMSE\" : [RMSE] , \"MAE\" : [MAE] , \"MAPE\" : [MAPE]}\n",
    "    eval_ = pd.DataFrame(eval_)\n",
    "    eval_.index = ['Values']\n",
    "    \n",
    "    return eval_"
   ]
  },
  {
   "cell_type": "code",
   "execution_count": 75,
   "metadata": {
    "id": "pdE8y-yOzPEZ"
   },
   "outputs": [],
   "source": [
    "from sklearn.ensemble import RandomForestRegressor"
   ]
  },
  {
   "cell_type": "code",
   "execution_count": 76,
   "metadata": {
    "colab": {
     "base_uri": "https://localhost:8080/",
     "height": 179
    },
    "id": "QkvPAtjXzEmt",
    "outputId": "ad549651-6181-4ea8-ca49-49ebeeb31ec2"
   },
   "outputs": [
    {
     "name": "stdout",
     "output_type": "stream",
     "text": [
      "CPU times: user 14min 25s, sys: 11 s, total: 14min 36s\n",
      "Wall time: 1min 28s\n"
     ]
    },
    {
     "data": {
      "text/plain": [
       "RandomForestRegressor(bootstrap=True, criterion='mse', max_depth=None,\n",
       "                      max_features=0.8, max_leaf_nodes=None,\n",
       "                      min_impurity_decrease=0.0, min_impurity_split=None,\n",
       "                      min_samples_leaf=1, min_samples_split=2,\n",
       "                      min_weight_fraction_leaf=0.0, n_estimators=2000,\n",
       "                      n_jobs=-1, oob_score=False, random_state=100, verbose=0,\n",
       "                      warm_start=False)"
      ]
     },
     "execution_count": 76,
     "metadata": {},
     "output_type": "execute_result"
    }
   ],
   "source": [
    "reg = RandomForestRegressor(n_estimators=2000, \n",
    "                            n_jobs= -1 , \n",
    "                            random_state=100, \n",
    "                            max_depth=None,\n",
    "                            max_features = 0.8 \n",
    "                            )\n",
    "\n",
    "%time reg.fit(x_train, y_train)"
   ]
  },
  {
   "cell_type": "code",
   "execution_count": 77,
   "metadata": {
    "colab": {
     "base_uri": "https://localhost:8080/",
     "height": 80
    },
    "id": "T2tL4hE7zZDh",
    "outputId": "db6952d3-4a7c-4148-8a80-8ebe667abc7d"
   },
   "outputs": [
    {
     "data": {
      "text/html": [
       "<div>\n",
       "<style scoped>\n",
       "    .dataframe tbody tr th:only-of-type {\n",
       "        vertical-align: middle;\n",
       "    }\n",
       "\n",
       "    .dataframe tbody tr th {\n",
       "        vertical-align: top;\n",
       "    }\n",
       "\n",
       "    .dataframe thead th {\n",
       "        text-align: right;\n",
       "    }\n",
       "</style>\n",
       "<table border=\"1\" class=\"dataframe\">\n",
       "  <thead>\n",
       "    <tr style=\"text-align: right;\">\n",
       "      <th></th>\n",
       "      <th>MSE</th>\n",
       "      <th>RMSE</th>\n",
       "      <th>MAE</th>\n",
       "      <th>MAPE</th>\n",
       "    </tr>\n",
       "  </thead>\n",
       "  <tbody>\n",
       "    <tr>\n",
       "      <td>Values</td>\n",
       "      <td>7.167221e+11</td>\n",
       "      <td>846594.394703</td>\n",
       "      <td>567690.585866</td>\n",
       "      <td>8.068962</td>\n",
       "    </tr>\n",
       "  </tbody>\n",
       "</table>\n",
       "</div>"
      ],
      "text/plain": [
       "                 MSE           RMSE            MAE      MAPE\n",
       "Values  7.167221e+11  846594.394703  567690.585866  8.068962"
      ]
     },
     "execution_count": 77,
     "metadata": {},
     "output_type": "execute_result"
    }
   ],
   "source": [
    "y_pred = reg.predict(x_val)\n",
    "\n",
    "eval_indicator(y_val , y_pred)"
   ]
  },
  {
   "cell_type": "code",
   "execution_count": 78,
   "metadata": {
    "colab": {
     "base_uri": "https://localhost:8080/",
     "height": 179
    },
    "id": "TTyNXgdn37GD",
    "outputId": "aec611e6-512c-4cb8-de61-430142c7b107"
   },
   "outputs": [
    {
     "name": "stdout",
     "output_type": "stream",
     "text": [
      "CPU times: user 2min 29s, sys: 4.72 s, total: 2min 34s\n",
      "Wall time: 19 s\n"
     ]
    },
    {
     "data": {
      "text/plain": [
       "RandomForestRegressor(bootstrap=True, criterion='mse', max_depth=None,\n",
       "                      max_features=0.5, max_leaf_nodes=None,\n",
       "                      min_impurity_decrease=0.0, min_impurity_split=None,\n",
       "                      min_samples_leaf=1, min_samples_split=2,\n",
       "                      min_weight_fraction_leaf=0.0, n_estimators=500, n_jobs=-1,\n",
       "                      oob_score=False, random_state=100, verbose=0,\n",
       "                      warm_start=False)"
      ]
     },
     "execution_count": 78,
     "metadata": {},
     "output_type": "execute_result"
    }
   ],
   "source": [
    "reg = RandomForestRegressor(n_estimators=500, \n",
    "                            n_jobs= -1 , \n",
    "                            random_state=100, \n",
    "                            max_depth=None,\n",
    "                            max_features = 0.5 \n",
    "                            )\n",
    "\n",
    "%time reg.fit(x_train, y_train)"
   ]
  },
  {
   "cell_type": "code",
   "execution_count": 79,
   "metadata": {
    "colab": {
     "base_uri": "https://localhost:8080/",
     "height": 80
    },
    "id": "wxVH63On3861",
    "outputId": "4432f307-e648-4ec5-df3a-318e3809d26b"
   },
   "outputs": [
    {
     "data": {
      "text/html": [
       "<div>\n",
       "<style scoped>\n",
       "    .dataframe tbody tr th:only-of-type {\n",
       "        vertical-align: middle;\n",
       "    }\n",
       "\n",
       "    .dataframe tbody tr th {\n",
       "        vertical-align: top;\n",
       "    }\n",
       "\n",
       "    .dataframe thead th {\n",
       "        text-align: right;\n",
       "    }\n",
       "</style>\n",
       "<table border=\"1\" class=\"dataframe\">\n",
       "  <thead>\n",
       "    <tr style=\"text-align: right;\">\n",
       "      <th></th>\n",
       "      <th>MSE</th>\n",
       "      <th>RMSE</th>\n",
       "      <th>MAE</th>\n",
       "      <th>MAPE</th>\n",
       "    </tr>\n",
       "  </thead>\n",
       "  <tbody>\n",
       "    <tr>\n",
       "      <td>Values</td>\n",
       "      <td>6.760158e+11</td>\n",
       "      <td>822201.793569</td>\n",
       "      <td>553591.785159</td>\n",
       "      <td>7.955308</td>\n",
       "    </tr>\n",
       "  </tbody>\n",
       "</table>\n",
       "</div>"
      ],
      "text/plain": [
       "                 MSE           RMSE            MAE      MAPE\n",
       "Values  6.760158e+11  822201.793569  553591.785159  7.955308"
      ]
     },
     "execution_count": 79,
     "metadata": {},
     "output_type": "execute_result"
    }
   ],
   "source": [
    "y_pred = reg.predict(x_val)\n",
    "\n",
    "eval_indicator(y_val , y_pred)"
   ]
  },
  {
   "cell_type": "code",
   "execution_count": 80,
   "metadata": {
    "colab": {
     "base_uri": "https://localhost:8080/",
     "height": 179
    },
    "id": "MfrPPdV96QDv",
    "outputId": "5766396f-7714-45e8-f4bc-9d74ff21c6e8"
   },
   "outputs": [
    {
     "name": "stdout",
     "output_type": "stream",
     "text": [
      "CPU times: user 2min 9s, sys: 2.95 s, total: 2min 12s\n",
      "Wall time: 13.4 s\n"
     ]
    },
    {
     "data": {
      "text/plain": [
       "RandomForestRegressor(bootstrap=True, criterion='mse', max_depth=50,\n",
       "                      max_features=0.4, max_leaf_nodes=None,\n",
       "                      min_impurity_decrease=0.0, min_impurity_split=None,\n",
       "                      min_samples_leaf=1, min_samples_split=2,\n",
       "                      min_weight_fraction_leaf=0.0, n_estimators=500, n_jobs=-1,\n",
       "                      oob_score=False, random_state=100, verbose=0,\n",
       "                      warm_start=False)"
      ]
     },
     "execution_count": 80,
     "metadata": {},
     "output_type": "execute_result"
    }
   ],
   "source": [
    "reg = RandomForestRegressor(n_estimators=500, \n",
    "                            n_jobs= -1 , \n",
    "                            random_state=100, \n",
    "                            max_depth=50,\n",
    "                            max_features = 0.4 \n",
    "                            )\n",
    "\n",
    "%time reg.fit(x_train, y_train)"
   ]
  },
  {
   "cell_type": "code",
   "execution_count": 81,
   "metadata": {
    "colab": {
     "base_uri": "https://localhost:8080/",
     "height": 80
    },
    "id": "zvCn8C_Q6Vq0",
    "outputId": "007370ce-c1a6-4539-994b-aca8f1089599"
   },
   "outputs": [
    {
     "data": {
      "text/html": [
       "<div>\n",
       "<style scoped>\n",
       "    .dataframe tbody tr th:only-of-type {\n",
       "        vertical-align: middle;\n",
       "    }\n",
       "\n",
       "    .dataframe tbody tr th {\n",
       "        vertical-align: top;\n",
       "    }\n",
       "\n",
       "    .dataframe thead th {\n",
       "        text-align: right;\n",
       "    }\n",
       "</style>\n",
       "<table border=\"1\" class=\"dataframe\">\n",
       "  <thead>\n",
       "    <tr style=\"text-align: right;\">\n",
       "      <th></th>\n",
       "      <th>MSE</th>\n",
       "      <th>RMSE</th>\n",
       "      <th>MAE</th>\n",
       "      <th>MAPE</th>\n",
       "    </tr>\n",
       "  </thead>\n",
       "  <tbody>\n",
       "    <tr>\n",
       "      <td>Values</td>\n",
       "      <td>6.647158e+11</td>\n",
       "      <td>815301.041898</td>\n",
       "      <td>548635.332862</td>\n",
       "      <td>7.93753</td>\n",
       "    </tr>\n",
       "  </tbody>\n",
       "</table>\n",
       "</div>"
      ],
      "text/plain": [
       "                 MSE           RMSE            MAE     MAPE\n",
       "Values  6.647158e+11  815301.041898  548635.332862  7.93753"
      ]
     },
     "execution_count": 81,
     "metadata": {},
     "output_type": "execute_result"
    }
   ],
   "source": [
    "y_pred = reg.predict(x_val)\n",
    "\n",
    "eval_indicator(y_val , y_pred)"
   ]
  },
  {
   "cell_type": "code",
   "execution_count": 82,
   "metadata": {
    "colab": {
     "base_uri": "https://localhost:8080/",
     "height": 634
    },
    "id": "DMp2GTrr3_7-",
    "outputId": "bf8c546f-98a0-4403-d62b-c33f8a1b6544"
   },
   "outputs": [
    {
     "data": {
      "text/plain": [
       "[<matplotlib.lines.Line2D at 0x7fe4e0699b50>]"
      ]
     },
     "execution_count": 82,
     "metadata": {},
     "output_type": "execute_result"
    },
    {
     "data": {
      "image/png": "[encoded data removed]",
      "text/plain": [
       "<Figure size 720x720 with 1 Axes>"
      ]
     },
     "metadata": {
      "needs_background": "light"
     },
     "output_type": "display_data"
    }
   ],
   "source": [
    "plt.rcParams['figure.figsize'] = [10,10]\n",
    "plt.plot(y_val , reg.predict(x_val) , 'o')"
   ]
  },
  {
   "cell_type": "code",
   "execution_count": 83,
   "metadata": {
    "id": "QhWSdEou4BZs"
   },
   "outputs": [
    {
     "name": "stdout",
     "output_type": "stream",
     "text": [
      "Fitting 5 folds for each of 9 candidates, totalling 45 fits\n"
     ]
    },
    {
     "name": "stderr",
     "output_type": "stream",
     "text": [
      "[Parallel(n_jobs=-1)]: Using backend LokyBackend with 12 concurrent workers.\n",
      "[Parallel(n_jobs=-1)]: Done  17 tasks      | elapsed:  6.1min\n",
      "[Parallel(n_jobs=-1)]: Done  45 out of  45 | elapsed: 12.3min remaining:    0.0s\n",
      "[Parallel(n_jobs=-1)]: Done  45 out of  45 | elapsed: 12.3min finished\n"
     ]
    },
    {
     "name": "stdout",
     "output_type": "stream",
     "text": [
      "params :  {'max_depth': 50, 'max_features': 0.5, 'n_estimators': 500, 'random_state': 100}\n",
      "best score:  -742442143256.8582\n"
     ]
    }
   ],
   "source": [
    "## 컴퓨터 속도 때문에 시간이 오래 걸려서 local로 작업한 결과를 첨부하겠습니다.\n",
    "\n",
    "from sklearn.model_selection import train_test_split , GridSearchCV , KFold\n",
    "reg_g = RandomForestRegressor()\n",
    "param_grid = {'max_depth' : [50,80,None] ,\n",
    "              'max_features' : [0.5,0.6,0.7] ,\n",
    "              'random_state' : [100] , \n",
    "              'n_estimators' : [500]}\n",
    "cv = KFold(n_splits=5 , random_state=100)\n",
    "\n",
    "gcv = GridSearchCV(reg_g , param_grid=param_grid , cv=cv , scoring='neg_mean_squared_error' , n_jobs=-1 , verbose=2)\n",
    "\n",
    "gcv.fit(x_train , y_train)\n",
    "print('params : ' , gcv.best_params_)\n",
    "print('best score: ' , gcv.best_score_)"
   ]
  },
  {
   "cell_type": "code",
   "execution_count": null,
   "metadata": {
    "id": "I3Qpckqr4j8C"
   },
   "outputs": [],
   "source": []
  },
  {
   "cell_type": "markdown",
   "metadata": {
    "id": "tCzgul-C63L1"
   },
   "source": [
    "## 3. System Implementation"
   ]
  },
  {
   "cell_type": "code",
   "execution_count": 84,
   "metadata": {
    "id": "1UR2r0yQBJrS"
   },
   "outputs": [],
   "source": [
    "# 시스템 구현을 위한 Test Set 샘플\n",
    "df_test = pd.read_csv('Kia_testset_sample.csv', encoding ='cp949')  # 한글 Encoding 문제로 encoding = 'cp949'"
   ]
  },
  {
   "cell_type": "code",
   "execution_count": 85,
   "metadata": {
    "id": "pg2-2FBkCH1c"
   },
   "outputs": [],
   "source": [
    "# column 제거 \n",
    "\n",
    "# 차량의 ID는 필요가 없다고 판단하여 삭제하였다 \n",
    "# 차량ID('GOODNO') drop하는 함수\n",
    "def drop_ID(df):\n",
    "    \n",
    "    df = df.copy()\n",
    "    \n",
    "    if 'GOODNO' in df.columns:\n",
    "        \n",
    "        df.drop(columns='GOODNO', inplace=True)\n",
    "        \n",
    "    else:\n",
    "        \n",
    "        print(\"There is no such column: 'GOODNO'\")\n",
    "        \n",
    "    return df"
   ]
  },
  {
   "cell_type": "code",
   "execution_count": 86,
   "metadata": {
    "id": "7_T3Vvm3CLB9"
   },
   "outputs": [],
   "source": [
    "def droplv1(df):\n",
    "\n",
    "    df = df.copy()\n",
    "    \n",
    "    dropped_in_train_1 = ['FRONT_RIGHT_FENDER', 'FRONT_LEFT_DOOR', 'BACK_RIGHT_DOOR', 'FRONT_PANNEL', 'RIGHT_STEP', 'LEFT_FILER_A', 'RIGHT_FILER_A', 'LEFT_FILER_B', 'RIGHT_FILER_B', 'LEFT_FILER_C', 'LEFT_REAR_FENDER', 'BACK_PANEL1', 'RIGHT_INSIDE_PANEL', 'LEFT_WHEEL_HOUSE', 'RIGHT_WHEEL_HOUSE', 'LEFT_INSIDE_WHEEL_HOUSE', 'DASH_PANEL', 'SHEET_PANEL', 'LEFT_QUARTER', 'RIGHT_QUARTER', 'LEFT_SIDE_PANEL', 'LEFT_REAR_CORNER_PANEL', 'RIGHT_REAR_CORNER_PANEL', 'LEFT_CORNER_PANEL', 'RIGHT_CORNER_PANEL', 'LEFT_SKIRT_PANEL', 'RIGHT_SKIRT_PANEL', 'SIDE_MEMBER_FRAME2', 'RIGHT_INSIDE_SHEETING', 'LEFT_WHEEL_HOUSE_SHEETING', 'RIGHT_REAR_INSIDE_PANEL_SHEETING', 'RIGHT_REAR_WHEEL_HOUSE_SHEETING', 'LEFT_SIDE_PANEL_SHEETING', 'RIGHT_SIDE_PANEL_SHEETING', 'JOINCAR', 'NOTAVAILABLE', 'MF_KEY', 'SUNLOOPDUAL', 'ETC', 'EPS']\n",
    "    \n",
    "    for i in df.columns:\n",
    "        if (i in dropped_in_train_1):\n",
    "            df.drop(columns=i, inplace=True)\n",
    "    return df"
   ]
  },
  {
   "cell_type": "code",
   "execution_count": 87,
   "metadata": {
    "id": "VQG71LCsCLi-"
   },
   "outputs": [],
   "source": [
    "def to_datetime(df):\n",
    "    \n",
    "    df = df.copy()\n",
    "    df['SUCCYMD_adj'] = datetime.datetime(2020,1,1)\n",
    "    df['CARREGIYMD_adj'] = datetime.datetime(2020,1,1)\n",
    "    df['Used_days'] = 0\n",
    "    \n",
    "    for i in range(df.shape[0]):\n",
    "        df.loc[i, 'SUCCYMD'] = str(df.loc[i, 'SUCCYMD'])\n",
    "        df.loc[i, 'CARREGIYMD'] = str(df.loc[i, 'CARREGIYMD'])\n",
    "        df.loc[i, 'SUCCYMD_adj'] = datetime.datetime(int(df.loc[i, 'SUCCYMD'][0:4]), int(df.loc[i, 'SUCCYMD'][4:6]), int(df.loc[i, 'SUCCYMD'][6:8]))\n",
    "        df.loc[i, 'CARREGIYMD_adj'] = datetime.datetime(int(df.loc[i, 'CARREGIYMD'][0:4]), int(df.loc[i, 'CARREGIYMD'][4:6]), int(df.loc[i, 'CARREGIYMD'][6:8]))\n",
    "        \n",
    "    df['Used_days'] = df['SUCCYMD_adj'] - df['CARREGIYMD_adj']\n",
    "    \n",
    "    neg_Used_days = []\n",
    "    for i in range(df.shape[0]):\n",
    "        if (df.loc[i, 'Used_days'] < datetime.timedelta(0)):\n",
    "            neg_Used_days.append(i)\n",
    "            \n",
    "    df.drop(neg_Used_days, inplace=True)\n",
    "    print('Dropped records with index:', neg_Used_days)\n",
    "    df = df.reset_index(drop=True)\n",
    "    \n",
    "    df.drop(['SUCCYMD' , 'CARREGIYMD'] , axis =1 , inplace = True)\n",
    "    \n",
    "    return df"
   ]
  },
  {
   "cell_type": "code",
   "execution_count": 88,
   "metadata": {
    "id": "Mxdvube3CLh5"
   },
   "outputs": [],
   "source": [
    "# 3가지 유형의 Price 신뢰도순으로 선택하여 'PRICE_adj'에 저장 \n",
    "# 값이 셋다 존재하지 않을 시 해당 레코드 제거\n",
    "def make_price(df):\n",
    "    \n",
    "    import math\n",
    "    \n",
    "    df = df.copy()\n",
    "    df['PRICE_adj'] = 0\n",
    "    price_null_ind = []\n",
    "    \n",
    "    for i in range(df.shape[0]):\n",
    "        if (math.isnan(df.loc[i, 'SHIPPING_PRICE']) == False):\n",
    "            df.loc[i, 'PRICE_adj'] = df.loc[i, 'SHIPPING_PRICE']\n",
    "        else:\n",
    "            if (math.isnan(df.loc[i, 'NC_GRADE_PRICE']) == False):\n",
    "                df.loc[i, 'PRICE_adj'] = df.loc[i, 'NC_GRADE_PRICE']\n",
    "            else:\n",
    "                if (math.isnan(df.loc[i, 'NEWCARPRIC']) == False):\n",
    "                    df.loc[i, 'PRICE_adj'] = df.loc[i, 'NEWCARPRIC']\n",
    "                else:\n",
    "                    price_null_ind.append(i)\n",
    "                    \n",
    "    df.drop(price_null_ind, inplace=True)\n",
    "    \n",
    "    print('Dropped records with index:', price_null_ind)\n",
    "    \n",
    "    df.drop(['SHIPPING_PRICE' , 'NC_GRADE_PRICE'] , axis = 1 , inplace = True)\n",
    "    \n",
    "    df = df.reset_index(drop=True)\n",
    "    \n",
    "    return df"
   ]
  },
  {
   "cell_type": "code",
   "execution_count": 89,
   "metadata": {
    "id": "5amketflCLdX"
   },
   "outputs": [],
   "source": [
    "# OX 나 YN으로 표현된 칼럼을 1,0으로 바꿔준다 \n",
    "# O or Y -> 1    X or N -> 0\n",
    "def str_to_onehot(df , str_columns): \n",
    "    \n",
    "    df = df.copy()\n",
    "    \n",
    "    def temp_func(str_):\n",
    "        \n",
    "        if str_ == 'O' or str_ == 'Y': \n",
    "            \n",
    "            str_ = 1\n",
    "        else:\n",
    "            \n",
    "            str_ = 0\n",
    "            \n",
    "        return str_\n",
    "    for column in str_columns:\n",
    "        \n",
    "        df[column] = df[column].apply(temp_func)\n",
    "    \n",
    "    return df"
   ]
  },
  {
   "cell_type": "code",
   "execution_count": 90,
   "metadata": {
    "id": "NB1xlQIWCY9q"
   },
   "outputs": [],
   "source": [
    "# dropping CHASNO\n",
    "def drop_chasno(df):\n",
    "    \n",
    "    df = df.copy()\n",
    "    \n",
    "    df.drop(columns='CHASNO', inplace = True)\n",
    "    \n",
    "    return df"
   ]
  },
  {
   "cell_type": "code",
   "execution_count": 91,
   "metadata": {
    "id": "dO2d1p-bCLcR"
   },
   "outputs": [],
   "source": [
    "#차이름을 드랍해준다 \n",
    "def drop_car_name(df):\n",
    "    \n",
    "    df = df.copy()\n",
    "    \n",
    "    df.drop(columns = 'CARNM', inplace = True)\n",
    "    \n",
    "    return df"
   ]
  },
  {
   "cell_type": "code",
   "execution_count": 92,
   "metadata": {
    "id": "hvcOlz1FCLYI"
   },
   "outputs": [],
   "source": [
    "# 한글값들 영어로 수정 (연료명, 용도명, 소유명에 대해서)\n",
    "# 구글 코랩 한글사용시 오류 발생때문\n",
    "def kor_to_eng(df):\n",
    "    \n",
    "    df = df.copy()\n",
    "    \n",
    "    dict_fuelnm = {'가솔린':'Gasoline', '디젤':'Diesel', '겸용':'Bi-fuel', 'LPG':'LPG', 'Hybrid':'Hybrid', '전기':'Electric'}\n",
    "    dict_usenm = {'자가':'Own', '렌트':'Rent', '업무':'Work', '리스':'Lease', '사업':'Business'}\n",
    "    dict_ownerclass = {'법인':'Corporate', '법인상품':'Corporate_prod', '개인':'Personal', '상품용':'Prod', '재외국인':'Foreigner', '개인사업':'Personal_business', '종교단체':'Religional'}\n",
    "\n",
    "    for i in range(df.shape[0]):\n",
    "        df.loc[i, 'FUELNM'] = dict_fuelnm[df.loc[i, 'FUELNM']]\n",
    "        df.loc[i, 'USEUSENM'] = dict_usenm[df.loc[i, 'USEUSENM']]\n",
    "        df.loc[i, 'OWNECLASNM'] = dict_ownerclass[df.loc[i, 'OWNECLASNM']]\n",
    "        \n",
    "    return df"
   ]
  },
  {
   "cell_type": "code",
   "execution_count": 93,
   "metadata": {
    "id": "hopeXBgUCeFB"
   },
   "outputs": [],
   "source": [
    "# 낙찰일자('SUCCYMD_adj') 에서 월만 따로 빼서 'SUCCMONTH' 컬럼에 저장하는 함수\n",
    "def make_succ_month(df):\n",
    "    \n",
    "    df = df.copy()\n",
    "    df['SUCCMONTH'] = 0\n",
    "    \n",
    "    \n",
    "    df['SUCCMONTH'] = df['SUCCYMD_adj'].apply(lambda x : x.month)\n",
    "        \n",
    "    return df"
   ]
  },
  {
   "cell_type": "code",
   "execution_count": 94,
   "metadata": {
    "id": "idXQEwSPCfY0"
   },
   "outputs": [],
   "source": [
    "#사용날짜가 데이터타임 형식이어서 인트로 바꿔준다 \n",
    "def used_day_to_int(df): \n",
    "    \n",
    "    df = df.copy()\n",
    "    \n",
    "    df['Used_days'] = df['Used_days'].apply(lambda x : x.days)\n",
    "    \n",
    "    return df "
   ]
  },
  {
   "cell_type": "code",
   "execution_count": 95,
   "metadata": {
    "id": "OiBTvFRiCf1g"
   },
   "outputs": [],
   "source": [
    "#더미화 함수!!! \n",
    "#output은 더미화가 필요한 변수가 더미화가 되어서 원본데이터에 합쳐진값이다 \n",
    "#숫자, 문자열 둘다 더미화 시켜주는 함수 \n",
    "def cat_to_dummy(df , dummy_list): \n",
    "    \n",
    "    df=df.copy()\n",
    "    \n",
    "    df[dummy_list] = df[dummy_list].astype(str)\n",
    "    \n",
    "    temp = pd.get_dummies(df[dummy_list])\n",
    "    \n",
    "    df.drop(dummy_list , inplace = True , axis = 1)\n",
    "    \n",
    "    df[temp.columns] = temp \n",
    "    \n",
    "    return df"
   ]
  },
  {
   "cell_type": "code",
   "execution_count": 96,
   "metadata": {
    "id": "7sizyZOiCibU"
   },
   "outputs": [],
   "source": [
    "def drop_useless(df):\n",
    "    \n",
    "    df = df.copy()\n",
    "    \n",
    "    drop_list = ['DT_MODEL_KEY' , 'MJ_GRADE_KEY' , 'DT_GRADE_KEY' , 'NC_GRADE_KEY' , 'SUCCYMD_adj' , 'CARREGIYMD_adj']\n",
    "    df = df.drop(drop_list , axis=1)\n",
    "    \n",
    "    return df"
   ]
  },
  {
   "cell_type": "code",
   "execution_count": 97,
   "metadata": {
    "id": "JLlIqlrhCi0Q"
   },
   "outputs": [],
   "source": [
    "#Kfold를 사용해서 트레인 값을 바꿔준 모델들의 결과의 평균을 이용\n",
    "# #output = mean_of_predictions\n",
    "\n",
    "# def k_fold_prediction(n_estimators , max_depth , n_splits , train_data , test_data):\n",
    "    \n",
    "#     from sklearn.model_selection import KFold\n",
    "#     from sklearn.ensemble import RandomForestRegressor\n",
    "#     import numpy as np \n",
    "    \n",
    "#     reg_R = RandomForestRegressor(n_estimators=n_estimators,\n",
    "#                                  random_state = 100,\n",
    "#                                  max_depth=max_depth\n",
    "#                                  )\n",
    "    \n",
    "#     cv = KFold(n_splits = 5 , random_state = 100 , suffle=True)\n",
    "    \n",
    "#     pred_y_sum = np.zeros(train_data.shape[0])\n",
    "    \n",
    "#     for tidx , vidx in cv.split(train_data):\n",
    "        \n",
    "#         train_cv = train_data.iloc[tidx]\n",
    "#         val_cv = train_data.iloc[vidx]\n",
    "        \n",
    "#         train_x = train_cv.drop(['SUCCPRIC'] , axis = 1)\n",
    "#         train_y = train_cv['SUCCPRIC']\n",
    "        \n",
    "#         val_x = val_cv.drop(['SUCCPRIC'] , axis = 1)\n",
    "#         val_y = val_cv['SUCCPRIC']\n",
    "        \n",
    "#         reg_R.fit(train_x , train_y)\n",
    "        \n",
    "#         fold_state = 1 \n",
    "#         print('Fold_{}_model_performance_by_validaion_data'.format(fold_state))\n",
    "#         print(eval_indicator(val_y , reg_R.predict(val_x)))\n",
    "        \n",
    "#         pred_y = reg_R.predict(test_data)\n",
    "        \n",
    "#         #혹시 모르니까 결과값들을 폴드별로 저장해두자 \n",
    "#         vars()['pred_y_{}'.format(fold_state)] = pred_y\n",
    "        \n",
    "#         fold_state = fold_state+1\n",
    "        \n",
    "#         pred_y_sum = pred_y_sum + pred_y\n",
    "        \n",
    "#     pred_y_mean = pred_y_sum / n_splits\n",
    "    \n",
    "#     return pred_y_mean"
   ]
  },
  {
   "cell_type": "code",
   "execution_count": 98,
   "metadata": {
    "id": "kHV9RdQkC3oM"
   },
   "outputs": [],
   "source": [
    "test_ind = df_test.columns\n",
    "    \n",
    "train_ind = df_18.columns\n",
    "def everything(test):\n",
    "    \n",
    "    test = test.copy()\n",
    "    \n",
    "    test = drop_ID(test)\n",
    "\n",
    "    test = droplv1(test)\n",
    "\n",
    "    test = to_datetime(test)\n",
    "\n",
    "    test = make_price(test)\n",
    "\n",
    "    test = str_to_onehot(test, ['INNEEXPOCLASCD_YN', 'YEARCHK'])\n",
    "\n",
    "    test = drop_car_name(test)\n",
    "\n",
    "    test = kor_to_eng(test)\n",
    "\n",
    "    test = make_succ_month(test)\n",
    "\n",
    "    test = used_day_to_int(test)\n",
    "\n",
    "    test = cat_to_dummy(test, ['MISSNM', 'FUELNM', 'COLOR' , 'USEUSENM', 'OWNECLASNM', 'MJ_MODEL_KEY'])\n",
    "\n",
    "    test = drop_useless(test)\n",
    "\n",
    "    test = drop_chasno(test)\n",
    "    \n",
    "    #df_train = pd.read_csv('train_data_set.csv' , encoding = 'cp949')\n",
    "    \n",
    "    #df_train = df_train.drop(['SUCCPRIC'] , axis=1)\n",
    "    \n",
    "    #df_train = df_train.drop(['Unnamed: 0'], axis=1)\n",
    "    \n",
    "    #test_ind = df_test.columns\n",
    "    \n",
    "    #train_ind = df_18.columns\n",
    "    \n",
    "    add_list=[]\n",
    "    for i in train_ind:\n",
    "        if i not in test_ind:\n",
    "            add_list.append(i)\n",
    "    \n",
    "    for i in add_list:\n",
    "        \n",
    "        test[i] = 0\n",
    "    \n",
    "    return test"
   ]
  },
  {
   "cell_type": "code",
   "execution_count": 99,
   "metadata": {
    "colab": {
     "base_uri": "https://localhost:8080/",
     "height": 53
    },
    "id": "TBWia8YAEKmt",
    "outputId": "afa45c84-26f1-431e-9e9c-b7ad2f025754"
   },
   "outputs": [
    {
     "name": "stdout",
     "output_type": "stream",
     "text": [
      "Dropped records with index: []\n",
      "Dropped records with index: []\n"
     ]
    }
   ],
   "source": [
    "import datetime\n",
    "test_data = everything(df_test)"
   ]
  },
  {
   "cell_type": "code",
   "execution_count": 100,
   "metadata": {
    "colab": {
     "base_uri": "https://localhost:8080/",
     "height": 80
    },
    "id": "Xrniccb2E5pl",
    "outputId": "186746bb-32e1-4e9f-ef95-a3d077f9b149"
   },
   "outputs": [
    {
     "data": {
      "text/html": [
       "<div>\n",
       "<style scoped>\n",
       "    .dataframe tbody tr th:only-of-type {\n",
       "        vertical-align: middle;\n",
       "    }\n",
       "\n",
       "    .dataframe tbody tr th {\n",
       "        vertical-align: top;\n",
       "    }\n",
       "\n",
       "    .dataframe thead th {\n",
       "        text-align: right;\n",
       "    }\n",
       "</style>\n",
       "<table border=\"1\" class=\"dataframe\">\n",
       "  <thead>\n",
       "    <tr style=\"text-align: right;\">\n",
       "      <th></th>\n",
       "      <th>MSE</th>\n",
       "      <th>RMSE</th>\n",
       "      <th>MAE</th>\n",
       "      <th>MAPE</th>\n",
       "    </tr>\n",
       "  </thead>\n",
       "  <tbody>\n",
       "    <tr>\n",
       "      <td>Values</td>\n",
       "      <td>9.521649e+12</td>\n",
       "      <td>3.085717e+06</td>\n",
       "      <td>2130141.0</td>\n",
       "      <td>29.426361</td>\n",
       "    </tr>\n",
       "  </tbody>\n",
       "</table>\n",
       "</div>"
      ],
      "text/plain": [
       "                 MSE          RMSE        MAE       MAPE\n",
       "Values  9.521649e+12  3.085717e+06  2130141.0  29.426361"
      ]
     },
     "execution_count": 100,
     "metadata": {},
     "output_type": "execute_result"
    }
   ],
   "source": [
    "test_x = test_data.drop(['SUCCPRIC'] , axis=1)\n",
    "test_y = test_data['SUCCPRIC']\n",
    "eval_indicator(test_y , reg.predict(test_x))"
   ]
  },
  {
   "cell_type": "markdown",
   "metadata": {
    "id": "LeMCS7AR3mbw"
   },
   "source": [
    "## 4. 파생변수 고려 내용"
   ]
  },
  {
   "cell_type": "code",
   "execution_count": 101,
   "metadata": {
    "id": "823BafzE3TwT"
   },
   "outputs": [],
   "source": [
    "# 교환여부, 교환횟수\n",
    "def merge_exchange(df_tmp):\n",
    "    df = df_tmp.copy()\n",
    "    df_sub = df.loc[:, 'BONET':'BACK_PANEL2']\n",
    "    df = df.drop(df.loc[:, 'BONET':'BACK_PANEL2'].head(0).columns, axis=1)\n",
    "    \n",
    "    df['EXCHANGE_SUM'] = df_sub.sum(axis = 1)\n",
    "    #print(df['EXCHANGE_SUM'])\n",
    "    \n",
    "    df['EXCHANGE_BOOL'] = [0 for i in range(df.shape[0])]\n",
    "    for i in range(df.shape[0]):\n",
    "        if df['EXCHANGE_SUM'][i] == 0:\n",
    "            df['EXCHANGE_BOOL'][i] = 0\n",
    "        else:\n",
    "            df['EXCHANGE_BOOL'][i] = 1\n",
    "    #print(df['EXCHANGE_BOOL'])\n",
    "    return df\n",
    "\n",
    "# 용접여부, 용접횟수\n",
    "def merge_sheeting(df_tmp):\n",
    "    df = df_tmp.copy()\n",
    "    df_sub = df.loc[:, 'RIGHT_WHEEL_HOUSE_SHEETING':'FLOOR_PANEL_SHEETING']\n",
    "    df = df.drop(df.loc[:, 'RIGHT_WHEEL_HOUSE_SHEETING':'FLOOR_PANEL_SHEETING'].head(0).columns, axis=1)\n",
    "    \n",
    "    df['SHEETING_SUM'] = df_sub.sum(axis = 1)\n",
    "    #print(df['SHEETING_SUM'])\n",
    "    \n",
    "    df['SHEETING_BOOL'] = [0 for i in range(df.shape[0])]\n",
    "    for i in range(df.shape[0]):\n",
    "        if df['SHEETING_SUM'][i] == 0:\n",
    "            df['SHEETING_BOOL'][i] = 0\n",
    "        else:\n",
    "            df['SHEETING_BOOL'][i] = 1\n",
    "    #print(df['SHEETING_BOOL'])\n",
    "    return df\n",
    "\n",
    "# 두 함수 합친것\n",
    "def merge_exchange_and_sheeting(df_tmp):\n",
    "    df = df_tmp.copy()\n",
    "    df_1 = merge_exchange(df)\n",
    "    df_2 = merge_sheeting(df_1)\n",
    "    return df_2"
   ]
  },
  {
   "cell_type": "code",
   "execution_count": 102,
   "metadata": {
    "colab": {
     "base_uri": "https://localhost:8080/",
     "height": 35
    },
    "id": "11MYGpF768It",
    "outputId": "3bcb4b3b-e85d-4efe-a919-b45072f715fe"
   },
   "outputs": [
    {
     "data": {
      "text/plain": [
       "(35374, 93)"
      ]
     },
     "execution_count": 102,
     "metadata": {},
     "output_type": "execute_result"
    }
   ],
   "source": [
    "df_18.shape"
   ]
  },
  {
   "cell_type": "code",
   "execution_count": 112,
   "metadata": {
    "id": "L1o8ctbzEkL3"
   },
   "outputs": [
    {
     "data": {
      "image/png": "[encoded data removed]",
      "text/plain": [
       "<Figure size 720x720 with 1 Axes>"
      ]
     },
     "metadata": {
      "needs_background": "light"
     },
     "output_type": "display_data"
    }
   ],
   "source": [
    "##Feature Importance\n",
    "\n",
    "def plot_feature_importance(importance_, features_, model_type):\n",
    "    dict_ = {'feature importance' : importance_, 'features' : features_}\n",
    "    df = pd.DataFrame(dict_)\n",
    "    df.sort_values(by=['feature importance'], ascending=False,inplace=True)\n",
    "    plt.figure(figsize=(10,10))\n",
    "    sns.barplot(x=df['feature importance'], y=df['features'][0:20])\n",
    "    plt.title(model_type + 'FEATURE IMPORTANCE')\n",
    "    plt.xlabel('FEATURE IMPORTANCE')\n",
    "    plt.ylabel('FEATURE NAMES')\n",
    "    \n",
    "plot_feature_importance(gcv.best_estimator_.feature_importances_, x_val.columns, 'RANDOM FOREST')"
   ]
  }
 ],
 "metadata": {
  "colab": {
   "collapsed_sections": [
    "jmJIMFiGY8z7",
    "Y5K3Bc3CZ2TE"
   ],
   "name": "ADX_P1_Team5_Copied.ipynb",
   "provenance": []
  },
  "kernelspec": {
   "display_name": "Python 3",
   "language": "python",
   "name": "python3"
  },
  "language_info": {
   "codemirror_mode": {
    "name": "ipython",
    "version": 3
   },
   "file_extension": ".py",
   "mimetype": "text/x-python",
   "name": "python",
   "nbconvert_exporter": "python",
   "pygments_lexer": "ipython3",
   "version": "3.8.5"
  }
 },
 "nbformat": 4,
 "nbformat_minor": 1
}
